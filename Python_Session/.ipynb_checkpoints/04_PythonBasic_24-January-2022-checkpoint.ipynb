{
 "cells": [
  {
   "cell_type": "code",
   "execution_count": 8,
   "id": "7aaca486",
   "metadata": {},
   "outputs": [],
   "source": [
    "kadayıf = True  # olmazsa olmaz\n",
    "\n",
    "# iç  ---> # olmazsa olmaz\n",
    "fındık = True # fart etmez\n",
    "fıstık = True # fark etmez\n",
    "ceviz = True # fark etmez\n",
    "\n",
    "# şerbet  --> olmazsa olmaz\n",
    "su = True\n",
    "şeker = True\n",
    "\n",
    "yumurta = True  # olmazsa olmaz"
   ]
  },
  {
   "cell_type": "code",
   "execution_count": null,
   "id": "eb18ddc9",
   "metadata": {},
   "outputs": [],
   "source": [
    "# yedim = kadayıf and (şerbet) and (iç) and yumurta   # şerbet içeriğini su and şeker yapmalıyız yoksa şerbet olmaz"
   ]
  },
  {
   "cell_type": "code",
   "execution_count": null,
   "id": "1218a193",
   "metadata": {},
   "outputs": [],
   "source": [
    "# yedim = kadayıf and (su and şeker) and (iç) and yumurta # şimdi iç için ise fındık fıstık ceviz or olarbilir"
   ]
  },
  {
   "cell_type": "code",
   "execution_count": 9,
   "id": "8448a765",
   "metadata": {},
   "outputs": [],
   "source": [
    "yedim = kadayıf and (su and şeker) and (fındık or fıstık or ceviz) and yumurta"
   ]
  },
  {
   "cell_type": "code",
   "execution_count": 10,
   "id": "6f20bb9f",
   "metadata": {},
   "outputs": [
    {
     "data": {
      "text/plain": [
       "True"
      ]
     },
     "execution_count": 10,
     "metadata": {},
     "output_type": "execute_result"
    }
   ],
   "source": [
    "yedim"
   ]
  },
  {
   "cell_type": "code",
   "execution_count": null,
   "id": "90ba603c",
   "metadata": {},
   "outputs": [],
   "source": [
    "# içecek olmazsa olmaz diyeim\n",
    "\n",
    "çay = True\n",
    "meşrubat = True\n",
    "limonata = Ture"
   ]
  },
  {
   "cell_type": "code",
   "execution_count": 4,
   "id": "85b7973a",
   "metadata": {
    "scrolled": true
   },
   "outputs": [
    {
     "ename": "SyntaxError",
     "evalue": "unexpected character after line continuation character (1149006485.py, line 1)",
     "output_type": "error",
     "traceback": [
      "\u001b[1;36m  Input \u001b[1;32mIn [4]\u001b[1;36m\u001b[0m\n\u001b[1;33m    yedim = kadayıf and (su and şeker) and (fındık or fıstık or ceviz) and yumurta \\ and (çay or meşrubat or limonata)\u001b[0m\n\u001b[1;37m                                                                                                                      ^\u001b[0m\n\u001b[1;31mSyntaxError\u001b[0m\u001b[1;31m:\u001b[0m unexpected character after line continuation character\n"
     ]
    }
   ],
   "source": [
    "yedim = kadayıf and (su and şeker) and (fındık or fıstık or ceviz) and yumurta \\ and (çay or meşrubat or limonata)\n",
    "yedim"
   ]
  },
  {
   "cell_type": "code",
   "execution_count": 6,
   "id": "755b6548",
   "metadata": {},
   "outputs": [],
   "source": [
    "kadayıf = True\n",
    "su = True \n",
    "şeker = True\n",
    "fındık = True\n",
    "fıstık = False\n",
    "ceviz = False\n",
    "yumurta = True\n",
    "çay = True\n",
    "meşrubat = True\n",
    "limonata = True"
   ]
  },
  {
   "cell_type": "code",
   "execution_count": 7,
   "id": "9e9709c4",
   "metadata": {},
   "outputs": [
    {
     "data": {
      "text/plain": [
       "True"
      ]
     },
     "execution_count": 7,
     "metadata": {},
     "output_type": "execute_result"
    }
   ],
   "source": [
    "yedim = kadayıf and (su and şeker) and (fındık or fıstık or ceviz) and yumurta \\\n",
    "    and (çay or meşrubat or limonata)\n",
    "yedim\n"
   ]
  },
  {
   "cell_type": "code",
   "execution_count": null,
   "id": "8d7843fd",
   "metadata": {},
   "outputs": [],
   "source": [
    "#  krito para sorusu Problem : If you had deposited a coin on the cryptocurrency exchange that brought 7% fixed profit daily for a week, how much would your $ 1000 reach at the end of the 7th day?"
   ]
  },
  {
   "cell_type": "code",
   "execution_count": 14,
   "id": "572b289d",
   "metadata": {},
   "outputs": [
    {
     "data": {
      "text/plain": [
       "1070.0"
      ]
     },
     "execution_count": 14,
     "metadata": {},
     "output_type": "execute_result"
    }
   ],
   "source": [
    "money = 1000\n",
    "money = money + money * 0.07  # pazartesi\n",
    "money"
   ]
  },
  {
   "cell_type": "code",
   "execution_count": 15,
   "id": "a757d038",
   "metadata": {},
   "outputs": [
    {
     "data": {
      "text/plain": [
       "1144.9"
      ]
     },
     "execution_count": 15,
     "metadata": {},
     "output_type": "execute_result"
    }
   ],
   "source": [
    "money = money + money * 0.07  # salı\n",
    "money"
   ]
  },
  {
   "cell_type": "code",
   "execution_count": 16,
   "id": "b685e09b",
   "metadata": {},
   "outputs": [
    {
     "data": {
      "text/plain": [
       "1225.0430000000001"
      ]
     },
     "execution_count": 16,
     "metadata": {},
     "output_type": "execute_result"
    }
   ],
   "source": [
    "money = money + money * 0.07  # çarşamba\n",
    "money"
   ]
  },
  {
   "cell_type": "code",
   "execution_count": 17,
   "id": "a3491291",
   "metadata": {},
   "outputs": [
    {
     "data": {
      "text/plain": [
       "1310.79601"
      ]
     },
     "execution_count": 17,
     "metadata": {},
     "output_type": "execute_result"
    }
   ],
   "source": [
    "money = money + money * 0.07  # perşembe\n",
    "money"
   ]
  },
  {
   "cell_type": "code",
   "execution_count": 18,
   "id": "3d92a721",
   "metadata": {},
   "outputs": [
    {
     "data": {
      "text/plain": [
       "1402.5517307"
      ]
     },
     "execution_count": 18,
     "metadata": {},
     "output_type": "execute_result"
    }
   ],
   "source": [
    "money = money + money * 0.07  # cuma\n",
    "money"
   ]
  },
  {
   "cell_type": "code",
   "execution_count": 19,
   "id": "5bb6d59b",
   "metadata": {},
   "outputs": [
    {
     "data": {
      "text/plain": [
       "1500.730351849"
      ]
     },
     "execution_count": 19,
     "metadata": {},
     "output_type": "execute_result"
    }
   ],
   "source": [
    "money = money + money * 0.07  # cts\n",
    "money"
   ]
  },
  {
   "cell_type": "code",
   "execution_count": 20,
   "id": "6e8cb3cd",
   "metadata": {},
   "outputs": [
    {
     "data": {
      "text/plain": [
       "1605.78147647843"
      ]
     },
     "execution_count": 20,
     "metadata": {},
     "output_type": "execute_result"
    }
   ],
   "source": [
    "money = money + money * 0.07  # pazar\n",
    "money"
   ]
  },
  {
   "cell_type": "code",
   "execution_count": null,
   "id": "1b305435",
   "metadata": {},
   "outputs": [],
   "source": []
  },
  {
   "cell_type": "code",
   "execution_count": 25,
   "id": "c9e96c61",
   "metadata": {},
   "outputs": [
    {
     "data": {
      "text/plain": [
       "1605.7814764784307"
      ]
     },
     "execution_count": 25,
     "metadata": {},
     "output_type": "execute_result"
    }
   ],
   "source": [
    "money_1 = 1000\n",
    "money_1 = money_1 * 1.07\n",
    "money_1 = money_1 * 1.07\n",
    "money_1 = money_1 * 1.07\n",
    "money_1 = money_1 * 1.07\n",
    "money_1 = money_1 * 1.07\n",
    "money_1 = money_1 * 1.07\n",
    "money_1 = money_1 * 1.07\n",
    "money"
   ]
  },
  {
   "cell_type": "code",
   "execution_count": 26,
   "id": "ca8dd665",
   "metadata": {},
   "outputs": [
    {
     "data": {
      "text/plain": [
       "1605.7814764784307"
      ]
     },
     "execution_count": 26,
     "metadata": {},
     "output_type": "execute_result"
    }
   ],
   "source": [
    "# en kısa olarak ise \n",
    "tutar = 1000\n",
    "tutar = 1000 * 1.07 **7\n",
    "tutar"
   ]
  },
  {
   "cell_type": "code",
   "execution_count": null,
   "id": "21753a89",
   "metadata": {},
   "outputs": [],
   "source": []
  },
  {
   "cell_type": "code",
   "execution_count": null,
   "id": "6a385215",
   "metadata": {},
   "outputs": [],
   "source": [
    "# iterable  [start : stop : step]"
   ]
  },
  {
   "cell_type": "code",
   "execution_count": 27,
   "id": "a12ac124",
   "metadata": {},
   "outputs": [
    {
     "data": {
      "text/plain": [
       "'i'"
      ]
     },
     "execution_count": 27,
     "metadata": {},
     "output_type": "execute_result"
    }
   ],
   "source": [
    "city = \"phoenix\"\n",
    "city[-2]"
   ]
  },
  {
   "cell_type": "markdown",
   "id": "b2cbdd91",
   "metadata": {},
   "source": [
    "city[5]\n"
   ]
  },
  {
   "cell_type": "code",
   "execution_count": 28,
   "id": "c4c905ad",
   "metadata": {},
   "outputs": [
    {
     "data": {
      "text/plain": [
       "'i'"
      ]
     },
     "execution_count": 28,
     "metadata": {},
     "output_type": "execute_result"
    }
   ],
   "source": [
    "city[5]"
   ]
  },
  {
   "cell_type": "code",
   "execution_count": 29,
   "id": "69158787",
   "metadata": {},
   "outputs": [
    {
     "data": {
      "text/plain": [
       "'hoe'"
      ]
     },
     "execution_count": 29,
     "metadata": {},
     "output_type": "execute_result"
    }
   ],
   "source": [
    "city[1:4]"
   ]
  },
  {
   "cell_type": "code",
   "execution_count": 30,
   "id": "8948b0dc",
   "metadata": {},
   "outputs": [
    {
     "data": {
      "text/plain": [
       "'hoen'"
      ]
     },
     "execution_count": 30,
     "metadata": {},
     "output_type": "execute_result"
    }
   ],
   "source": [
    "city[1:5]"
   ]
  },
  {
   "cell_type": "code",
   "execution_count": 31,
   "id": "ed9e8fcb",
   "metadata": {},
   "outputs": [
    {
     "data": {
      "text/plain": [
       "'hoen'"
      ]
     },
     "execution_count": 31,
     "metadata": {},
     "output_type": "execute_result"
    }
   ],
   "source": [
    "city[-6:-2]"
   ]
  },
  {
   "cell_type": "code",
   "execution_count": 32,
   "id": "1d9a1ba9",
   "metadata": {},
   "outputs": [
    {
     "data": {
      "text/plain": [
       "'hoe'"
      ]
     },
     "execution_count": 32,
     "metadata": {},
     "output_type": "execute_result"
    }
   ],
   "source": [
    "city[1:-3] # "
   ]
  },
  {
   "cell_type": "code",
   "execution_count": 33,
   "id": "c2a506ed",
   "metadata": {},
   "outputs": [
    {
     "data": {
      "text/plain": [
       "'phoe'"
      ]
     },
     "execution_count": 33,
     "metadata": {},
     "output_type": "execute_result"
    }
   ],
   "source": [
    "city[-7:4]"
   ]
  },
  {
   "attachments": {},
   "cell_type": "markdown",
   "id": "88d41d61",
   "metadata": {},
   "source": [
    "\n",
    "\n",
    "\n",
    "\n",
    "\n"
   ]
  },
  {
   "cell_type": "code",
   "execution_count": 34,
   "id": "d57e26db",
   "metadata": {},
   "outputs": [
    {
     "data": {
      "text/plain": [
       "'xineohp'"
      ]
     },
     "execution_count": 34,
     "metadata": {},
     "output_type": "execute_result"
    }
   ],
   "source": [
    "city[::-1]  # döngü değişir sağdan sola olur"
   ]
  },
  {
   "cell_type": "code",
   "execution_count": 35,
   "id": "36c14340",
   "metadata": {},
   "outputs": [
    {
     "data": {
      "text/plain": [
       "''"
      ]
     },
     "execution_count": 35,
     "metadata": {},
     "output_type": "execute_result"
    }
   ],
   "source": [
    "city[-2:-6]  # boş döndürdü çünkü step yazmadık, string normalde soldan sağadır hep\n",
    "\n",
    "# dolayısıyla en sonda -1 ile başlatmak şarttır -2 den -6 ya gidemeyiz\n",
    "\n",
    "# stop indeksi start indeksinden önce yazıldığı için boş string verdi. Her zaman önce start yazılmalı! "
   ]
  },
  {
   "cell_type": "code",
   "execution_count": 36,
   "id": "6e3a0dd3",
   "metadata": {},
   "outputs": [
    {
     "data": {
      "text/plain": [
       "'ineo'"
      ]
     },
     "execution_count": 36,
     "metadata": {},
     "output_type": "execute_result"
    }
   ],
   "source": [
    "city[-2:-6:-1]  # işte şimdi sonuç verdi"
   ]
  },
  {
   "cell_type": "code",
   "execution_count": 37,
   "id": "ef56e55b",
   "metadata": {},
   "outputs": [
    {
     "data": {
      "text/plain": [
       "''"
      ]
     },
     "execution_count": 37,
     "metadata": {},
     "output_type": "execute_result"
    }
   ],
   "source": [
    "city[2:6:-1] # aynı şekilde "
   ]
  },
  {
   "cell_type": "code",
   "execution_count": 38,
   "id": "7870fb5e",
   "metadata": {},
   "outputs": [
    {
     "name": "stdout",
     "output_type": "stream",
     "text": [
      "mus\n"
     ]
    }
   ],
   "source": [
    "animal = \"hippopotamus\"\n",
    "print(animal[-3:])"
   ]
  },
  {
   "cell_type": "code",
   "execution_count": 39,
   "id": "467a5e53",
   "metadata": {},
   "outputs": [
    {
     "data": {
      "text/plain": [
       "7"
      ]
     },
     "execution_count": 39,
     "metadata": {},
     "output_type": "execute_result"
    }
   ],
   "source": [
    "len(city) # len integer değer döndürür ve eleman sayısını verir\n",
    "# index ile length farklı sakın karıştırma"
   ]
  },
  {
   "cell_type": "code",
   "execution_count": 43,
   "id": "a317efcf",
   "metadata": {},
   "outputs": [
    {
     "data": {
      "text/plain": [
       "6"
      ]
     },
     "execution_count": 43,
     "metadata": {},
     "output_type": "execute_result"
    }
   ],
   "source": [
    "name = \"tomato\"\n",
    "len(name)"
   ]
  },
  {
   "cell_type": "code",
   "execution_count": 44,
   "id": "d6e4b17e",
   "metadata": {},
   "outputs": [
    {
     "data": {
      "text/plain": [
       "3"
      ]
     },
     "execution_count": 44,
     "metadata": {},
     "output_type": "execute_result"
    }
   ],
   "source": [
    "len(\"321\")"
   ]
  },
  {
   "cell_type": "code",
   "execution_count": 45,
   "id": "25e8f9ba",
   "metadata": {},
   "outputs": [
    {
     "data": {
      "text/plain": [
       "1"
      ]
     },
     "execution_count": 45,
     "metadata": {},
     "output_type": "execute_result"
    }
   ],
   "source": [
    "len(\"0\")"
   ]
  },
  {
   "cell_type": "code",
   "execution_count": 46,
   "id": "f8d7b092",
   "metadata": {},
   "outputs": [
    {
     "data": {
      "text/plain": [
       "3"
      ]
     },
     "execution_count": 46,
     "metadata": {},
     "output_type": "execute_result"
    }
   ],
   "source": [
    "len(\"1 1\")"
   ]
  },
  {
   "cell_type": "code",
   "execution_count": 47,
   "id": "5673535c",
   "metadata": {},
   "outputs": [
    {
     "ename": "TypeError",
     "evalue": "object of type 'int' has no len()",
     "output_type": "error",
     "traceback": [
      "\u001b[1;31m---------------------------------------------------------------------------\u001b[0m",
      "\u001b[1;31mTypeError\u001b[0m                                 Traceback (most recent call last)",
      "Input \u001b[1;32mIn [47]\u001b[0m, in \u001b[0;36m<module>\u001b[1;34m\u001b[0m\n\u001b[1;32m----> 1\u001b[0m \u001b[38;5;28;43mlen\u001b[39;49m\u001b[43m(\u001b[49m\u001b[38;5;241;43m111\u001b[39;49m\u001b[43m)\u001b[49m\n",
      "\u001b[1;31mTypeError\u001b[0m: object of type 'int' has no len()"
     ]
    }
   ],
   "source": [
    "len(111)  # itertable(stringi list, küme) olmadığından, integer olduyğundan\n",
    "# eleman sayısından söz edilemez"
   ]
  },
  {
   "cell_type": "code",
   "execution_count": null,
   "id": "203844c1",
   "metadata": {},
   "outputs": [],
   "source": [
    "# aritmetic operators + = * in string format"
   ]
  },
  {
   "cell_type": "code",
   "execution_count": null,
   "id": "77b6c449",
   "metadata": {},
   "outputs": [],
   "source": []
  },
  {
   "cell_type": "code",
   "execution_count": 50,
   "id": "6175f401",
   "metadata": {},
   "outputs": [
    {
     "name": "stdout",
     "output_type": "stream",
     "text": [
      "1\n"
     ]
    }
   ],
   "source": [
    "print(15 % 2)  # bölümünden kalanı sorar % modulus olarak adlandırılır"
   ]
  },
  {
   "cell_type": "code",
   "execution_count": 56,
   "id": "536037ae",
   "metadata": {},
   "outputs": [
    {
     "name": "stdout",
     "output_type": "stream",
     "text": [
      "121121\n"
     ]
    }
   ],
   "source": [
    "process = str((5 + 6)**2) + \"121\"\n",
    "print(process)"
   ]
  },
  {
   "cell_type": "code",
   "execution_count": 57,
   "id": "2b90475b",
   "metadata": {},
   "outputs": [
    {
     "data": {
      "text/plain": [
       "'alideliveli'"
      ]
     },
     "execution_count": 57,
     "metadata": {},
     "output_type": "execute_result"
    }
   ],
   "source": [
    "\"ali\" + \"deli\" + \"veli\""
   ]
  },
  {
   "cell_type": "code",
   "execution_count": 58,
   "id": "407bbfae",
   "metadata": {},
   "outputs": [
    {
     "data": {
      "text/plain": [
       "'100500001'"
      ]
     },
     "execution_count": 58,
     "metadata": {},
     "output_type": "execute_result"
    }
   ],
   "source": [
    "\"100\" + \"500\" + \"001\""
   ]
  },
  {
   "cell_type": "code",
   "execution_count": 59,
   "id": "b18d0562",
   "metadata": {},
   "outputs": [
    {
     "data": {
      "text/plain": [
       "'121121121121121121121121'"
      ]
     },
     "execution_count": 59,
     "metadata": {},
     "output_type": "execute_result"
    }
   ],
   "source": [
    "process = (process + process) * 2 # iki string birbirine yapışır\n",
    "process"
   ]
  },
  {
   "cell_type": "code",
   "execution_count": 60,
   "id": "ee2c13a9",
   "metadata": {},
   "outputs": [
    {
     "data": {
      "text/plain": [
       "'alialiali'"
      ]
     },
     "execution_count": 60,
     "metadata": {},
     "output_type": "execute_result"
    }
   ],
   "source": [
    "\"ali\" * 3"
   ]
  },
  {
   "cell_type": "code",
   "execution_count": 61,
   "id": "9e27af1f",
   "metadata": {},
   "outputs": [
    {
     "data": {
      "text/plain": [
       "'veliveliveli'"
      ]
     },
     "execution_count": 61,
     "metadata": {},
     "output_type": "execute_result"
    }
   ],
   "source": [
    "\"veli\" * 3"
   ]
  },
  {
   "cell_type": "code",
   "execution_count": 62,
   "id": "5d0ef9db",
   "metadata": {},
   "outputs": [
    {
     "name": "stdout",
     "output_type": "stream",
     "text": [
      "c l a r u s w a y\n"
     ]
    }
   ],
   "source": [
    "print(* \"clarusway\") # önüne yıldız koyduğumuzda elemanlarına ayırır, boşluk değil"
   ]
  },
  {
   "cell_type": "code",
   "execution_count": 63,
   "id": "42bd5cc1",
   "metadata": {},
   "outputs": [
    {
     "ename": "TypeError",
     "evalue": "unsupported operand type(s) for +: 'int' and 'str'",
     "output_type": "error",
     "traceback": [
      "\u001b[1;31m---------------------------------------------------------------------------\u001b[0m",
      "\u001b[1;31mTypeError\u001b[0m                                 Traceback (most recent call last)",
      "Input \u001b[1;32mIn [63]\u001b[0m, in \u001b[0;36m<module>\u001b[1;34m\u001b[0m\n\u001b[1;32m----> 1\u001b[0m \u001b[38;5;241;43m1\u001b[39;49m\u001b[43m \u001b[49m\u001b[38;5;241;43m+\u001b[39;49m\u001b[43m \u001b[49m\u001b[38;5;124;43m\"\u001b[39;49m\u001b[38;5;124;43m1\u001b[39;49m\u001b[38;5;124;43m\"\u001b[39;49m\n",
      "\u001b[1;31mTypeError\u001b[0m: unsupported operand type(s) for +: 'int' and 'str'"
     ]
    }
   ],
   "source": [
    "1 + \"1\" # bir str bir int bu şekilde toplamıyor"
   ]
  },
  {
   "cell_type": "code",
   "execution_count": 64,
   "id": "e675013e",
   "metadata": {},
   "outputs": [
    {
     "name": "stdout",
     "output_type": "stream",
     "text": [
      "I   a m   a n g r y . . .\n"
     ]
    }
   ],
   "source": [
    "string_1 = \"I am angry...\"\n",
    "print(* string_1)   # elemanları ayırdı"
   ]
  },
  {
   "cell_type": "code",
   "execution_count": 65,
   "id": "c499f82a",
   "metadata": {},
   "outputs": [
    {
     "name": "stdout",
     "output_type": "stream",
     "text": [
      "1 4 5 3\n"
     ]
    }
   ],
   "source": [
    "string_2 = \"1453\"\n",
    "print(* string_2)"
   ]
  },
  {
   "cell_type": "code",
   "execution_count": 66,
   "id": "03279bbc",
   "metadata": {},
   "outputs": [
    {
     "name": "stdout",
     "output_type": "stream",
     "text": [
      "j o s e p h @ c l a r u s w a y . c o m\n"
     ]
    }
   ],
   "source": [
    "string_3 = \"joseph@clarusway.com\"\n",
    "print(* string_3)"
   ]
  },
  {
   "cell_type": "code",
   "execution_count": 67,
   "id": "d38da133",
   "metadata": {},
   "outputs": [
    {
     "data": {
      "text/plain": [
       "1"
      ]
     },
     "execution_count": 67,
     "metadata": {},
     "output_type": "execute_result"
    }
   ],
   "source": [
    "len(\" \")"
   ]
  },
  {
   "cell_type": "code",
   "execution_count": 70,
   "id": "2aa63d8f",
   "metadata": {},
   "outputs": [
    {
     "name": "stdout",
     "output_type": "stream",
     "text": [
      "alideli\n"
     ]
    }
   ],
   "source": [
    "a = \"ali\"\n",
    "b = \"deli\"\n",
    "a += b  # a değişkeninin yeni değeri a ile b toplamı demektir\n",
    "print(a)"
   ]
  },
  {
   "cell_type": "code",
   "execution_count": null,
   "id": "9ec70920",
   "metadata": {},
   "outputs": [],
   "source": [
    "\"methods\".  # nokta yapıp tab tuşuna basınca çalışabilecek fonksiyonlar görütülenebiliyor"
   ]
  },
  {
   "cell_type": "code",
   "execution_count": null,
   "id": "072f8d69",
   "metadata": {},
   "outputs": [],
   "source": [
    "deneme = \"clarusway\"\n",
    "deneme.format()"
   ]
  },
  {
   "cell_type": "code",
   "execution_count": 73,
   "id": "838b3555",
   "metadata": {},
   "outputs": [],
   "source": [
    "time = \"05:00\"\n",
    "location = \"School\"\n",
    "quantity = 2\n"
   ]
  },
  {
   "cell_type": "code",
   "execution_count": 74,
   "id": "ea10a117",
   "metadata": {},
   "outputs": [
    {
     "data": {
      "text/plain": [
       "'I woke up at 05:00 am. Then went to School. When coming back, bought 2 kilos of apples'"
      ]
     },
     "execution_count": 74,
     "metadata": {},
     "output_type": "execute_result"
    }
   ],
   "source": [
    "\"I woke up at {} am. Then went to {}. When coming back, bought {} kilos of apples\".format(time, location, quantity)"
   ]
  },
  {
   "cell_type": "code",
   "execution_count": 75,
   "id": "8af88ce7",
   "metadata": {},
   "outputs": [
    {
     "data": {
      "text/plain": [
       "'I woke up at 06:00 am. Then went to tennis court. When coming back, bought 3 kilos of apples'"
      ]
     },
     "execution_count": 75,
     "metadata": {},
     "output_type": "execute_result"
    }
   ],
   "source": [
    "\"I woke up at {} am. Then went to {}. When coming back, bought {} kilos of apples\".format(\"06:00\", \"tennis court\", \"3\")"
   ]
  },
  {
   "cell_type": "code",
   "execution_count": 76,
   "id": "8b5b9260",
   "metadata": {},
   "outputs": [
    {
     "data": {
      "text/plain": [
       "'I woke up at 07:00 am. Then went to home. When coming back, bought 0.5 kilos of apples'"
      ]
     },
     "execution_count": 76,
     "metadata": {},
     "output_type": "execute_result"
    }
   ],
   "source": [
    "\"I woke up at {time} am. Then went to {loc}. When coming back, bought {quantity} kilos of apples\".format(loc= \"home\", time = \"07:00\", quantity = 0.5)\n",
    "\n",
    "# burada da format içine değerleri tanımladık o şekilde de aldık, karışık sırada olsa da yerlerine yerleşti"
   ]
  },
  {
   "cell_type": "code",
   "execution_count": 77,
   "id": "e3fd5958",
   "metadata": {},
   "outputs": [
    {
     "data": {
      "text/plain": [
       "'I woke up at 05:00 am. Then went to school. When coming back, bought 3 kilos of apples'"
      ]
     },
     "execution_count": 77,
     "metadata": {},
     "output_type": "execute_result"
    }
   ],
   "source": [
    "\"I woke up at {1} am. Then went to {0}. When coming back, bought {2} kilos of apples\".format(\"school\", \"05:00\", \"3\")\n",
    "# burada da format içinde karışık olan değerleri sayı ile atadık yerlerine gitti"
   ]
  },
  {
   "cell_type": "code",
   "execution_count": null,
   "id": "71ce17f1",
   "metadata": {},
   "outputs": [],
   "source": []
  },
  {
   "cell_type": "code",
   "execution_count": null,
   "id": "b7001e86",
   "metadata": {},
   "outputs": [],
   "source": []
  },
  {
   "cell_type": "code",
   "execution_count": null,
   "id": "17793188",
   "metadata": {},
   "outputs": [],
   "source": []
  },
  {
   "cell_type": "code",
   "execution_count": null,
   "id": "dfe4bb73",
   "metadata": {},
   "outputs": [],
   "source": []
  },
  {
   "cell_type": "code",
   "execution_count": null,
   "id": "dace5c06",
   "metadata": {},
   "outputs": [],
   "source": []
  },
  {
   "cell_type": "code",
   "execution_count": null,
   "id": "594f1822",
   "metadata": {},
   "outputs": [],
   "source": []
  },
  {
   "cell_type": "code",
   "execution_count": null,
   "id": "385bd58f",
   "metadata": {},
   "outputs": [],
   "source": []
  }
 ],
 "metadata": {
  "kernelspec": {
   "display_name": "Python 3 (ipykernel)",
   "language": "python",
   "name": "python3"
  },
  "language_info": {
   "codemirror_mode": {
    "name": "ipython",
    "version": 3
   },
   "file_extension": ".py",
   "mimetype": "text/x-python",
   "name": "python",
   "nbconvert_exporter": "python",
   "pygments_lexer": "ipython3",
   "version": "3.8.9"
  }
 },
 "nbformat": 4,
 "nbformat_minor": 5
}
