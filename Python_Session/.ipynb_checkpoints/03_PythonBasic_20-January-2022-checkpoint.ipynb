{
 "cells": [
  {
   "cell_type": "code",
   "execution_count": 1,
   "metadata": {
    "colab": {
     "base_uri": "https://localhost:8080/"
    },
    "executionInfo": {
     "elapsed": 9,
     "status": "ok",
     "timestamp": 1642702448908,
     "user": {
      "displayName": "Steve Francis",
      "photoUrl": "https://lh3.googleusercontent.com/a-/AOh14Gj7DNx8MlGATtA05o59WVd_j-MESFLefzyj6CT4=s64",
      "userId": "18286232703198830263"
     },
     "user_tz": -180
    },
    "id": "5EMw8UFKsYN1",
    "outputId": "94aeba99-3f83-4beb-814c-564121ca32d4"
   },
   "outputs": [
    {
     "name": "stdout",
     "output_type": "stream",
     "text": [
      "10\n"
     ]
    }
   ],
   "source": [
    "var = 10\n",
    "print(var)"
   ]
  },
  {
   "cell_type": "code",
   "execution_count": 3,
   "metadata": {
    "colab": {
     "base_uri": "https://localhost:8080/"
    },
    "executionInfo": {
     "elapsed": 316,
     "status": "ok",
     "timestamp": 1642702479838,
     "user": {
      "displayName": "Steve Francis",
      "photoUrl": "https://lh3.googleusercontent.com/a-/AOh14Gj7DNx8MlGATtA05o59WVd_j-MESFLefzyj6CT4=s64",
      "userId": "18286232703198830263"
     },
     "user_tz": -180
    },
    "id": "Md-u9wcTslBx",
    "outputId": "9bb5824e-21aa-47e3-ed57-c15ecae27ba3"
   },
   "outputs": [
    {
     "data": {
      "text/plain": [
       "10"
      ]
     },
     "execution_count": 3,
     "metadata": {},
     "output_type": "execute_result"
    }
   ],
   "source": [
    "var"
   ]
  },
  {
   "cell_type": "code",
   "execution_count": 8,
   "metadata": {
    "colab": {
     "base_uri": "https://localhost:8080/"
    },
    "executionInfo": {
     "elapsed": 285,
     "status": "ok",
     "timestamp": 1642702528841,
     "user": {
      "displayName": "Steve Francis",
      "photoUrl": "https://lh3.googleusercontent.com/a-/AOh14Gj7DNx8MlGATtA05o59WVd_j-MESFLefzyj6CT4=s64",
      "userId": "18286232703198830263"
     },
     "user_tz": -180
    },
    "id": "yaVA4R5XslOi",
    "outputId": "2f20de08-b9ac-443b-ac21-2e261104c554"
   },
   "outputs": [
    {
     "data": {
      "text/plain": [
       "15"
      ]
     },
     "execution_count": 8,
     "metadata": {},
     "output_type": "execute_result"
    }
   ],
   "source": [
    "var = var + 1\n",
    "var"
   ]
  },
  {
   "cell_type": "code",
   "execution_count": 10,
   "metadata": {
    "colab": {
     "base_uri": "https://localhost:8080/"
    },
    "executionInfo": {
     "elapsed": 290,
     "status": "ok",
     "timestamp": 1642702593285,
     "user": {
      "displayName": "Steve Francis",
      "photoUrl": "https://lh3.googleusercontent.com/a-/AOh14Gj7DNx8MlGATtA05o59WVd_j-MESFLefzyj6CT4=s64",
      "userId": "18286232703198830263"
     },
     "user_tz": -180
    },
    "id": "i2k2XiaLslRP",
    "outputId": "e5266fdf-8423-4a1f-9121-c7301ae01ce4"
   },
   "outputs": [
    {
     "data": {
      "text/plain": [
       "10"
      ]
     },
     "execution_count": 10,
     "metadata": {},
     "output_type": "execute_result"
    }
   ],
   "source": [
    "var2 = 5\n",
    "\n",
    "var2 = var2 * 2\n",
    "\n",
    "var2"
   ]
  },
  {
   "cell_type": "code",
   "execution_count": 11,
   "metadata": {
    "colab": {
     "base_uri": "https://localhost:8080/"
    },
    "executionInfo": {
     "elapsed": 290,
     "status": "ok",
     "timestamp": 1642702613080,
     "user": {
      "displayName": "Steve Francis",
      "photoUrl": "https://lh3.googleusercontent.com/a-/AOh14Gj7DNx8MlGATtA05o59WVd_j-MESFLefzyj6CT4=s64",
      "userId": "18286232703198830263"
     },
     "user_tz": -180
    },
    "id": "nKdbDxomslTl",
    "outputId": "9c15dc10-c59f-443b-e6c0-229ff1bbe821"
   },
   "outputs": [
    {
     "data": {
      "text/plain": [
       "20"
      ]
     },
     "execution_count": 11,
     "metadata": {},
     "output_type": "execute_result"
    }
   ],
   "source": [
    "var2 = var2 * 2   #  aynı işlem sırasında değeri sürekli işleme tabi tuatrsan multiplier olur\n",
    "var2"
   ]
  },
  {
   "cell_type": "code",
   "execution_count": 13,
   "metadata": {
    "colab": {
     "base_uri": "https://localhost:8080/"
    },
    "executionInfo": {
     "elapsed": 306,
     "status": "ok",
     "timestamp": 1642702676388,
     "user": {
      "displayName": "Steve Francis",
      "photoUrl": "https://lh3.googleusercontent.com/a-/AOh14Gj7DNx8MlGATtA05o59WVd_j-MESFLefzyj6CT4=s64",
      "userId": "18286232703198830263"
     },
     "user_tz": -180
    },
    "id": "0zjzqfW6slVw",
    "outputId": "6bed86e2-1167-4f87-861e-3124770580cf"
   },
   "outputs": [
    {
     "data": {
      "text/plain": [
       "15"
      ]
     },
     "execution_count": 13,
     "metadata": {},
     "output_type": "execute_result"
    }
   ],
   "source": [
    "var = 15\n",
    "var"
   ]
  },
  {
   "cell_type": "code",
   "execution_count": 14,
   "metadata": {
    "colab": {
     "base_uri": "https://localhost:8080/"
    },
    "executionInfo": {
     "elapsed": 297,
     "status": "ok",
     "timestamp": 1642702688674,
     "user": {
      "displayName": "Steve Francis",
      "photoUrl": "https://lh3.googleusercontent.com/a-/AOh14Gj7DNx8MlGATtA05o59WVd_j-MESFLefzyj6CT4=s64",
      "userId": "18286232703198830263"
     },
     "user_tz": -180
    },
    "id": "3Dp2m3Y6slX9",
    "outputId": "9be17290-6f18-425c-c823-49cca7f02164"
   },
   "outputs": [
    {
     "data": {
      "text/plain": [
       "16"
      ]
     },
     "execution_count": 14,
     "metadata": {},
     "output_type": "execute_result"
    }
   ],
   "source": [
    "var += 1\n",
    "var  #  burada += simgesi bize var'ı birer birer artırma komutunu veriyor"
   ]
  },
  {
   "cell_type": "code",
   "execution_count": 15,
   "metadata": {
    "colab": {
     "base_uri": "https://localhost:8080/"
    },
    "executionInfo": {
     "elapsed": 306,
     "status": "ok",
     "timestamp": 1642702787337,
     "user": {
      "displayName": "Steve Francis",
      "photoUrl": "https://lh3.googleusercontent.com/a-/AOh14Gj7DNx8MlGATtA05o59WVd_j-MESFLefzyj6CT4=s64",
      "userId": "18286232703198830263"
     },
     "user_tz": -180
    },
    "id": "7hjyQSPAslb3",
    "outputId": "eb0ac927-226b-4573-8202-c015f3fd0caf"
   },
   "outputs": [
    {
     "data": {
      "text/plain": [
       "7"
      ]
     },
     "execution_count": 15,
     "metadata": {},
     "output_type": "execute_result"
    }
   ],
   "source": [
    "var = 7\n",
    "var"
   ]
  },
  {
   "cell_type": "code",
   "execution_count": 16,
   "metadata": {
    "colab": {
     "base_uri": "https://localhost:8080/"
    },
    "executionInfo": {
     "elapsed": 337,
     "status": "ok",
     "timestamp": 1642702805998,
     "user": {
      "displayName": "Steve Francis",
      "photoUrl": "https://lh3.googleusercontent.com/a-/AOh14Gj7DNx8MlGATtA05o59WVd_j-MESFLefzyj6CT4=s64",
      "userId": "18286232703198830263"
     },
     "user_tz": -180
    },
    "id": "DZYfQl0_sleq",
    "outputId": "8299d4cd-656c-4a8b-c551-9ec9ad01f49d"
   },
   "outputs": [
    {
     "data": {
      "text/plain": [
       "14"
      ]
     },
     "execution_count": 16,
     "metadata": {},
     "output_type": "execute_result"
    }
   ],
   "source": [
    "var *= 2\n",
    "var  #  burada da çarpı kısmını yapıyoruz"
   ]
  },
  {
   "cell_type": "code",
   "execution_count": 17,
   "metadata": {
    "colab": {
     "base_uri": "https://localhost:8080/"
    },
    "executionInfo": {
     "elapsed": 350,
     "status": "ok",
     "timestamp": 1642702957337,
     "user": {
      "displayName": "Steve Francis",
      "photoUrl": "https://lh3.googleusercontent.com/a-/AOh14Gj7DNx8MlGATtA05o59WVd_j-MESFLefzyj6CT4=s64",
      "userId": "18286232703198830263"
     },
     "user_tz": -180
    },
    "id": "9QvVJNpdslhu",
    "outputId": "3253db5e-f119-4f5c-c215-5b0ce20be126"
   },
   "outputs": [
    {
     "data": {
      "text/plain": [
       "10"
      ]
     },
     "execution_count": 17,
     "metadata": {},
     "output_type": "execute_result"
    }
   ],
   "source": [
    "a = 8\n",
    "b = 2\n",
    "a += b\n",
    "a"
   ]
  },
  {
   "cell_type": "code",
   "execution_count": 18,
   "metadata": {
    "colab": {
     "base_uri": "https://localhost:8080/"
    },
    "executionInfo": {
     "elapsed": 298,
     "status": "ok",
     "timestamp": 1642703055219,
     "user": {
      "displayName": "Steve Francis",
      "photoUrl": "https://lh3.googleusercontent.com/a-/AOh14Gj7DNx8MlGATtA05o59WVd_j-MESFLefzyj6CT4=s64",
      "userId": "18286232703198830263"
     },
     "user_tz": -180
    },
    "id": "imAANe5_sljv",
    "outputId": "5f78e943-44cb-4319-afed-1068379d237c"
   },
   "outputs": [
    {
     "data": {
      "text/plain": [
       "20"
      ]
     },
     "execution_count": 18,
     "metadata": {},
     "output_type": "execute_result"
    }
   ],
   "source": [
    "a *= b\n",
    "a"
   ]
  },
  {
   "cell_type": "code",
   "execution_count": 20,
   "metadata": {
    "colab": {
     "base_uri": "https://localhost:8080/"
    },
    "executionInfo": {
     "elapsed": 316,
     "status": "ok",
     "timestamp": 1642703839002,
     "user": {
      "displayName": "Steve Francis",
      "photoUrl": "https://lh3.googleusercontent.com/a-/AOh14Gj7DNx8MlGATtA05o59WVd_j-MESFLefzyj6CT4=s64",
      "userId": "18286232703198830263"
     },
     "user_tz": -180
    },
    "id": "FR5QcECeslmA",
    "outputId": "47ebf658-c547-46f1-d2cd-50b1e246edc5"
   },
   "outputs": [
    {
     "data": {
      "text/plain": [
       "5.0"
      ]
     },
     "execution_count": 20,
     "metadata": {},
     "output_type": "execute_result"
    }
   ],
   "source": [
    "a = 3\n",
    "b = 4\n",
    "c = (a ** 2 + b ** 2) ** 0.5\n",
    "c"
   ]
  },
  {
   "cell_type": "code",
   "execution_count": 24,
   "metadata": {
    "executionInfo": {
     "elapsed": 276,
     "status": "ok",
     "timestamp": 1642704351726,
     "user": {
      "displayName": "Steve Francis",
      "photoUrl": "https://lh3.googleusercontent.com/a-/AOh14Gj7DNx8MlGATtA05o59WVd_j-MESFLefzyj6CT4=s64",
      "userId": "18286232703198830263"
     },
     "user_tz": -180
    },
    "id": "wQ4_j4H5slqI"
   },
   "outputs": [],
   "source": [
    "?print"
   ]
  },
  {
   "cell_type": "code",
   "execution_count": 28,
   "metadata": {
    "colab": {
     "base_uri": "https://localhost:8080/"
    },
    "executionInfo": {
     "elapsed": 328,
     "status": "ok",
     "timestamp": 1642704541808,
     "user": {
      "displayName": "Steve Francis",
      "photoUrl": "https://lh3.googleusercontent.com/a-/AOh14Gj7DNx8MlGATtA05o59WVd_j-MESFLefzyj6CT4=s64",
      "userId": "18286232703198830263"
     },
     "user_tz": -180
    },
    "id": "rl349oY2sltc",
    "outputId": "8e08d15d-0337-4575-dcd3-2dabf38d9d47"
   },
   "outputs": [
    {
     "name": "stdout",
     "output_type": "stream",
     "text": [
      "ali\n",
      "deli veli\n",
      "selvi baharat 44\n",
      "5.0 False ahmet 3.14\n"
     ]
    }
   ],
   "source": [
    "print(\"ali\")\n",
    "print(\"deli\", \"veli\")\n",
    "print(\"selvi\", \"baharat\", 44)\n",
    "print(c, False, \"ahmet\", 3.14)"
   ]
  },
  {
   "cell_type": "code",
   "execution_count": 30,
   "metadata": {
    "colab": {
     "base_uri": "https://localhost:8080/"
    },
    "executionInfo": {
     "elapsed": 310,
     "status": "ok",
     "timestamp": 1642705436228,
     "user": {
      "displayName": "Steve Francis",
      "photoUrl": "https://lh3.googleusercontent.com/a-/AOh14Gj7DNx8MlGATtA05o59WVd_j-MESFLefzyj6CT4=s64",
      "userId": "18286232703198830263"
     },
     "user_tz": -180
    },
    "id": "4XB4pipkslvk",
    "outputId": "eeb44ab4-ecde-4e6e-ac7b-a65ef1b9ae8f"
   },
   "outputs": [
    {
     "name": "stdout",
     "output_type": "stream",
     "text": [
      "we have reached 2022\n"
     ]
    }
   ],
   "source": [
    "number = 2022\n",
    "text = \"we have reached\"\n",
    "print(text, number)"
   ]
  },
  {
   "cell_type": "code",
   "execution_count": 33,
   "metadata": {
    "colab": {
     "base_uri": "https://localhost:8080/"
    },
    "executionInfo": {
     "elapsed": 345,
     "status": "ok",
     "timestamp": 1642705530220,
     "user": {
      "displayName": "Steve Francis",
      "photoUrl": "https://lh3.googleusercontent.com/a-/AOh14Gj7DNx8MlGATtA05o59WVd_j-MESFLefzyj6CT4=s64",
      "userId": "18286232703198830263"
     },
     "user_tz": -180
    },
    "id": "LdguOgDFx5A9",
    "outputId": "b06ed47c-7b86-451d-d2c0-f39ee4143303"
   },
   "outputs": [
    {
     "name": "stdout",
     "output_type": "stream",
     "text": [
      "5.0-False-ahmet-3.14\n"
     ]
    }
   ],
   "source": [
    "print(c, False, \"ahmet\", 3.14, sep = \"-\")"
   ]
  },
  {
   "cell_type": "code",
   "execution_count": 34,
   "metadata": {
    "colab": {
     "base_uri": "https://localhost:8080/"
    },
    "executionInfo": {
     "elapsed": 342,
     "status": "ok",
     "timestamp": 1642705591492,
     "user": {
      "displayName": "Steve Francis",
      "photoUrl": "https://lh3.googleusercontent.com/a-/AOh14Gj7DNx8MlGATtA05o59WVd_j-MESFLefzyj6CT4=s64",
      "userId": "18286232703198830263"
     },
     "user_tz": -180
    },
    "id": "dl1huX7u0Rri",
    "outputId": "adb687b2-97ad-4c41-b2ca-eb9daa62e1d5"
   },
   "outputs": [
    {
     "name": "stdout",
     "output_type": "stream",
     "text": [
      "selvi**baharat**44\n"
     ]
    }
   ],
   "source": [
    "print(\"selvi\" , \"baharat\", 44, sep= \"**\" )  # sep =\" \" içerisine ne koyarsak aralara o değeri atamaktadır"
   ]
  },
  {
   "cell_type": "code",
   "execution_count": 36,
   "metadata": {
    "colab": {
     "base_uri": "https://localhost:8080/"
    },
    "executionInfo": {
     "elapsed": 965,
     "status": "ok",
     "timestamp": 1642705831153,
     "user": {
      "displayName": "Steve Francis",
      "photoUrl": "https://lh3.googleusercontent.com/a-/AOh14Gj7DNx8MlGATtA05o59WVd_j-MESFLefzyj6CT4=s64",
      "userId": "18286232703198830263"
     },
     "user_tz": -180
    },
    "id": "3oWLBdwyx4-5",
    "outputId": "03e8a1ba-efa2-4a38-8734-87b8899c0b6c"
   },
   "outputs": [
    {
     "name": "stdout",
     "output_type": "stream",
     "text": [
      "ali\n",
      "veli ayşe\n"
     ]
    }
   ],
   "source": [
    "print(\"ali\")\n",
    "print(\"veli\", \"ayşe\")"
   ]
  },
  {
   "cell_type": "code",
   "execution_count": 37,
   "metadata": {
    "colab": {
     "base_uri": "https://localhost:8080/"
    },
    "executionInfo": {
     "elapsed": 299,
     "status": "ok",
     "timestamp": 1642705854783,
     "user": {
      "displayName": "Steve Francis",
      "photoUrl": "https://lh3.googleusercontent.com/a-/AOh14Gj7DNx8MlGATtA05o59WVd_j-MESFLefzyj6CT4=s64",
      "userId": "18286232703198830263"
     },
     "user_tz": -180
    },
    "id": "hUeVELQax48s",
    "outputId": "b0bc089f-7df4-49df-998f-49fc2755dec8"
   },
   "outputs": [
    {
     "name": "stdout",
     "output_type": "stream",
     "text": [
      "ali veli ayşe\n"
     ]
    }
   ],
   "source": [
    "print(\"ali\", end =\" \")\n",
    "print(\"veli\", \"ayşe\")  #  end değeri alt satırı üste bağlıyor"
   ]
  },
  {
   "cell_type": "code",
   "execution_count": null,
   "metadata": {
    "id": "_D4dQZvix45y"
   },
   "outputs": [],
   "source": [
    "# \\ bu karakter escape sequence yani game changer oluyo üç şekilde kullanılıyo\n",
    "# ya sihri yok ediyor, özellikli olan bazı karakterlerin özelliğini alıyo ya da sihirli hale \n",
    "#  getiriyor örneğin aşağıdaki gibi\n",
    "\n",
    "\\n : new line\n",
    "\\t : tab mark\n",
    "\\b : backspace"
   ]
  },
  {
   "cell_type": "code",
   "execution_count": 39,
   "metadata": {
    "colab": {
     "base_uri": "https://localhost:8080/",
     "height": 130
    },
    "executionInfo": {
     "elapsed": 314,
     "status": "error",
     "timestamp": 1642706751993,
     "user": {
      "displayName": "Steve Francis",
      "photoUrl": "https://lh3.googleusercontent.com/a-/AOh14Gj7DNx8MlGATtA05o59WVd_j-MESFLefzyj6CT4=s64",
      "userId": "18286232703198830263"
     },
     "user_tz": -180
    },
    "id": "SoRYRdhzx40N",
    "outputId": "85390c3b-2c91-41ee-938c-a7a5cc458995"
   },
   "outputs": [
    {
     "ename": "SyntaxError",
     "evalue": "ignored",
     "output_type": "error",
     "traceback": [
      "\u001b[0;36m  File \u001b[0;32m\"<ipython-input-39-e18638b0f60f>\"\u001b[0;36m, line \u001b[0;32m1\u001b[0m\n\u001b[0;31m    print('Ahmet'in ceketi')\u001b[0m\n\u001b[0m                            ^\u001b[0m\n\u001b[0;31mSyntaxError\u001b[0m\u001b[0;31m:\u001b[0m EOL while scanning string literal\n"
     ]
    }
   ],
   "source": [
    "print('Ahmet'in ceketi')   # error verdi çünkü tırnak olayı"
   ]
  },
  {
   "cell_type": "code",
   "execution_count": 40,
   "metadata": {
    "colab": {
     "base_uri": "https://localhost:8080/"
    },
    "executionInfo": {
     "elapsed": 321,
     "status": "ok",
     "timestamp": 1642706786701,
     "user": {
      "displayName": "Steve Francis",
      "photoUrl": "https://lh3.googleusercontent.com/a-/AOh14Gj7DNx8MlGATtA05o59WVd_j-MESFLefzyj6CT4=s64",
      "userId": "18286232703198830263"
     },
     "user_tz": -180
    },
    "id": "tJ6uahE1x4xk",
    "outputId": "98afb201-1c5b-4d8e-854a-d96c3ed9c8ef"
   },
   "outputs": [
    {
     "name": "stdout",
     "output_type": "stream",
     "text": [
      "Ahmet'in ceketi\n"
     ]
    }
   ],
   "source": [
    "print('Ahmet\\'in ceketi')  # escape sequence yukarıda özel karakter olan \"in\" i sihirini kaldırdı."
   ]
  },
  {
   "cell_type": "code",
   "execution_count": 41,
   "metadata": {
    "colab": {
     "base_uri": "https://localhost:8080/"
    },
    "executionInfo": {
     "elapsed": 297,
     "status": "ok",
     "timestamp": 1642706843851,
     "user": {
      "displayName": "Steve Francis",
      "photoUrl": "https://lh3.googleusercontent.com/a-/AOh14Gj7DNx8MlGATtA05o59WVd_j-MESFLefzyj6CT4=s64",
      "userId": "18286232703198830263"
     },
     "user_tz": -180
    },
    "id": "9b8X-OnYx4vX",
    "outputId": "98835d81-6c44-423f-c0dc-3e6ea8686ac1"
   },
   "outputs": [
    {
     "name": "stdout",
     "output_type": "stream",
     "text": [
      "Ahmet\\in ceketi\n"
     ]
    }
   ],
   "source": [
    "print('Ahmet\\in ceketi')  #  burda sihrini bozacağı bişey yok o ytüzden düz ter slaş çıktı"
   ]
  },
  {
   "cell_type": "code",
   "execution_count": 43,
   "metadata": {
    "colab": {
     "base_uri": "https://localhost:8080/"
    },
    "executionInfo": {
     "elapsed": 302,
     "status": "ok",
     "timestamp": 1642706885311,
     "user": {
      "displayName": "Steve Francis",
      "photoUrl": "https://lh3.googleusercontent.com/a-/AOh14Gj7DNx8MlGATtA05o59WVd_j-MESFLefzyj6CT4=s64",
      "userId": "18286232703198830263"
     },
     "user_tz": -180
    },
    "id": "QbW53MNjx4tS",
    "outputId": "1380cd49-a0bf-437e-e6bb-c04cd2626b5a"
   },
   "outputs": [
    {
     "name": "stdout",
     "output_type": "stream",
     "text": [
      "Ayla\n",
      "ın çantası\n"
     ]
    }
   ],
   "source": [
    "print('Ayla\\nın çantası')  #  \\n new line olduğundan alt satıra atar, string yapısını değiştirir"
   ]
  },
  {
   "cell_type": "code",
   "execution_count": 44,
   "metadata": {
    "colab": {
     "base_uri": "https://localhost:8080/"
    },
    "executionInfo": {
     "elapsed": 310,
     "status": "ok",
     "timestamp": 1642706986662,
     "user": {
      "displayName": "Steve Francis",
      "photoUrl": "https://lh3.googleusercontent.com/a-/AOh14Gj7DNx8MlGATtA05o59WVd_j-MESFLefzyj6CT4=s64",
      "userId": "18286232703198830263"
     },
     "user_tz": -180
    },
    "id": "DJEFrCcUx4qw",
    "outputId": "18df62ae-96f8-43b3-f8e4-7a5f8b7df4fc"
   },
   "outputs": [
    {
     "name": "stdout",
     "output_type": "stream",
     "text": [
      "Ayla\\nın çantası\n"
     ]
    }
   ],
   "source": [
    "print('Ayla\\\\nın çantası') # \\\\ çift yaptın mı ters slaş yanına ters slaş koydun mu geribana çevirdi"
   ]
  },
  {
   "cell_type": "code",
   "execution_count": 45,
   "metadata": {
    "colab": {
     "base_uri": "https://localhost:8080/"
    },
    "executionInfo": {
     "elapsed": 307,
     "status": "ok",
     "timestamp": 1642707978155,
     "user": {
      "displayName": "Steve Francis",
      "photoUrl": "https://lh3.googleusercontent.com/a-/AOh14Gj7DNx8MlGATtA05o59WVd_j-MESFLefzyj6CT4=s64",
      "userId": "18286232703198830263"
     },
     "user_tz": -180
    },
    "id": "-7nk8bMPx4ob",
    "outputId": "cf1a6aa9-7950-4dba-eb37-7bbe25528463"
   },
   "outputs": [
    {
     "data": {
      "text/plain": [
       "True"
      ]
     },
     "execution_count": 45,
     "metadata": {},
     "output_type": "execute_result"
    }
   ],
   "source": [
    "True and True and True  # ama en son True çıkar aslında cevap"
   ]
  },
  {
   "cell_type": "code",
   "execution_count": 46,
   "metadata": {
    "colab": {
     "base_uri": "https://localhost:8080/"
    },
    "executionInfo": {
     "elapsed": 298,
     "status": "ok",
     "timestamp": 1642708007597,
     "user": {
      "displayName": "Steve Francis",
      "photoUrl": "https://lh3.googleusercontent.com/a-/AOh14Gj7DNx8MlGATtA05o59WVd_j-MESFLefzyj6CT4=s64",
      "userId": "18286232703198830263"
     },
     "user_tz": -180
    },
    "id": "LsTARIzpx4lx",
    "outputId": "58aec697-9196-40ee-85fe-ffefaca176b0"
   },
   "outputs": [
    {
     "data": {
      "text/plain": [
       "3"
      ]
     },
     "execution_count": 46,
     "metadata": {},
     "output_type": "execute_result"
    }
   ],
   "source": [
    "1 and 2 and 3   # işte en son True olan 3 çıkar cevap"
   ]
  },
  {
   "cell_type": "code",
   "execution_count": 47,
   "metadata": {
    "colab": {
     "base_uri": "https://localhost:8080/"
    },
    "executionInfo": {
     "elapsed": 319,
     "status": "ok",
     "timestamp": 1642708042309,
     "user": {
      "displayName": "Steve Francis",
      "photoUrl": "https://lh3.googleusercontent.com/a-/AOh14Gj7DNx8MlGATtA05o59WVd_j-MESFLefzyj6CT4=s64",
      "userId": "18286232703198830263"
     },
     "user_tz": -180
    },
    "id": "kv2_nNaLx4jb",
    "outputId": "d17c6dc3-83d4-4ef1-d874-f95563efd4c2"
   },
   "outputs": [
    {
     "data": {
      "text/plain": [
       "False"
      ]
     },
     "execution_count": 47,
     "metadata": {},
     "output_type": "execute_result"
    }
   ],
   "source": [
    "bool(None)  # False verdi"
   ]
  },
  {
   "cell_type": "code",
   "execution_count": 48,
   "metadata": {
    "colab": {
     "base_uri": "https://localhost:8080/"
    },
    "executionInfo": {
     "elapsed": 295,
     "status": "ok",
     "timestamp": 1642708059682,
     "user": {
      "displayName": "Steve Francis",
      "photoUrl": "https://lh3.googleusercontent.com/a-/AOh14Gj7DNx8MlGATtA05o59WVd_j-MESFLefzyj6CT4=s64",
      "userId": "18286232703198830263"
     },
     "user_tz": -180
    },
    "id": "x1PHVUjBx4ge",
    "outputId": "2cd951c9-77dc-434f-e10f-11ad7dffe1ab"
   },
   "outputs": [
    {
     "data": {
      "text/plain": [
       "True"
      ]
     },
     "execution_count": 48,
     "metadata": {},
     "output_type": "execute_result"
    }
   ],
   "source": [
    "bool(\"0\")  # dolu str True verdi"
   ]
  },
  {
   "cell_type": "code",
   "execution_count": 49,
   "metadata": {
    "colab": {
     "base_uri": "https://localhost:8080/"
    },
    "executionInfo": {
     "elapsed": 289,
     "status": "ok",
     "timestamp": 1642708075990,
     "user": {
      "displayName": "Steve Francis",
      "photoUrl": "https://lh3.googleusercontent.com/a-/AOh14Gj7DNx8MlGATtA05o59WVd_j-MESFLefzyj6CT4=s64",
      "userId": "18286232703198830263"
     },
     "user_tz": -180
    },
    "id": "kBMVK0i1slxy",
    "outputId": "695139aa-d603-4690-f202-40685dfdce27"
   },
   "outputs": [
    {
     "data": {
      "text/plain": [
       "False"
      ]
     },
     "execution_count": 49,
     "metadata": {},
     "output_type": "execute_result"
    }
   ],
   "source": [
    "bool(\"\") # boş str False verdi, boşluk bıraksak da False verir"
   ]
  },
  {
   "cell_type": "code",
   "execution_count": 50,
   "metadata": {
    "colab": {
     "base_uri": "https://localhost:8080/"
    },
    "executionInfo": {
     "elapsed": 279,
     "status": "ok",
     "timestamp": 1642708098608,
     "user": {
      "displayName": "Steve Francis",
      "photoUrl": "https://lh3.googleusercontent.com/a-/AOh14Gj7DNx8MlGATtA05o59WVd_j-MESFLefzyj6CT4=s64",
      "userId": "18286232703198830263"
     },
     "user_tz": -180
    },
    "id": "qiSg8ZIrB-2G",
    "outputId": "1fcc06fc-694a-4264-c236-2fc77e899090"
   },
   "outputs": [
    {
     "data": {
      "text/plain": [
       "False"
      ]
     },
     "execution_count": 50,
     "metadata": {},
     "output_type": "execute_result"
    }
   ],
   "source": [
    "bool([])  # False"
   ]
  },
  {
   "cell_type": "code",
   "execution_count": 51,
   "metadata": {
    "colab": {
     "base_uri": "https://localhost:8080/"
    },
    "executionInfo": {
     "elapsed": 326,
     "status": "ok",
     "timestamp": 1642708104133,
     "user": {
      "displayName": "Steve Francis",
      "photoUrl": "https://lh3.googleusercontent.com/a-/AOh14Gj7DNx8MlGATtA05o59WVd_j-MESFLefzyj6CT4=s64",
      "userId": "18286232703198830263"
     },
     "user_tz": -180
    },
    "id": "EzOI2DPQB-0B",
    "outputId": "1470b493-24e2-4544-e58f-a2961ebbe9d3"
   },
   "outputs": [
    {
     "data": {
      "text/plain": [
       "False"
      ]
     },
     "execution_count": 51,
     "metadata": {},
     "output_type": "execute_result"
    }
   ],
   "source": [
    "bool(())  # False"
   ]
  },
  {
   "cell_type": "code",
   "execution_count": 52,
   "metadata": {
    "colab": {
     "base_uri": "https://localhost:8080/"
    },
    "executionInfo": {
     "elapsed": 308,
     "status": "ok",
     "timestamp": 1642708111116,
     "user": {
      "displayName": "Steve Francis",
      "photoUrl": "https://lh3.googleusercontent.com/a-/AOh14Gj7DNx8MlGATtA05o59WVd_j-MESFLefzyj6CT4=s64",
      "userId": "18286232703198830263"
     },
     "user_tz": -180
    },
    "id": "xrsqsBZqB-x2",
    "outputId": "70457e0a-b29a-435f-e137-fa0e4ee8da89"
   },
   "outputs": [
    {
     "data": {
      "text/plain": [
       "False"
      ]
     },
     "execution_count": 52,
     "metadata": {},
     "output_type": "execute_result"
    }
   ],
   "source": [
    "bool({})  # boş olan her bool içerik False çıkar"
   ]
  },
  {
   "cell_type": "code",
   "execution_count": 53,
   "metadata": {
    "colab": {
     "base_uri": "https://localhost:8080/"
    },
    "executionInfo": {
     "elapsed": 279,
     "status": "ok",
     "timestamp": 1642708137465,
     "user": {
      "displayName": "Steve Francis",
      "photoUrl": "https://lh3.googleusercontent.com/a-/AOh14Gj7DNx8MlGATtA05o59WVd_j-MESFLefzyj6CT4=s64",
      "userId": "18286232703198830263"
     },
     "user_tz": -180
    },
    "id": "s94RY7Z2B-uO",
    "outputId": "bcda1faa-cb0c-46d2-bae6-8bd09f7bb46d"
   },
   "outputs": [
    {
     "data": {
      "text/plain": [
       "False"
      ]
     },
     "execution_count": 53,
     "metadata": {},
     "output_type": "execute_result"
    }
   ],
   "source": [
    "bool(0)  # bunlar boolean False çıktılardır"
   ]
  },
  {
   "cell_type": "code",
   "execution_count": 54,
   "metadata": {
    "colab": {
     "base_uri": "https://localhost:8080/"
    },
    "executionInfo": {
     "elapsed": 323,
     "status": "ok",
     "timestamp": 1642709355374,
     "user": {
      "displayName": "Steve Francis",
      "photoUrl": "https://lh3.googleusercontent.com/a-/AOh14Gj7DNx8MlGATtA05o59WVd_j-MESFLefzyj6CT4=s64",
      "userId": "18286232703198830263"
     },
     "user_tz": -180
    },
    "id": "-5UFII2jB-o3",
    "outputId": "f1f49638-586a-48de-ebe3-f12ef2cf768b"
   },
   "outputs": [
    {
     "data": {
      "text/plain": [
       "0"
      ]
     },
     "execution_count": 54,
     "metadata": {},
     "output_type": "execute_result"
    }
   ],
   "source": [
    "0 and None and 1  # ilk False aldı outputa"
   ]
  },
  {
   "cell_type": "code",
   "execution_count": 55,
   "metadata": {
    "colab": {
     "base_uri": "https://localhost:8080/"
    },
    "executionInfo": {
     "elapsed": 308,
     "status": "ok",
     "timestamp": 1642709458824,
     "user": {
      "displayName": "Steve Francis",
      "photoUrl": "https://lh3.googleusercontent.com/a-/AOh14Gj7DNx8MlGATtA05o59WVd_j-MESFLefzyj6CT4=s64",
      "userId": "18286232703198830263"
     },
     "user_tz": -180
    },
    "id": "pmx6lnLTB-mk",
    "outputId": "ab8c00b7-bc8a-46b2-95fb-2a8c9637fe24"
   },
   "outputs": [
    {
     "data": {
      "text/plain": [
       "False"
      ]
     },
     "execution_count": 55,
     "metadata": {},
     "output_type": "execute_result"
    }
   ],
   "source": [
    "False and False and True"
   ]
  },
  {
   "cell_type": "code",
   "execution_count": 56,
   "metadata": {
    "colab": {
     "base_uri": "https://localhost:8080/"
    },
    "executionInfo": {
     "elapsed": 290,
     "status": "ok",
     "timestamp": 1642709479352,
     "user": {
      "displayName": "Steve Francis",
      "photoUrl": "https://lh3.googleusercontent.com/a-/AOh14Gj7DNx8MlGATtA05o59WVd_j-MESFLefzyj6CT4=s64",
      "userId": "18286232703198830263"
     },
     "user_tz": -180
    },
    "id": "Yds8-g7ZB-kT",
    "outputId": "d45b77d0-90e0-427a-c6f6-aabafe4da533"
   },
   "outputs": [
    {
     "data": {
      "text/plain": [
       "True"
      ]
     },
     "execution_count": 56,
     "metadata": {},
     "output_type": "execute_result"
    }
   ],
   "source": [
    "True or True or True  # en soldaki True alır"
   ]
  },
  {
   "cell_type": "code",
   "execution_count": 57,
   "metadata": {
    "colab": {
     "base_uri": "https://localhost:8080/"
    },
    "executionInfo": {
     "elapsed": 300,
     "status": "ok",
     "timestamp": 1642709501416,
     "user": {
      "displayName": "Steve Francis",
      "photoUrl": "https://lh3.googleusercontent.com/a-/AOh14Gj7DNx8MlGATtA05o59WVd_j-MESFLefzyj6CT4=s64",
      "userId": "18286232703198830263"
     },
     "user_tz": -180
    },
    "id": "1U9OJfLHB-h-",
    "outputId": "94da1f6f-cadb-4137-a1de-d607282299de"
   },
   "outputs": [
    {
     "data": {
      "text/plain": [
       "False"
      ]
     },
     "execution_count": 57,
     "metadata": {},
     "output_type": "execute_result"
    }
   ],
   "source": [
    "  False or False or False  # en sağdaki False alır"
   ]
  },
  {
   "cell_type": "code",
   "execution_count": 58,
   "metadata": {
    "colab": {
     "base_uri": "https://localhost:8080/",
     "height": 35
    },
    "executionInfo": {
     "elapsed": 284,
     "status": "ok",
     "timestamp": 1642709536806,
     "user": {
      "displayName": "Steve Francis",
      "photoUrl": "https://lh3.googleusercontent.com/a-/AOh14Gj7DNx8MlGATtA05o59WVd_j-MESFLefzyj6CT4=s64",
      "userId": "18286232703198830263"
     },
     "user_tz": -180
    },
    "id": "JO_WNfWMB-fg",
    "outputId": "bbe8175d-9f86-49c6-d85d-e5d60272be9d"
   },
   "outputs": [
    {
     "data": {
      "application/vnd.google.colaboratory.intrinsic+json": {
       "type": "string"
      },
      "text/plain": [
       "' '"
      ]
     },
     "execution_count": 58,
     "metadata": {},
     "output_type": "execute_result"
    }
   ],
   "source": [
    "0 or None or \" \"   # hepsi False ise en sağdaki hoca"
   ]
  },
  {
   "cell_type": "code",
   "execution_count": 60,
   "metadata": {
    "colab": {
     "base_uri": "https://localhost:8080/"
    },
    "executionInfo": {
     "elapsed": 320,
     "status": "ok",
     "timestamp": 1642709651093,
     "user": {
      "displayName": "Steve Francis",
      "photoUrl": "https://lh3.googleusercontent.com/a-/AOh14Gj7DNx8MlGATtA05o59WVd_j-MESFLefzyj6CT4=s64",
      "userId": "18286232703198830263"
     },
     "user_tz": -180
    },
    "id": "DYDkMxC_B-cb",
    "outputId": "c601be46-6875-4232-958e-0e36cf70591d"
   },
   "outputs": [
    {
     "data": {
      "text/plain": [
       "1"
      ]
     },
     "execution_count": 60,
     "metadata": {},
     "output_type": "execute_result"
    }
   ],
   "source": [
    "0 or 1 or 2 or \"\"  # or varsa ilk True verir"
   ]
  },
  {
   "cell_type": "code",
   "execution_count": 61,
   "metadata": {
    "colab": {
     "base_uri": "https://localhost:8080/"
    },
    "executionInfo": {
     "elapsed": 305,
     "status": "ok",
     "timestamp": 1642709802917,
     "user": {
      "displayName": "Steve Francis",
      "photoUrl": "https://lh3.googleusercontent.com/a-/AOh14Gj7DNx8MlGATtA05o59WVd_j-MESFLefzyj6CT4=s64",
      "userId": "18286232703198830263"
     },
     "user_tz": -180
    },
    "id": "AB_WgJUeHvup",
    "outputId": "ce2896bf-b2e3-4934-9649-be539879fb98"
   },
   "outputs": [
    {
     "data": {
      "text/plain": [
       "False"
      ]
     },
     "execution_count": 61,
     "metadata": {},
     "output_type": "execute_result"
    }
   ],
   "source": [
    "not 1"
   ]
  },
  {
   "cell_type": "code",
   "execution_count": 62,
   "metadata": {
    "colab": {
     "base_uri": "https://localhost:8080/"
    },
    "executionInfo": {
     "elapsed": 345,
     "status": "ok",
     "timestamp": 1642709813500,
     "user": {
      "displayName": "Steve Francis",
      "photoUrl": "https://lh3.googleusercontent.com/a-/AOh14Gj7DNx8MlGATtA05o59WVd_j-MESFLefzyj6CT4=s64",
      "userId": "18286232703198830263"
     },
     "user_tz": -180
    },
    "id": "Aj8hvCVJHvrl",
    "outputId": "55705720-5d84-4973-97f0-a98735334f8d"
   },
   "outputs": [
    {
     "data": {
      "text/plain": [
       "True"
      ]
     },
     "execution_count": 62,
     "metadata": {},
     "output_type": "execute_result"
    }
   ],
   "source": [
    "not False"
   ]
  },
  {
   "cell_type": "code",
   "execution_count": 63,
   "metadata": {
    "colab": {
     "base_uri": "https://localhost:8080/",
     "height": 130
    },
    "executionInfo": {
     "elapsed": 310,
     "status": "error",
     "timestamp": 1642709849018,
     "user": {
      "displayName": "Steve Francis",
      "photoUrl": "https://lh3.googleusercontent.com/a-/AOh14Gj7DNx8MlGATtA05o59WVd_j-MESFLefzyj6CT4=s64",
      "userId": "18286232703198830263"
     },
     "user_tz": -180
    },
    "id": "YGBrn1sgHvoF",
    "outputId": "820bf2d0-18ef-4d43-b24d-fc30e4de0527"
   },
   "outputs": [
    {
     "ename": "SyntaxError",
     "evalue": "ignored",
     "output_type": "error",
     "traceback": [
      "\u001b[0;36m  File \u001b[0;32m\"<ipython-input-63-81305710f639>\"\u001b[0;36m, line \u001b[0;32m1\u001b[0m\n\u001b[0;31m    1. not\u001b[0m\n\u001b[0m          ^\u001b[0m\n\u001b[0;31mSyntaxError\u001b[0m\u001b[0;31m:\u001b[0m invalid syntax\n"
     ]
    }
   ],
   "source": [
    "1. not\n",
    "2. and\n",
    "3. or"
   ]
  },
  {
   "cell_type": "code",
   "execution_count": 64,
   "metadata": {
    "colab": {
     "base_uri": "https://localhost:8080/"
    },
    "executionInfo": {
     "elapsed": 276,
     "status": "ok",
     "timestamp": 1642709877472,
     "user": {
      "displayName": "Steve Francis",
      "photoUrl": "https://lh3.googleusercontent.com/a-/AOh14Gj7DNx8MlGATtA05o59WVd_j-MESFLefzyj6CT4=s64",
      "userId": "18286232703198830263"
     },
     "user_tz": -180
    },
    "id": "fchmebe8HvlA",
    "outputId": "c0d44949-d413-4fcc-f715-da25bf91e9f3"
   },
   "outputs": [
    {
     "name": "stdout",
     "output_type": "stream",
     "text": [
      "False\n"
     ]
    }
   ],
   "source": [
    "bool_var = False and not True\n",
    "print(bool_var)  # ilk False verir"
   ]
  },
  {
   "cell_type": "code",
   "execution_count": null,
   "metadata": {
    "id": "J2KaDYCDHvhw"
   },
   "outputs": [],
   "source": [
    "# Falsy values\n",
    "None\n",
    "Zero : 0, 0.0, 0j\n",
    "Empty Seq. and"
   ]
  },
  {
   "cell_type": "code",
   "execution_count": 65,
   "metadata": {
    "colab": {
     "base_uri": "https://localhost:8080/"
    },
    "executionInfo": {
     "elapsed": 335,
     "status": "ok",
     "timestamp": 1642710138528,
     "user": {
      "displayName": "Steve Francis",
      "photoUrl": "https://lh3.googleusercontent.com/a-/AOh14Gj7DNx8MlGATtA05o59WVd_j-MESFLefzyj6CT4=s64",
      "userId": "18286232703198830263"
     },
     "user_tz": -180
    },
    "id": "Ektmw8KHHvep",
    "outputId": "6696ce3b-9186-483c-f25f-8a839a0529d8"
   },
   "outputs": [
    {
     "name": "stdout",
     "output_type": "stream",
     "text": [
      "3\n"
     ]
    }
   ],
   "source": [
    "print(2 and 3)"
   ]
  },
  {
   "cell_type": "code",
   "execution_count": 66,
   "metadata": {
    "colab": {
     "base_uri": "https://localhost:8080/"
    },
    "executionInfo": {
     "elapsed": 326,
     "status": "ok",
     "timestamp": 1642710148540,
     "user": {
      "displayName": "Steve Francis",
      "photoUrl": "https://lh3.googleusercontent.com/a-/AOh14Gj7DNx8MlGATtA05o59WVd_j-MESFLefzyj6CT4=s64",
      "userId": "18286232703198830263"
     },
     "user_tz": -180
    },
    "id": "PFWjjWWUHvaV",
    "outputId": "4188e32b-193e-464e-f9e6-b6ef35c3703a"
   },
   "outputs": [
    {
     "name": "stdout",
     "output_type": "stream",
     "text": [
      "0\n"
     ]
    }
   ],
   "source": [
    "print(1 and 0)"
   ]
  },
  {
   "cell_type": "code",
   "execution_count": 68,
   "metadata": {
    "colab": {
     "base_uri": "https://localhost:8080/"
    },
    "executionInfo": {
     "elapsed": 279,
     "status": "ok",
     "timestamp": 1642710548813,
     "user": {
      "displayName": "Steve Francis",
      "photoUrl": "https://lh3.googleusercontent.com/a-/AOh14Gj7DNx8MlGATtA05o59WVd_j-MESFLefzyj6CT4=s64",
      "userId": "18286232703198830263"
     },
     "user_tz": -180
    },
    "id": "mTZzn83hHvTs",
    "outputId": "b64c0972-43d2-4753-f11c-3f3f72e62f8c"
   },
   "outputs": [
    {
     "name": "stdout",
     "output_type": "stream",
     "text": [
      "hello\n",
      "[]\n",
      "None\n"
     ]
    }
   ],
   "source": [
    "print(2 and \"hello\")\n",
    "print ([] and 3)\n",
    "print(None and 0)  # buralara tekrar çalış"
   ]
  },
  {
   "cell_type": "code",
   "execution_count": null,
   "metadata": {
    "id": "qKr65qQPJFQd"
   },
   "outputs": [],
   "source": [
    "# and False yakalar, yoksa sondaki True bulur\n",
    "# or ilk True yakalar, yoksa ilk False alır"
   ]
  },
  {
   "cell_type": "code",
   "execution_count": 70,
   "metadata": {
    "colab": {
     "base_uri": "https://localhost:8080/",
     "height": 35
    },
    "executionInfo": {
     "elapsed": 294,
     "status": "ok",
     "timestamp": 1642711713055,
     "user": {
      "displayName": "Steve Francis",
      "photoUrl": "https://lh3.googleusercontent.com/a-/AOh14Gj7DNx8MlGATtA05o59WVd_j-MESFLefzyj6CT4=s64",
      "userId": "18286232703198830263"
     },
     "user_tz": -180
    },
    "id": "TjavwbMNJFOL",
    "outputId": "f6b09a24-a3b4-4d9e-eb05-50a9cb51f1ec"
   },
   "outputs": [
    {
     "data": {
      "application/vnd.google.colaboratory.intrinsic+json": {
       "type": "string"
      },
      "text/plain": [
       "'&% , ali del, veli-1234'"
      ]
     },
     "execution_count": 70,
     "metadata": {},
     "output_type": "execute_result"
    }
   ],
   "source": [
    "string_characters = \"&% , ali del, veli-1234\"\n",
    "string_characters"
   ]
  },
  {
   "cell_type": "code",
   "execution_count": 79,
   "metadata": {
    "colab": {
     "base_uri": "https://localhost:8080/"
    },
    "executionInfo": {
     "elapsed": 360,
     "status": "ok",
     "timestamp": 1642712091416,
     "user": {
      "displayName": "Steve Francis",
      "photoUrl": "https://lh3.googleusercontent.com/a-/AOh14Gj7DNx8MlGATtA05o59WVd_j-MESFLefzyj6CT4=s64",
      "userId": "18286232703198830263"
     },
     "user_tz": -180
    },
    "id": "7JuXOgXSJFJC",
    "outputId": "4704ad89-c308-4085-f49e-c556daec595c"
   },
   "outputs": [
    {
     "name": "stdout",
     "output_type": "stream",
     "text": [
      "Word : Orange\n"
     ]
    }
   ],
   "source": [
    "fruit = \"Orange\"\n",
    "print(\"Word :\" , fruit)"
   ]
  },
  {
   "cell_type": "code",
   "execution_count": 81,
   "metadata": {
    "colab": {
     "base_uri": "https://localhost:8080/",
     "height": 35
    },
    "executionInfo": {
     "elapsed": 286,
     "status": "ok",
     "timestamp": 1642712115350,
     "user": {
      "displayName": "Steve Francis",
      "photoUrl": "https://lh3.googleusercontent.com/a-/AOh14Gj7DNx8MlGATtA05o59WVd_j-MESFLefzyj6CT4=s64",
      "userId": "18286232703198830263"
     },
     "user_tz": -180
    },
    "id": "cccGjKESJFGU",
    "outputId": "aefe079e-a89b-49d9-d385-2b203cffd18e"
   },
   "outputs": [
    {
     "data": {
      "application/vnd.google.colaboratory.intrinsic+json": {
       "type": "string"
      },
      "text/plain": [
       "'Ora'"
      ]
     },
     "execution_count": 81,
     "metadata": {},
     "output_type": "execute_result"
    }
   ],
   "source": [
    "fruit[:3]  # : gördüğümüzde slice demektir, birden fazla eleman almak demektir"
   ]
  },
  {
   "cell_type": "code",
   "execution_count": 82,
   "metadata": {
    "colab": {
     "base_uri": "https://localhost:8080/",
     "height": 35
    },
    "executionInfo": {
     "elapsed": 286,
     "status": "ok",
     "timestamp": 1642712158761,
     "user": {
      "displayName": "Steve Francis",
      "photoUrl": "https://lh3.googleusercontent.com/a-/AOh14Gj7DNx8MlGATtA05o59WVd_j-MESFLefzyj6CT4=s64",
      "userId": "18286232703198830263"
     },
     "user_tz": -180
    },
    "id": "gEPWG8nUJFDo",
    "outputId": "6745ac3c-6ba4-48b9-976c-deb3ecff6356"
   },
   "outputs": [
    {
     "data": {
      "application/vnd.google.colaboratory.intrinsic+json": {
       "type": "string"
      },
      "text/plain": [
       "'Orange'"
      ]
     },
     "execution_count": 82,
     "metadata": {},
     "output_type": "execute_result"
    }
   ],
   "source": [
    "fruit[:]  # baştan başla sona git"
   ]
  },
  {
   "cell_type": "code",
   "execution_count": 83,
   "metadata": {
    "colab": {
     "base_uri": "https://localhost:8080/",
     "height": 35
    },
    "executionInfo": {
     "elapsed": 318,
     "status": "ok",
     "timestamp": 1642712179517,
     "user": {
      "displayName": "Steve Francis",
      "photoUrl": "https://lh3.googleusercontent.com/a-/AOh14Gj7DNx8MlGATtA05o59WVd_j-MESFLefzyj6CT4=s64",
      "userId": "18286232703198830263"
     },
     "user_tz": -180
    },
    "id": "1ReD1mFPHvQa",
    "outputId": "0f8f17e0-8195-4204-8f63-6dd8c5c4aa13"
   },
   "outputs": [
    {
     "data": {
      "application/vnd.google.colaboratory.intrinsic+json": {
       "type": "string"
      },
      "text/plain": [
       "'ange'"
      ]
     },
     "execution_count": 83,
     "metadata": {},
     "output_type": "execute_result"
    }
   ],
   "source": [
    "fruit[2:]   # 2. den başla sonrasını al, yani 0 1 2'den başla 2 de a ile başlar"
   ]
  },
  {
   "cell_type": "code",
   "execution_count": 1,
   "metadata": {
    "id": "88MnUo7_RhT_"
   },
   "outputs": [
    {
     "data": {
      "text/plain": [
       "1"
      ]
     },
     "execution_count": 1,
     "metadata": {},
     "output_type": "execute_result"
    }
   ],
   "source": [
    "1 or 2 or 3"
   ]
  },
  {
   "cell_type": "code",
   "execution_count": 2,
   "metadata": {},
   "outputs": [
    {
     "data": {
      "text/plain": [
       "0"
      ]
     },
     "execution_count": 2,
     "metadata": {},
     "output_type": "execute_result"
    }
   ],
   "source": [
    "1 and 0 and 2"
   ]
  },
  {
   "cell_type": "markdown",
   "metadata": {
    "id": "ega60An8RhRa"
   },
   "source": []
  },
  {
   "cell_type": "code",
   "execution_count": 7,
   "metadata": {
    "id": "S0Z8CA03RhOP"
   },
   "outputs": [
    {
     "ename": "SyntaxError",
     "evalue": "invalid syntax (3634088695.py, line 2)",
     "output_type": "error",
     "traceback": [
      "\u001b[1;36m  Input \u001b[1;32mIn [7]\u001b[1;36m\u001b[0m\n\u001b[1;33m    or\u001b[0m\n\u001b[1;37m    ^\u001b[0m\n\u001b[1;31mSyntaxError\u001b[0m\u001b[1;31m:\u001b[0m invalid syntax\n"
     ]
    }
   ],
   "source": [
    "{0}\n",
    "or\n",
    "and\n",
    "[]\n",
    "False\n",
    "\n",
    "{0} and False or []"
   ]
  },
  {
   "cell_type": "code",
   "execution_count": 8,
   "metadata": {
    "id": "0YSv2C2kRhLj"
   },
   "outputs": [
    {
     "data": {
      "text/plain": [
       "[]"
      ]
     },
     "execution_count": 8,
     "metadata": {},
     "output_type": "execute_result"
    }
   ],
   "source": [
    "{0} and False or []"
   ]
  },
  {
   "cell_type": "code",
   "execution_count": 33,
   "metadata": {},
   "outputs": [
    {
     "name": "stdout",
     "output_type": "stream",
     "text": [
      "Clarusway, Clarusway, Clarusway\n",
      "\tClarusway, Clarusway, Clarusway\n",
      "\tClarusway, Clarusway, Clarusway\n",
      "\t\n"
     ]
    }
   ],
   "source": [
    "text = \"Clarusway, Clarusway, Clarusway\\n\\t\"\n",
    "\n",
    "print(text * 3)"
   ]
  },
  {
   "cell_type": "code",
   "execution_count": null,
   "metadata": {},
   "outputs": [],
   "source": []
  },
  {
   "cell_type": "code",
   "execution_count": null,
   "metadata": {},
   "outputs": [],
   "source": []
  },
  {
   "cell_type": "code",
   "execution_count": null,
   "metadata": {},
   "outputs": [],
   "source": []
  },
  {
   "cell_type": "code",
   "execution_count": null,
   "metadata": {},
   "outputs": [],
   "source": []
  },
  {
   "cell_type": "code",
   "execution_count": null,
   "metadata": {},
   "outputs": [],
   "source": []
  },
  {
   "cell_type": "code",
   "execution_count": null,
   "metadata": {},
   "outputs": [],
   "source": []
  },
  {
   "cell_type": "code",
   "execution_count": null,
   "metadata": {},
   "outputs": [],
   "source": []
  },
  {
   "cell_type": "code",
   "execution_count": null,
   "metadata": {},
   "outputs": [],
   "source": []
  },
  {
   "cell_type": "code",
   "execution_count": null,
   "metadata": {},
   "outputs": [],
   "source": []
  },
  {
   "cell_type": "code",
   "execution_count": null,
   "metadata": {},
   "outputs": [],
   "source": []
  },
  {
   "cell_type": "code",
   "execution_count": null,
   "metadata": {},
   "outputs": [],
   "source": []
  }
 ],
 "metadata": {
  "colab": {
   "authorship_tag": "ABX9TyMOfIJB+8n41OuwF29qedCG",
   "collapsed_sections": [],
   "name": "20 Jan 2022.ipynb",
   "provenance": []
  },
  "kernelspec": {
   "display_name": "Python 3 (ipykernel)",
   "language": "python",
   "name": "python3"
  },
  "language_info": {
   "codemirror_mode": {
    "name": "ipython",
    "version": 3
   },
   "file_extension": ".py",
   "mimetype": "text/x-python",
   "name": "python",
   "nbconvert_exporter": "python",
   "pygments_lexer": "ipython3",
   "version": "3.8.9"
  }
 },
 "nbformat": 4,
 "nbformat_minor": 1
}
