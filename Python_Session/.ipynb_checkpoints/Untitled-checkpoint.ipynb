{
 "cells": [
  {
   "cell_type": "code",
   "execution_count": 10,
   "id": "4fd5791d",
   "metadata": {},
   "outputs": [
    {
     "ename": "TypeError",
     "evalue": "unsupported operand type(s) for -: 'type' and 'int'",
     "output_type": "error",
     "traceback": [
      "\u001b[1;31m---------------------------------------------------------------------------\u001b[0m",
      "\u001b[1;31mTypeError\u001b[0m                                 Traceback (most recent call last)",
      "Input \u001b[1;32mIn [10]\u001b[0m, in \u001b[0;36m<module>\u001b[1;34m\u001b[0m\n\u001b[0;32m      1\u001b[0m n \u001b[38;5;241m=\u001b[39m \u001b[38;5;28mint\u001b[39m\n\u001b[1;32m----> 2\u001b[0m n_fac \u001b[38;5;241m=\u001b[39m n \u001b[38;5;241m*\u001b[39m (\u001b[43mn\u001b[49m\u001b[38;5;241;43m-\u001b[39;49m\u001b[38;5;241;43m1\u001b[39;49m) \u001b[38;5;241m*\u001b[39m (n\u001b[38;5;241m-\u001b[39m\u001b[38;5;241m2\u001b[39m) \u001b[38;5;241m*\u001b[39m (n\u001b[38;5;241m-\u001b[39m\u001b[38;5;241m3\u001b[39m)\n\u001b[0;32m      5\u001b[0m \u001b[38;5;28mprint\u001b[39m(n_fac)\n",
      "\u001b[1;31mTypeError\u001b[0m: unsupported operand type(s) for -: 'type' and 'int'"
     ]
    }
   ],
   "source": [
    "n = int\n",
    "n_fac = n * (n-1) * (n-2) * (n-3)\n",
    "\n",
    "\n",
    "print(n_fac)"
   ]
  },
  {
   "cell_type": "code",
   "execution_count": 24,
   "id": "15f91d01",
   "metadata": {},
   "outputs": [
    {
     "name": "stdout",
     "output_type": "stream",
     "text": [
      "(\"it's\", 'a very', 'cold day', 'in Afyon', '.')\n"
     ]
    }
   ],
   "source": [
    "a = \"it's\"\n",
    "b = \"a very\"\n",
    "c = \"cold day\"\n",
    "d = \"in Afyon\"\n",
    "text = (a, b, c, d, \".\")\n",
    "print(text, sep='')"
   ]
  },
  {
   "cell_type": "code",
   "execution_count": 2,
   "id": "400c09dc",
   "metadata": {},
   "outputs": [
    {
     "name": "stdout",
     "output_type": "stream",
     "text": [
      "Please enter Celcius Degree: 27\n",
      " Your Celcius degree is equal to :  80.6 Fahrenheit\n"
     ]
    }
   ],
   "source": [
    "celc_degree = input( \"Please enter Celcius Degree: \")\n",
    "\n",
    "fahr_degree = (float(celc_degree) * 1.8 ) + 32\n",
    "\n",
    "print ( \" Your Celcius degree is equal to : \", fahr_degree, \"Fahrenheit\")"
   ]
  },
  {
   "cell_type": "code",
   "execution_count": 8,
   "id": "3facd233",
   "metadata": {},
   "outputs": [
    {
     "name": "stdout",
     "output_type": "stream",
     "text": [
      "Please enter kilometer : 22.4\n",
      " Your kilometer length is equal to :  13.92 miles\n"
     ]
    }
   ],
   "source": [
    "kilometer = input( \"Please enter kilometer : \")\n",
    "\n",
    "us_miles = float(kilometer) * 0.621371192\n",
    "\n",
    "print(\" Your kilometer length is equal to : \", round(us_miles, 2), \"miles\")"
   ]
  },
  {
   "cell_type": "code",
   "execution_count": 9,
   "id": "96e34730",
   "metadata": {},
   "outputs": [
    {
     "name": "stdout",
     "output_type": "stream",
     "text": [
      "False\n"
     ]
    }
   ],
   "source": [
    "print(True and False and (not True and False) and not (True or False))"
   ]
  },
  {
   "cell_type": "code",
   "execution_count": 1,
   "id": "0b6a26d5",
   "metadata": {},
   "outputs": [
    {
     "name": "stdout",
     "output_type": "stream",
     "text": [
      "False\n"
     ]
    }
   ],
   "source": [
    "print(True and False and not \"False\" and None and (\"None\" or None))"
   ]
  },
  {
   "cell_type": "code",
   "execution_count": 2,
   "id": "cd8ca6db",
   "metadata": {},
   "outputs": [
    {
     "name": "stdout",
     "output_type": "stream",
     "text": [
      "0\n"
     ]
    }
   ],
   "source": [
    "print(\"clarusway\" and 0 and not \"\" and False and (\" \" or None))"
   ]
  },
  {
   "cell_type": "code",
   "execution_count": 6,
   "id": "89a316f9",
   "metadata": {},
   "outputs": [
    {
     "name": "stdout",
     "output_type": "stream",
     "text": [
      "4\n"
     ]
    }
   ],
   "source": [
    "\n",
    "print(8//2)"
   ]
  },
  {
   "cell_type": "code",
   "execution_count": 7,
   "id": "b6663dbe",
   "metadata": {},
   "outputs": [],
   "source": [
    "ocak = mart = mayıs = temmuz = agustos = aralık = 31\n",
    "nisan = haziran = eylül = kasım = 30\n",
    "subat = 28"
   ]
  },
  {
   "cell_type": "code",
   "execution_count": 8,
   "id": "8b81a568",
   "metadata": {},
   "outputs": [
    {
     "name": "stdout",
     "output_type": "stream",
     "text": [
      "31 28 31 30 31 30 31 31 30 30 31 31\n"
     ]
    }
   ],
   "source": [
    "print(ocak, subat, mart, nisan, mayıs, haziran, temmuz, agustos, eylül, ekim, kasim, aralık)"
   ]
  },
  {
   "cell_type": "code",
   "execution_count": 9,
   "id": "7360a7f7",
   "metadata": {},
   "outputs": [
    {
     "ename": "SyntaxError",
     "evalue": "invalid syntax (2363452753.py, line 2)",
     "output_type": "error",
     "traceback": [
      "\u001b[1;36m  Input \u001b[1;32mIn [9]\u001b[1;36m\u001b[0m\n\u001b[1;33m    INPUT hours, rate\u001b[0m\n\u001b[1;37m          ^\u001b[0m\n\u001b[1;31mSyntaxError\u001b[0m\u001b[1;31m:\u001b[0m invalid syntax\n"
     ]
    }
   ],
   "source": [
    "Begin\n",
    "INPUT hours, rate\n",
    "IF hours < 40\n",
    "THEN\n",
    "    pay = hours * rate\n",
    "ELSE\n",
    "    pay = 40 * rate + (hours - 40) * rate *1.5\n",
    "OUTPUT pay\n",
    "End"
   ]
  },
  {
   "cell_type": "code",
   "execution_count": 38,
   "id": "351220eb",
   "metadata": {},
   "outputs": [
    {
     "name": "stdout",
     "output_type": "stream",
     "text": [
      "The most frequent number is 3 and it is 5 times repeated\n"
     ]
    }
   ],
   "source": [
    "numbers = [1, 3, 7, 4, 3, 0, 3, 6, 3, 3]\n",
    "\n",
    "most_freq_number = max(numbers, key = numbers.count)\n",
    "frequency = numbers.count(most_freq_number)\n",
    "print(f\"The most frequent number is {most_freq_number} and it is {frequency} times repeated\")"
   ]
  },
  {
   "cell_type": "code",
   "execution_count": 32,
   "id": "e1b7e2f4",
   "metadata": {},
   "outputs": [
    {
     "name": "stdout",
     "output_type": "stream",
     "text": [
      "in this list the most frequent number is 2 and it repeats 4 times\n"
     ]
    }
   ],
   "source": [
    "a = [2,3,1,2,3,4,2,1,2]\n",
    "how_many_times = max(a)\n",
    "most_common = max(a, key = a.count)\n",
    "print(\"in this list the most frequent number is {} and it repeats {} times\".format(most_common, how_many_times))"
   ]
  },
  {
   "cell_type": "code",
   "execution_count": 35,
   "id": "eaa27b5c",
   "metadata": {},
   "outputs": [
    {
     "data": {
      "text/plain": [
       "9"
      ]
     },
     "execution_count": 35,
     "metadata": {},
     "output_type": "execute_result"
    }
   ],
   "source": [
    "List = [1, 3, 4, 5, 4, 6, 4, 8, 4, 9]\n",
    "the_most_freq = max(List, key = List.count)\n",
    "how_many_time = max(List)\n",
    "how_many_time"
   ]
  },
  {
   "cell_type": "code",
   "execution_count": null,
   "id": "74b18004",
   "metadata": {},
   "outputs": [],
   "source": [
    "abe = \"abdbsb\"\n",
    "abe.co"
   ]
  },
  {
   "cell_type": "code",
   "execution_count": null,
   "id": "723b693f",
   "metadata": {},
   "outputs": [],
   "source": []
  },
  {
   "cell_type": "code",
   "execution_count": null,
   "id": "ee9ef83f",
   "metadata": {},
   "outputs": [],
   "source": []
  }
 ],
 "metadata": {
  "kernelspec": {
   "display_name": "Python 3 (ipykernel)",
   "language": "python",
   "name": "python3"
  },
  "language_info": {
   "codemirror_mode": {
    "name": "ipython",
    "version": 3
   },
   "file_extension": ".py",
   "mimetype": "text/x-python",
   "name": "python",
   "nbconvert_exporter": "python",
   "pygments_lexer": "ipython3",
   "version": "3.8.9"
  }
 },
 "nbformat": 4,
 "nbformat_minor": 5
}
