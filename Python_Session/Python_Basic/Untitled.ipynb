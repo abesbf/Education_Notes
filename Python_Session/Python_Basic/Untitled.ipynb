{
 "cells": [
  {
   "cell_type": "code",
   "execution_count": 1,
   "id": "4fd5791d",
   "metadata": {},
   "outputs": [
    {
     "ename": "TypeError",
     "evalue": "unsupported operand type(s) for -: 'type' and 'int'",
     "output_type": "error",
     "traceback": [
      "\u001b[1;31m---------------------------------------------------------------------------\u001b[0m",
      "\u001b[1;31mTypeError\u001b[0m                                 Traceback (most recent call last)",
      "Input \u001b[1;32mIn [1]\u001b[0m, in \u001b[0;36m<module>\u001b[1;34m\u001b[0m\n\u001b[0;32m      1\u001b[0m n \u001b[38;5;241m=\u001b[39m \u001b[38;5;28mint\u001b[39m\n\u001b[1;32m----> 2\u001b[0m n_fac \u001b[38;5;241m=\u001b[39m n \u001b[38;5;241m*\u001b[39m (\u001b[43mn\u001b[49m\u001b[38;5;241;43m-\u001b[39;49m\u001b[38;5;241;43m1\u001b[39;49m) \u001b[38;5;241m*\u001b[39m (n\u001b[38;5;241m-\u001b[39m\u001b[38;5;241m2\u001b[39m) \u001b[38;5;241m*\u001b[39m (n\u001b[38;5;241m-\u001b[39m\u001b[38;5;241m3\u001b[39m)\n\u001b[0;32m      5\u001b[0m \u001b[38;5;28mprint\u001b[39m(n_fac)\n",
      "\u001b[1;31mTypeError\u001b[0m: unsupported operand type(s) for -: 'type' and 'int'"
     ]
    }
   ],
   "source": [
    "n = int(input())\n",
    "for i in n :\n",
    "    \n",
    "\n",
    "n_fac = n * (n-1) * (n-2) * (n-3)\n",
    "\n",
    "\n",
    "print(n_fac)"
   ]
  },
  {
   "cell_type": "code",
   "execution_count": null,
   "id": "15f91d01",
   "metadata": {},
   "outputs": [],
   "source": [
    "a = \"it's\"\n",
    "b = \"a very\"\n",
    "c = \"cold day\"\n",
    "d = \"in Afyon\"\n",
    "text = (a, b, c, d, \".\")\n",
    "print(text, sep='')"
   ]
  },
  {
   "cell_type": "code",
   "execution_count": null,
   "id": "400c09dc",
   "metadata": {},
   "outputs": [],
   "source": [
    "celc_degree = input( \"Please enter Celcius Degree: \")\n",
    "\n",
    "fahr_degree = (float(celc_degree) * 1.8 ) + 32\n",
    "\n",
    "print ( \" Your Celcius degree is equal to : \", fahr_degree, \"Fahrenheit\")"
   ]
  },
  {
   "cell_type": "code",
   "execution_count": null,
   "id": "3facd233",
   "metadata": {},
   "outputs": [],
   "source": [
    "kilometer = input( \"Please enter kilometer : \")\n",
    "\n",
    "us_miles = float(kilometer) * 0.621371192\n",
    "\n",
    "print(\" Your kilometer length is equal to : \", round(us_miles, 2), \"miles\")"
   ]
  },
  {
   "cell_type": "code",
   "execution_count": null,
   "id": "96e34730",
   "metadata": {},
   "outputs": [],
   "source": [
    "print(True and False and (not True and False) and not (True or False))"
   ]
  },
  {
   "cell_type": "code",
   "execution_count": null,
   "id": "0b6a26d5",
   "metadata": {},
   "outputs": [],
   "source": [
    "print(True and False and not \"False\" and None and (\"None\" or None))"
   ]
  },
  {
   "cell_type": "code",
   "execution_count": null,
   "id": "cd8ca6db",
   "metadata": {},
   "outputs": [],
   "source": [
    "print(\"clarusway\" and 0 and not \"\" and False and (\" \" or None))"
   ]
  },
  {
   "cell_type": "code",
   "execution_count": null,
   "id": "89a316f9",
   "metadata": {},
   "outputs": [],
   "source": [
    "\n",
    "print(8//2)"
   ]
  },
  {
   "cell_type": "code",
   "execution_count": null,
   "id": "b6663dbe",
   "metadata": {},
   "outputs": [],
   "source": [
    "ocak = mart = mayıs = temmuz = agustos = aralık = 31\n",
    "nisan = haziran = eylül = kasım = 30\n",
    "subat = 28"
   ]
  },
  {
   "cell_type": "code",
   "execution_count": null,
   "id": "8b81a568",
   "metadata": {},
   "outputs": [],
   "source": [
    "print(ocak, subat, mart, nisan, mayıs, haziran, temmuz, agustos, eylül, ekim, kasim, aralık)"
   ]
  },
  {
   "cell_type": "code",
   "execution_count": null,
   "id": "7360a7f7",
   "metadata": {},
   "outputs": [],
   "source": [
    "Begin\n",
    "INPUT hours, rate\n",
    "IF hours < 40\n",
    "THEN\n",
    "    pay = hours * rate\n",
    "ELSE\n",
    "    pay = 40 * rate + (hours - 40) * rate *1.5\n",
    "OUTPUT pay\n",
    "End"
   ]
  },
  {
   "cell_type": "code",
   "execution_count": null,
   "id": "351220eb",
   "metadata": {},
   "outputs": [],
   "source": [
    "numbers = [1, 3, 7, 4, 3, 0, 3, 6, 3, 3]\n",
    "\n",
    "most_freq_number = max(numbers, key = numbers.count)\n",
    "frequency = numbers.count(most_freq_number)\n",
    "print(f\"The most frequent number is {most_freq_number} and it is {frequency} times repeated\")"
   ]
  },
  {
   "cell_type": "code",
   "execution_count": null,
   "id": "e1b7e2f4",
   "metadata": {},
   "outputs": [],
   "source": [
    "a = [2,3,1,2,3,4,2,1,2]\n",
    "how_many_times = max(a)\n",
    "most_common = max(a, key = a.count)\n",
    "print(\"in this list the most frequent number is {} and it repeats {} times\".format(most_common, how_many_times))"
   ]
  },
  {
   "cell_type": "code",
   "execution_count": null,
   "id": "eaa27b5c",
   "metadata": {},
   "outputs": [],
   "source": [
    "List = [1, 3, 4, 5, 4, 6, 4, 8, 4, 9]\n",
    "the_most_freq = max(List, key = List.count)\n",
    "how_many_time = max(List)\n",
    "how_many_time"
   ]
  },
  {
   "cell_type": "code",
   "execution_count": 3,
   "id": "74b18004",
   "metadata": {},
   "outputs": [
    {
     "data": {
      "text/plain": [
       "0"
      ]
     },
     "execution_count": 3,
     "metadata": {},
     "output_type": "execute_result"
    }
   ],
   "source": [
    "abe = (\"abd\",\"bsb\")\n",
    "abe.count(abe)"
   ]
  },
  {
   "cell_type": "code",
   "execution_count": null,
   "id": "723b693f",
   "metadata": {},
   "outputs": [],
   "source": [
    "# text = \"My two favorite flowers are tulip and rose, two favorite colors are blue and green.\"\n",
    "flowers = [[\"jasmine\", [\"lavender\", \"rose\"], \"tulip\"]]\n",
    "colors = [\"red\", (\"blue\", [\"yellow\", \"green\"]), \"pink\"]\n",
    "text = \"My two favorite flowers are {} and {}, two favourite colors are {} and {}\".format(flowers[0][2], flowers[0][1][1], colors[1][0], colors[1][1][1])\n",
    "print(text)"
   ]
  },
  {
   "cell_type": "code",
   "execution_count": null,
   "id": "79d46b39",
   "metadata": {},
   "outputs": [],
   "source": [
    "escapes = [\"\\n\\t\", (\"\\t\", \"\\t\\t\"), [\"\\n\", \"\\n\\t\\t\"]]\n",
    "\n",
    "sentence = \"I am 40 years old.{}I have two children.{} Data Science is my IT domain.\".format(escapes[0],escapes[2][1],)\n",
    "\n",
    "print(sentence)\n",
    "\n",
    "#I am 40 years old.\n",
    "    #I have two children.\n",
    "        #Data Science is my IT domain."
   ]
  },
  {
   "cell_type": "code",
   "execution_count": null,
   "id": "5e32524c",
   "metadata": {},
   "outputs": [],
   "source": [
    "dictionary = { \"animal\" : \"eşşek\",\n",
    "                \"quote\" : \"damn you\",\n",
    "                \"no_1\" : 22,\n",
    "                \"number_2\" : 3.14,\n",
    "                \"list_1\" : [\"garbage\", \"suat\", \"damn\"],\n",
    "                \"tupl_1\" : (\"god, damn, you\")\n",
    "}\n",
    "\n",
    "dictionary[\"city\"] = \"adana\"\n",
    "dict(dictionary)"
   ]
  },
  {
   "cell_type": "code",
   "execution_count": null,
   "id": "9f0c23a0",
   "metadata": {},
   "outputs": [],
   "source": [
    "dict_by_dict = dict(animal='dog', planet='neptun', number=40, pi=3.14, is_good=True)\n",
    "dict_by_dict.update({\"is_good\" : False})\n",
    "dict_by_dict"
   ]
  },
  {
   "cell_type": "code",
   "execution_count": null,
   "id": "4e8a88dc",
   "metadata": {},
   "outputs": [],
   "source": [
    "del dict_by_dict[\"planet\"]\n",
    "dict_by_dict"
   ]
  },
  {
   "cell_type": "code",
   "execution_count": null,
   "id": "9a143006",
   "metadata": {},
   "outputs": [],
   "source": [
    "print(\"planet\" in dict_by_dict)\n",
    "print(\"pi\" not in dict_by_dict)"
   ]
  },
  {
   "cell_type": "code",
   "execution_count": null,
   "id": "2b37e4a4",
   "metadata": {},
   "outputs": [],
   "source": [
    "student_ages = {\"Harry\": 29,\n",
    "                \"Clark\": 32,\n",
    "                \"Peter\": 22,\n",
    "                \"Bruce\": 36\n",
    "                }\n",
    "print(student_ages[\"Clark\"])"
   ]
  },
  {
   "cell_type": "code",
   "execution_count": null,
   "id": "d1c1d8a9",
   "metadata": {},
   "outputs": [],
   "source": [
    "customers = { \n",
    "'bank': \n",
    "{1: {'name': 'James', 'age': '27', 'sex': 'Male'}, \n",
    " 2: {'name': 'Nicole', 'age': '25', 'sex': 'Female'},  \n",
    " 3: {'name': 'Andy', 'age': '38', 'sex': 'Male'}, \n",
    " 4: {'name': 'Alex', 'age': '19', 'sex': 'Male'}, \n",
    " 5: {'name': 'Linda', 'age': '33', 'sex': 'Female'}, \n",
    "},\n",
    "'insurance':\n",
    "{1: {'name': 'Jashua', 'age': '33', 'sex': 'Male'}, \n",
    " 2: {'name': 'Marry', 'age': '66', 'sex': 'Female'},  \n",
    " 3: {'name': 'Adam', 'age': '56', 'sex': 'Male'}, \n",
    " 4: {'name': 'Samuel', 'age': '54', 'sex': 'Male'}, \n",
    " 5: {'name': 'Lisa', 'age': '22', 'sex': 'Female'},\n",
    "},\n",
    "}\n",
    "print(customers[\"insurance\"][5][\"age\"])"
   ]
  },
  {
   "cell_type": "code",
   "execution_count": 1,
   "id": "60706baa",
   "metadata": {},
   "outputs": [
    {
     "name": "stdout",
     "output_type": "stream",
     "text": [
      "3\n"
     ]
    }
   ],
   "source": [
    "print(\"xyyzxyzxzxyyabyycdyy\".count(\"yy\",3))"
   ]
  },
  {
   "cell_type": "code",
   "execution_count": 3,
   "id": "dfdfdca0",
   "metadata": {},
   "outputs": [
    {
     "name": "stdout",
     "output_type": "stream",
     "text": [
      "The max average of grades is 70.2 and the minimum average of the grades is 65.4\n"
     ]
    }
   ],
   "source": [
    "# Write a Python code that find the students who have maximum and minimum average at below. \n",
    "\n",
    "grades = {'Student-1': {'Lesson-1': 57, 'Lesson-2': 46, 'Lesson-3': 58, 'Lesson-4': 81, 'Lesson-5': 85}, \n",
    "               'Student-2': {'Lesson-1': 85, 'Lesson-2': 56, 'Lesson-3': 51, 'Lesson-4': 69, 'Lesson-5': 67}, \n",
    "               'Student-3': {'Lesson-1': 68, 'Lesson-2': 76, 'Lesson-3': 87, 'Lesson-4': 57, 'Lesson-5': 56}, \n",
    "               'Student-4': {'Lesson-1': 78, 'Lesson-2': 93, 'Lesson-3': 88, 'Lesson-4': 38, 'Lesson-5': 54}, \n",
    "               'Student-5': {'Lesson-1': 50, 'Lesson-2': 46, 'Lesson-3': 78, 'Lesson-4': 81, 'Lesson-5': 75}}\n",
    "\n",
    "average1 = sum(grades[\"Student-1\"].values()) /len(grades[\"Student-1\"].values())\n",
    "average2 = sum(grades[\"Student-2\"].values()) /len(grades[\"Student-2\"].values())\n",
    "average3 = sum(grades[\"Student-3\"].values()) /len(grades[\"Student-3\"].values())\n",
    "average4 = sum(grades[\"Student-4\"].values()) /len(grades[\"Student-4\"].values())\n",
    "average5 = sum(grades[\"Student-5\"].values()) /len(grades[\"Student-5\"].values())\n",
    "averages = [average1, average2, average3, average4, average5]\n",
    "max_avr = max(averages)\n",
    "min_avr = min(averages)\n",
    "print(\"The max average of grades is {} and the minimum average of the grades is {}\".format(max_avr,min_avr))"
   ]
  },
  {
   "cell_type": "code",
   "execution_count": 4,
   "id": "b50c9f32",
   "metadata": {},
   "outputs": [
    {
     "name": "stdout",
     "output_type": "stream",
     "text": [
      "Please use the backdoor\n"
     ]
    }
   ],
   "source": [
    "value = int(input(\"Please enter your seat number: \"))\n",
    "if value > 50 :\n",
    "    print(\"Please use the backdoor\")\n",
    "else :\n",
    "    print(\"Please use the front door\")\n",
    "    "
   ]
  },
  {
   "cell_type": "code",
   "execution_count": 6,
   "id": "7d5938c9",
   "metadata": {},
   "outputs": [
    {
     "name": "stdout",
     "output_type": "stream",
     "text": [
      "Your degree: B+\n"
     ]
    }
   ],
   "source": [
    "score = int (input(\"Enter your score :\"))\n",
    "\n",
    "if score >= 90:\n",
    "    if score >= 95:\n",
    "        Score_letter=\"A+\"\n",
    "    else:\n",
    "        Score_letter=\"A\"\n",
    "elif score >= 80:\n",
    "    if score >= 85:\n",
    "        Score_letter=\"B+\"\n",
    "    else:\n",
    "        Score_letter=\"B\"\n",
    "else:\n",
    "    Score_letter=\"below B\"\n",
    "\n",
    "print (\"Your degree: %s\" % Score_letter)\n"
   ]
  },
  {
   "cell_type": "code",
   "execution_count": 8,
   "id": "12256b7a",
   "metadata": {},
   "outputs": [
    {
     "name": "stdout",
     "output_type": "stream",
     "text": [
      "Let's play the guessing game!\n",
      "Little higher\n",
      "Little higher\n",
      "Little lower\n",
      "Little lower\n",
      "Little higher\n",
      "Little higher\n",
      "Are you a MINDREADER!!!\n"
     ]
    }
   ],
   "source": [
    "answer = 24\n",
    "\n",
    "question = 'What number am I thinking of?  '\n",
    "print (\"Let's play the guessing game!\")\n",
    "\n",
    "while True:\n",
    "    guess = int(input(question))\n",
    "\n",
    "    if guess < answer:\n",
    "        print('Little higher')\n",
    "    elif guess > answer:\n",
    "        print('Little lower')\n",
    "    else:  # guess == answer\n",
    "        print('Are you a MINDREADER!!!')\n",
    "        break"
   ]
  },
  {
   "cell_type": "code",
   "execution_count": 17,
   "id": "0114d439",
   "metadata": {},
   "outputs": [
    {
     "name": "stdout",
     "output_type": "stream",
     "text": [
      "[10, 9, 8, 7, 6, 5, 4, 3, 2, 1]\n"
     ]
    }
   ],
   "source": [
    "a = list(range(1, 11))\n",
    "a.sort(reverse=True)\n",
    "print(a)"
   ]
  },
  {
   "cell_type": "code",
   "execution_count": 23,
   "id": "a2a3bbd4",
   "metadata": {},
   "outputs": [
    {
     "name": "stdout",
     "output_type": "stream",
     "text": [
      "['eggplant', 'spinach', 'leek']\n"
     ]
    }
   ],
   "source": [
    "grocer = [\"banana\", [\"orange\", [\"apple\", \"eggplant\", \"melon\", \"spinach\", \"cheese\", \"leek\" ], \"water\"], \"mandarin\"]\n",
    "\n",
    "print(grocer[1][1][1:6:2])"
   ]
  },
  {
   "cell_type": "code",
   "execution_count": 29,
   "id": "1ec91895",
   "metadata": {},
   "outputs": [
    {
     "name": "stdout",
     "output_type": "stream",
     "text": [
      "My two favorite flowers are tulip and rose, two favorite colors are blue and green.\n"
     ]
    }
   ],
   "source": [
    "flowers = [[\"jasmine\", [\"lavender\", \"rose\"], \"tulip\"]]\n",
    "colors = [\"red\", (\"blue\", [\"yellow\", \"green\"]), \"pink\"]\n",
    "text = \"My two favorite flowers are {} and {}, two favorite colors are {} and {}.\".format(flowers[0][2],flowers[0][1][1],colors[1][0],colors[1][1][1])\n",
    "print(text)\n",
    "\n"
   ]
  },
  {
   "cell_type": "code",
   "execution_count": 41,
   "id": "697d6e27",
   "metadata": {},
   "outputs": [
    {
     "name": "stdout",
     "output_type": "stream",
     "text": [
      "I am 40 years old.\n",
      "\tI have two children.\n",
      "\t\tData Science is my IT domain.\n"
     ]
    }
   ],
   "source": [
    "escapes = [\"\\n\\t\", (\"\\t\", \"\\t\\t\"), [\"\\n\", \"\\n\\t\\t\"]]\n",
    "\n",
    "sentence = \"I am 40 years old.{}I have two children.{}Data Science is my IT domain.\".format(escapes[0],escapes[2][1])\n",
    "\n",
    "print(sentence)\n"
   ]
  },
  {
   "cell_type": "code",
   "execution_count": 43,
   "id": "9efc2102",
   "metadata": {},
   "outputs": [
    {
     "data": {
      "text/plain": [
       "[10, 20, 30, 40, 50, 60, 70, 80, 90, 100]"
      ]
     },
     "execution_count": 43,
     "metadata": {},
     "output_type": "execute_result"
    }
   ],
   "source": [
    "numbers_10 = [10, 30, 40, 50, 60, 70, 80, 90, 100]\n",
    "numbers_10.insert(1,20)\n",
    "print(numbers_10)"
   ]
  },
  {
   "cell_type": "code",
   "execution_count": 45,
   "id": "5e68eeb2",
   "metadata": {},
   "outputs": [
    {
     "name": "stdout",
     "output_type": "stream",
     "text": [
      "spinach\n"
     ]
    }
   ],
   "source": [
    "fruits_vegetables = [\"fruit\", \"vegetable\", [\"apple\", \"banana\", [\"mango\", \"avocado\"]], [\"spinach\", \"broccoli\"]]\n",
    "print(fruits_vegetables[3][0])"
   ]
  },
  {
   "cell_type": "code",
   "execution_count": 47,
   "id": "ee9ef83f",
   "metadata": {},
   "outputs": [
    {
     "data": {
      "text/plain": [
       "[123]"
      ]
     },
     "execution_count": 47,
     "metadata": {},
     "output_type": "execute_result"
    }
   ],
   "source": [
    "a = [123]\n",
    "a"
   ]
  },
  {
   "cell_type": "code",
   "execution_count": 54,
   "id": "6e71d5d8",
   "metadata": {},
   "outputs": [
    {
     "name": "stdout",
     "output_type": "stream",
     "text": [
      "[]\n"
     ]
    }
   ],
   "source": [
    "print({0} and False or [])\n"
   ]
  },
  {
   "cell_type": "code",
   "execution_count": null,
   "id": "e6469ccc",
   "metadata": {},
   "outputs": [],
   "source": [
    "var1 = \"sleep\"\n",
    "var2 = \"eat\"\n",
    "var3 = \"better\"\n",
    "var4 = \"life\"\n",
    "text = f\"The less you {var1} and {var2}, the {var3} your {var4} will be.\"\n",
    "print(text)\n"
   ]
  },
  {
   "cell_type": "code",
   "execution_count": 53,
   "id": "ede7575b",
   "metadata": {},
   "outputs": [
    {
     "name": "stdout",
     "output_type": "stream",
     "text": [
      "I live in Sarajevo.\n"
     ]
    }
   ],
   "source": [
    "city = \"SARAJEVO\"\n",
    "text = f\"I live in {city.capitalize()}.\"\n",
    "print(text)\n"
   ]
  },
  {
   "cell_type": "markdown",
   "id": "dbc59906",
   "metadata": {},
   "source": [
    "Task:\n",
    "\n",
    "Find out if a given number is an \"Armstrong Number\".\n",
    "\n",
    "An n-digit number that is the sum of the nth powers of its digits is called an n-Armstrong number. Examples :\n",
    "1- 371 = 33 + 73 + 13;\n",
    "2- 9474 = 94 + 44 + 74 + 44;\n",
    "3- 93084 = 95 + 35 + 05 + 85 + 45.\n",
    "\n",
    "Write a Python program that;\n",
    "1- takes a positive integer number from the user,\n",
    "2- checks the entered number if it is Armstrong,\n",
    "3- consider the negative, float and any entries other than numeric values then display a warning message to the user."
   ]
  },
  {
   "cell_type": "code",
   "execution_count": 22,
   "id": "0bb22eed",
   "metadata": {},
   "outputs": [
    {
     "name": "stdout",
     "output_type": "stream",
     "text": [
      "407 is NOT an Armstrong Number!\n"
     ]
    }
   ],
   "source": [
    "number = str(input(\"Please enter your number & don't use non-numeric, float, or negative values! :\"))\n",
    "str_digits = list(number)\n",
    "int_number = int(number)\n",
    "if (int_number)**len(str_digits) == int(number) :\n",
    "    print(f\"{number} is an Armstrong Number!\")\n",
    "else :\n",
    "    print(f\"{number} is NOT an Armstrong Number!\")"
   ]
  },
  {
   "cell_type": "code",
   "execution_count": 26,
   "id": "b38f0168",
   "metadata": {},
   "outputs": [
    {
     "name": "stdout",
     "output_type": "stream",
     "text": [
      "407 is an Armstrong Number!\n"
     ]
    }
   ],
   "source": [
    "number = input(\"Please enter your number & don't use non-numeric, float, or negative values! :\")\n",
    "num_list = list(number)\n",
    "end = 0\n",
    "for i in num_list:\n",
    "    x = int(i)**(len(num_list))\n",
    "    total += x\n",
    "if int(number) == total:\n",
    "    print(f\"{number} is an Armstrong Number!\")\n",
    "else:\n",
    "    print(f\"{number} is NOT an Armstrong Number!\")\n"
   ]
  },
  {
   "cell_type": "code",
   "execution_count": 31,
   "id": "b94471ba",
   "metadata": {},
   "outputs": [],
   "source": [
    "number = input(\"Please enter your number & don't use non-numeric, float, or negative values! :\")\n",
    "total = 0\n",
    "for number in number:\n",
    "    perm = int(number) * (int(number)-1)\n",
    "if number == 1 :\n",
    "    print(perm)\n",
    "\n",
    "    \n",
    "\n"
   ]
  },
  {
   "cell_type": "code",
   "execution_count": 66,
   "id": "b06c43e0",
   "metadata": {},
   "outputs": [
    {
     "name": "stdout",
     "output_type": "stream",
     "text": [
      "5 sayısının faktöriyeli = 120\n"
     ]
    }
   ],
   "source": [
    "x = int(input(\"Lütfen bir sayı giriniz : \"))\n",
    "a = 1\n",
    "for i in range (1, x+1):\n",
    "    a = a*i\n",
    "print(str(x) + ' sayısının faktöriyeli = '+ str(a))"
   ]
  },
  {
   "cell_type": "code",
   "execution_count": 37,
   "id": "068dd08c",
   "metadata": {},
   "outputs": [
    {
     "data": {
      "text/plain": [
       "4"
      ]
     },
     "execution_count": 37,
     "metadata": {},
     "output_type": "execute_result"
    }
   ],
   "source": []
  },
  {
   "cell_type": "code",
   "execution_count": 57,
   "id": "c657f9d8",
   "metadata": {},
   "outputs": [
    {
     "name": "stdout",
     "output_type": "stream",
     "text": [
      "Armstrong\n"
     ]
    }
   ],
   "source": [
    "str_number = str(input(\"Please enter your number & don't use non-numeric, float, or negative values! :\"))\n",
    "len_number = len(str_number)\n",
    "power = len_number\n",
    "total = 0\n",
    "a = 0\n",
    "while len_number > 0 :\n",
    "    var_slice = int(str_number[a:a+1])\n",
    "    a += 1\n",
    "    len_number -= 1\n",
    "    total += var_slice ** power\n",
    "\n",
    "if total == int(str_number) :\n",
    "    print(\"Armstrong\")\n",
    "    \n",
    "    \n",
    "    \n",
    "\n"
   ]
  },
  {
   "cell_type": "code",
   "execution_count": 32,
   "id": "df321de8",
   "metadata": {},
   "outputs": [
    {
     "name": "stdout",
     "output_type": "stream",
     "text": [
      "Rose\n",
      "Orchid\n",
      "Tulip\n"
     ]
    }
   ],
   "source": [
    "flowers = ['Rose', 'Orchid', 'Tulip']\n",
    "count1 = len(flowers)\n",
    "\n",
    "while count1 > 0 :\n",
    "    for i in flowers :\n",
    "            print(flowers.pop(0))\n",
    "            count1 -= 1\n",
    "    "
   ]
  },
  {
   "cell_type": "code",
   "execution_count": 33,
   "id": "1a44ed8a",
   "metadata": {},
   "outputs": [
    {
     "name": "stdout",
     "output_type": "stream",
     "text": [
      "1\n",
      "4\n",
      "9\n",
      "16\n"
     ]
    }
   ],
   "source": [
    "iterable = [1, 2, 3, 4]\n",
    "\n",
    "for i in iterable :\n",
    "    print(i**2)"
   ]
  },
  {
   "cell_type": "code",
   "execution_count": 38,
   "id": "a1b139e9",
   "metadata": {},
   "outputs": [
    {
     "name": "stdout",
     "output_type": "stream",
     "text": [
      "4x0 =  0\n",
      "4x1 =  4\n",
      "4x2 =  8\n",
      "4x3 =  12\n",
      "4x4 =  16\n",
      "4x5 =  20\n",
      "4x6 =  24\n",
      "4x7 =  28\n",
      "4x8 =  32\n",
      "4x9 =  36\n",
      "4x10 =  40\n"
     ]
    }
   ],
   "source": [
    "n = int(input('enter a number between 1-10'))\n",
    "\n",
    "for i in range(11):\n",
    "    print(f'{n}x{i} = ', (n*i))\n"
   ]
  },
  {
   "cell_type": "code",
   "execution_count": 39,
   "id": "c32787b4",
   "metadata": {},
   "outputs": [
    {
     "name": "stdout",
     "output_type": "stream",
     "text": [
      "Shipping Costs €10\n"
     ]
    }
   ],
   "source": [
    "total = 149\n",
    "country = \"FR\"\n",
    "\n",
    "if country == \"FR\":\n",
    "    if total <= 50:\n",
    "        print(\"Shipping Cost is  €30\")\n",
    "    elif total <= 100:\n",
    "        print(\"Shipping Cost is €15\")\n",
    "    elif total <= 150:\n",
    "        print(\"Shipping Costs €10\")\n",
    "    else:\n",
    "        print(\"Free Shipping\")\n",
    "if country == \"DE\": \n",
    "    if total <= 50:\n",
    "        print(\"Shipping Cost is  €25\")\n",
    "    else:\n",
    "        print(\"Free Shipping\")"
   ]
  },
  {
   "cell_type": "code",
   "execution_count": 48,
   "id": "ddf188a4",
   "metadata": {},
   "outputs": [
    {
     "name": "stdout",
     "output_type": "stream",
     "text": [
      "You must save more, keep saving!\n"
     ]
    }
   ],
   "source": [
    "ps4_price = 100\n",
    "saved_amount = int(input('Please enter your saved amount: '))\n",
    "if saved_amount >= ps4_price :\n",
    "    print(\"Yippee! You can buy your PS4\") ,\n",
    "elif saved_amount > ps4_price/2 :\n",
    "    print(\"You saved more than half, keep saving!\") ,\n",
    "elif saved_amount <= ps4_price/2 :\n",
    "    print(\"You must save more, keep saving!\") ,\n",
    "         \n"
   ]
  },
  {
   "cell_type": "code",
   "execution_count": 61,
   "id": "7d3c744c",
   "metadata": {},
   "outputs": [
    {
     "name": "stdout",
     "output_type": "stream",
     "text": [
      "F (Failed)\n"
     ]
    }
   ],
   "source": [
    "# 85-100 ➔ A (Excellent)\n",
    "# 70-84 ➔ B (Good)\n",
    "# 60-69 ➔ C (Medium)\n",
    "# 45-59 ➔ D (Not Bad)\n",
    "# 0-44 ➔ F (Failed)\n",
    "\n",
    "math_mark = int(input('Please enter the mark: '))\n",
    "if math_mark >= 85 :\n",
    "    print(\"A (Excellent)\")\n",
    "elif math_mark >= 70  :\n",
    "    print(\"B (Good)\")\n",
    "elif math_mark >= 60  :\n",
    "    print(\"C (Medium)\")\n",
    "elif math_mark >= 45  :\n",
    "    print(\"D (Not Bad)\")\n",
    "else :\n",
    "    print(\"F (Failed)\")\n",
    "    \n"
   ]
  },
  {
   "cell_type": "code",
   "execution_count": 62,
   "id": "d1b0d609",
   "metadata": {},
   "outputs": [
    {
     "name": "stdout",
     "output_type": "stream",
     "text": [
      "Day 1 : Monday\n",
      "Day 2 : Tuesday\n",
      "Day 3 : Wednesday\n",
      "Day 4 : Thursday\n",
      "Day 5 : Friday\n"
     ]
    }
   ],
   "source": [
    "weekdays = ['Monday', 'Tuesday', 'Wednesday', 'Thursday', 'Friday']\n",
    "for day in range(len (weekdays)):\n",
    "    print('Day', day+1, ':', weekdays[day])\n"
   ]
  },
  {
   "cell_type": "code",
   "execution_count": 92,
   "id": "6a6022b2",
   "metadata": {},
   "outputs": [
    {
     "name": "stdout",
     "output_type": "stream",
     "text": [
      "0\n",
      "1\n",
      "4\n",
      "9\n",
      "16\n"
     ]
    }
   ],
   "source": [
    "num = int(input('Please enter a number: '))\n",
    "while num > 0 :\n",
    "    for i in range(0,num) :\n",
    "        print(i**2)\n",
    "        num -= 1"
   ]
  },
  {
   "cell_type": "code",
   "execution_count": 95,
   "id": "d926fbf7",
   "metadata": {},
   "outputs": [
    {
     "name": "stdout",
     "output_type": "stream",
     "text": [
      "The type of {'section': 5, 'topic': 2} is <class 'dict'>\n",
      "The type of clarusway is <class 'str'>\n",
      "The type of [1, 4] is <class 'list'>\n",
      "The type of 2020 is <class 'int'>\n",
      "The type of 3.14 is <class 'float'>\n",
      "The type of (1+618j) is <class 'complex'>\n",
      "The type of False is <class 'bool'>\n",
      "The type of (10, 20) is <class 'tuple'>\n"
     ]
    }
   ],
   "source": [
    "sample_list = [{\"section\":5, \"topic\":2}, 'clarusway', [1, 4], 2020, 3.14, 1+618j, False, (10, 20)]\n",
    "for i in sample_list :\n",
    "    print(f\"The type of {i} is\", type(i))"
   ]
  },
  {
   "cell_type": "code",
   "execution_count": 101,
   "id": "255a2621",
   "metadata": {},
   "outputs": [
    {
     "name": "stdout",
     "output_type": "stream",
     "text": [
      "1\n",
      "2\n",
      "3\n",
      "4\n",
      "5\n",
      "6\n",
      "7\n",
      "8\n",
      "9\n"
     ]
    }
   ],
   "source": [
    "for i in range(1,10):\n",
    "    print(i)  # normal şartlarda her i için bir print yapar ve alt satıra iner"
   ]
  },
  {
   "cell_type": "code",
   "execution_count": 100,
   "id": "88befa0e",
   "metadata": {},
   "outputs": [
    {
     "name": "stdout",
     "output_type": "stream",
     "text": [
      "1 2 3 4 5 6 7 8 9 "
     ]
    }
   ],
   "source": [
    "for i in range(1,10):\n",
    "    print(i,end=\" \")   # nasıl yazırdık amma yan yana"
   ]
  },
  {
   "cell_type": "code",
   "execution_count": 113,
   "id": "db531b80",
   "metadata": {},
   "outputs": [
    {
     "name": "stdout",
     "output_type": "stream",
     "text": [
      "Fuck\n",
      "Fuck\n",
      "Fuck\n",
      "Fuck\n",
      "Fuck\n",
      "6\n",
      "Fuck\n",
      "Fuck\n",
      "Fuck\n",
      "Fuck\n"
     ]
    }
   ],
   "source": [
    "for i in range(1,11):  # 2 ve 3 e bölünebilen sayıları yazdır\n",
    "    if i%2 == 0 and i%3 == 0 :\n",
    "            print(i)\n",
    "    else:\n",
    "        print(\"Fuck\")"
   ]
  },
  {
   "cell_type": "code",
   "execution_count": 117,
   "id": "e3db51bb",
   "metadata": {},
   "outputs": [
    {
     "name": "stdout",
     "output_type": "stream",
     "text": [
      "1 2 3 4 5 6 7 "
     ]
    }
   ],
   "source": [
    "number = int(input(\"Please enter a number to enlarge a list: \"))\n",
    "for i in range(1 , number+1) :   # bununla 1 den başlatıp girdiğimiz sayıya kadar liste oluşturduk\n",
    "    print(i, end=\" \")"
   ]
  },
  {
   "cell_type": "code",
   "execution_count": 5,
   "id": "6513f080",
   "metadata": {},
   "outputs": [
    {
     "data": {
      "text/plain": [
       "720"
      ]
     },
     "execution_count": 5,
     "metadata": {},
     "output_type": "execute_result"
    }
   ],
   "source": [
    "total = 1\n",
    "number = int(input(\"Please enter a number to finf factorial: \"))\n",
    "for i in range(1, number+1):\n",
    "    total *= i\n",
    "total\n",
    "    \n"
   ]
  },
  {
   "cell_type": "code",
   "execution_count": 127,
   "id": "b031e371",
   "metadata": {},
   "outputs": [
    {
     "name": "stdout",
     "output_type": "stream",
     "text": [
      "S\n",
      "a\n",
      "b\n",
      "i\n",
      "r\n",
      "e\n",
      "Adını ekrana yazmışım sebp\n"
     ]
    }
   ],
   "source": [
    "word = \"Sabire\"\n",
    "for i in word :\n",
    "    print(i)\n",
    "print(\"Adını ekrana yazmışım sebp\")"
   ]
  },
  {
   "cell_type": "code",
   "execution_count": 133,
   "id": "525c0ae6",
   "metadata": {},
   "outputs": [
    {
     "name": "stdout",
     "output_type": "stream",
     "text": [
      "9\n"
     ]
    }
   ],
   "source": [
    "num1 = int(input(\"Please enter the first number: \"))\n",
    "num2 = int(input(\"Please enter the second number: \"))  # seçilen iki sayı arasındaki sayıların toplamı fakat burada her zaman ilk sayı küçük ikinci sayı büyük farz edildi, peki ya öyle değilse? alta in\n",
    "total = 0\n",
    "for i in range(num1 , num2) :\n",
    "    total += i\n",
    "print(total)"
   ]
  },
  {
   "cell_type": "code",
   "execution_count": 135,
   "id": "7fed2941",
   "metadata": {},
   "outputs": [
    {
     "name": "stdout",
     "output_type": "stream",
     "text": [
      "3\n"
     ]
    }
   ],
   "source": [
    "num1 = int(input(\"Please enter the first number: \"))\n",
    "num2 = int(input(\"Please enter the second number: \"))  # işte burada sayı nasıl girilirse girilsin zımbolar\n",
    "total = 0\n",
    "if num1 < num2 :\n",
    "    for i in range(num1 , num2) :\n",
    "            total += i\n",
    "else :\n",
    "    for i in range(num2,num1) :\n",
    "        total += i\n",
    "print(total)"
   ]
  },
  {
   "cell_type": "code",
   "execution_count": 137,
   "id": "8ca81355",
   "metadata": {},
   "outputs": [
    {
     "name": "stdout",
     "output_type": "stream",
     "text": [
      "16\n"
     ]
    }
   ],
   "source": [
    "num1 = int(input(\"Please enter the first number: \"))\n",
    "num2 = int(input(\"Please enter the second number: \"))\n",
    "if num1 != num2 :\n",
    "    print(num1+num2)\n",
    "else :\n",
    "    print((num1+num2)*2)"
   ]
  },
  {
   "cell_type": "code",
   "execution_count": 2,
   "id": "fd3b999a",
   "metadata": {},
   "outputs": [
    {
     "ename": "NameError",
     "evalue": "name 'enumerate_' is not defined",
     "output_type": "error",
     "traceback": [
      "\u001b[1;31m---------------------------------------------------------------------------\u001b[0m",
      "\u001b[1;31mNameError\u001b[0m                                 Traceback (most recent call last)",
      "\u001b[1;32mc:\\Users\\Asus\\Desktop\\Notebooks\\Python\\Untitled.ipynb Cell 64'\u001b[0m in \u001b[0;36m<module>\u001b[1;34m\u001b[0m\n\u001b[0;32m      <a href='vscode-notebook-cell:/c%3A/Users/Asus/Desktop/Notebooks/Python/Untitled.ipynb#ch0000063?line=0'>1</a>\u001b[0m a \u001b[39m=\u001b[39m \u001b[39m\"\u001b[39m\u001b[39mrob\u001b[39m\u001b[39m\"\u001b[39m\n\u001b[1;32m----> <a href='vscode-notebook-cell:/c%3A/Users/Asus/Desktop/Notebooks/Python/Untitled.ipynb#ch0000063?line=2'>3</a>\u001b[0m \u001b[39mlist\u001b[39m(enumerate_(\u001b[39m\"\u001b[39m\u001b[39mrod\u001b[39m\u001b[39m\"\u001b[39m))\n",
      "\u001b[1;31mNameError\u001b[0m: name 'enumerate_' is not defined"
     ]
    }
   ],
   "source": [
    "a = \"rob\"\n",
    "\n",
    "list(enumerate_(\"rod\"))"
   ]
  },
  {
   "cell_type": "code",
   "execution_count": null,
   "id": "22902e52",
   "metadata": {},
   "outputs": [],
   "source": [
    "# Soru -1\n",
    "# zaman = int(input(\"Lütfen çalışma senenizi giriniz:\"))\n",
    "# maas = int(input(\"Aldıgınız maası giriniz:\"))\n",
    "# if zaman > 5:\n",
    "#     bonus = maas*0.05\n",
    "#     print(f\"Tebrikler 5 senenizi doldurgunuz için {int(bonus)}$ bonus almaya hak kazandınız.\")\n",
    "# else:\n",
    "#     print(\"Biraz daha zamana ihtiyacınız var\")\n",
    "​\n",
    "# Soru-2\n",
    "# quantity = 10\n",
    "# if quantity*100 > 1000 :\n",
    "#     discount = (quantity*100)*0.1\n",
    "#     print(f\"Toplam alışverişiniz {quantity*100}tl tutmuştur. 1000 tl yi geçtiğiniz için %10 indirim kazandınız.Ödemeniz gerken tutar {quantity*100-discount}tl dir.\")\n",
    "# else:\n",
    "#     print(f\"Ödemeniz gereken tutar {quantity*100} tldir.\")\n",
    "​\n",
    "# Soru -4\n",
    "# haftanın_günler = {\"1\":\"Monday\",\n",
    "#                    \"2\":\"Tuesday\",\n",
    "#                    \"3\":\"Wednesday\",\n",
    "#                    \"4\":\"Thursday\",\n",
    "#                    \"5\":\"Friday\",\n",
    "#                    \"6\":\"Saturday\",\n",
    "#                    \"7\":\"Sunday\"}\n",
    "​\n",
    "# sayı = input(\"Lütfen 1-7 arasında bir sayı giriniz:\")\n",
    "# if 0 < int(sayı) < 8:\n",
    "#     print(haftanın_günler[sayı])\n",
    "# else:\n",
    "#     print(\"hatalı giriş yaptınız.\")\n",
    "​\n",
    "​\n",
    "# a = [\"Monday\", \"Tuesday\", \"Wednesday\", \"Thursday\", \"Friday\", \"Saturday\", \"Sunday\"]\n",
    "# b = [\"1\",\"2\",\"3\",\"4\",\"5\",\"6\",\"7\"]\n",
    "# c = zip(a, b)\n",
    "# e = list(c)\n",
    "# print(e)\n",
    "# d = input(\"Sayı Giriniz\")\n",
    "# if d in b:\n",
    "#     print(e[int(d)-1][0])\n",
    "​\n",
    "​\n",
    "# Soru-5\n",
    "# sesli_harfler = [\"a\",\"e\",\"ı\",\"i\",\"u\",\"ü\",\"o\",\"ö\"]\n",
    "​\n",
    "# a_string = \"Muaaoiz\"\n",
    "​\n",
    "# sesli_harflerin_sayısı = {}\n",
    "​\n",
    "# for i in sesli_harfler:\n",
    "#     count = a_string.count(i)\n",
    "#     sesli_harflerin_sayısı[i] = count\n",
    "# print(sesli_harflerin_sayısı)\n",
    "# ses_yeni = sum(sesli_harflerin_sayısı.values())\n",
    "# print(ses_yeni)\n",
    "​\n",
    "# Soru -6\n",
    "# Write a code that will check if two given characters are the same case.\n",
    "# If any of characters is not a letter, return -1\n",
    "# If both characters are the same case, return 1\n",
    "# If both characters are letters and not the same case, return 0\n",
    "# Examples\n",
    "# 'a' and 'g' returns 1\n",
    "​\n",
    "# 'A' and 'C' returns 1\n",
    "​\n",
    "# 'b' and 'G' returns 0\n",
    "​\n",
    "# 'B' and 'g' returns 0\n",
    "​\n",
    "# '0' and '?' returns -1\n",
    "​\n",
    "​\n",
    "kucuk_harfler = {'q', 'w', 'e', 'r', 't', 'y', 'u', 'ı', 'o', 'p', 'ğ', 'ü', 'a', 's', 'd', 'f', 'g', 'h', 'j', 'k', 'l', 'ş', 'i', 'z', 'x', 'c', 'v', 'b', 'n', 'm', 'ö', 'ç'}\n",
    "buyuk_harfler = {'Q', 'W', 'E', 'R', 'T', 'Y', 'U', 'I', 'O', 'P', 'Ğ', 'Ü', 'A', 'S', 'D', 'F', 'G', 'H', 'J', 'K', 'L', 'Ş', 'İ', 'Z', 'X', 'C', 'V', 'B', 'N', 'M', 'Ö', 'Ç'}\n",
    "​\n",
    "​\n",
    "name = input(\"Lütfen 2 karakter Giriniz:\")\n",
    "yenı_name = set(name)\n",
    "# if len(yenı_name) <=1:\n",
    "#     print(\"Eksik veya hatalı giriş yaptınız lütfen 2 karakter giriniz\")\n",
    "# else:\n",
    "#     for i in yenı_name:\n",
    "#         if (i in kucuk_harfler and i not in buyuk_harfler) and (i in buyuk_harfler and i not in kucuk_harfler):\n",
    "#             print(\"Your characters are the same case = 1\")\n",
    "#         elif i in kucuk_harfler or i in buyuk_harfler:\n",
    "#             print(\"Both characters are letters and not the same case = 0\")\n",
    "#         else:\n",
    "#             print(\"any of characters is not a letter, return -1\")\n",
    "# if 1 < len(name) < 3  :\n",
    "#     if yenı_name.issubset(kucuk_harfler):\n",
    "#         yenı_name= \"Your characters are the same case = 1\"\n",
    "#     elif yenı_name .issubset(buyuk_harfler):\n",
    "#         yenı_name= \"Your characters are the same case = 1\"\n",
    "#     elif yenı_name.issubset(kucuk_harfler | buyuk_harfler):\n",
    "#         yenı_name = \"Both characters are letters and not the same case = 0\"\n",
    "#     else:\n",
    "#         yenı_name = \"any of characters is not a letter, return -1\"\n",
    "# else:\n",
    "#     print(\"Lütfen 2 haneli bir değer giriniz\")\n",
    "# print(yenı_name)\n",
    "​\n",
    "​\n",
    "#Soru-7\n",
    "# Given a month as an integer from 1 to 12, return to which quarter of the year it belongs as an integer number.\n",
    "​\n",
    "# For example: month 2 (February), is part of the first quarter; month 6 (June), is part of the second quarter; and month 11 (November), is part of the fourth quarter.\n",
    "​\n",
    "# ay = \"1\"\n",
    "# aylar = {\"quarters-1\": {\n",
    "#             \"1\" : \"January\",\n",
    "#             \"2\" : \"February\",\n",
    "#             \"3\" : \"March\"},\n",
    "#          \"quarters-2\" : {\n",
    "#             \"4\" : \"April\",\n",
    "#             \"5\" : \"May\",\n",
    "#             \"6\" : \"June\", },\n",
    "#          \"quarters-3\" : {\n",
    "#             \"7\" : \"July\",\n",
    "#             \"8\" : \"August\",\n",
    "#             \"9\" : \"September\"},\n",
    "#          \"quarters-4\" : {\n",
    "#             \"10\": \"October\",\n",
    "#             \"11\": \"November\",\n",
    "#             \"12\": \"December\"}\n",
    "#         }\n",
    "# if ay in aylar[\"quarters-1\"]:\n",
    "#    yeni = aylar[\"quarters-1\"]\n",
    "#    print(yeni.get(ay))\n",
    "   \n",
    "​\n",
    "# Soru -8 Tidy number\n",
    "​\n",
    "y=input(\"bir sayı: \")\n",
    "x=0\n",
    "for n in y:\n",
    "  if int(n) >= x :\n",
    "    x=int(n)\n",
    "  else:\n",
    "    print(\"False\")\n",
    "    break\n",
    "if int(n) >= x:\n",
    "  print(\"True\")\n",
    "​"
   ]
  },
  {
   "cell_type": "code",
   "execution_count": 1,
   "id": "370dcded",
   "metadata": {},
   "outputs": [
    {
     "data": {
      "text/plain": [
       "2"
      ]
     },
     "execution_count": 1,
     "metadata": {},
     "output_type": "execute_result"
    }
   ],
   "source": [
    "count, fruit, price = (2,\"apple\",3.5)\n",
    "count"
   ]
  },
  {
   "cell_type": "code",
   "execution_count": 1,
   "id": "d1909c59",
   "metadata": {},
   "outputs": [
    {
     "name": "stdout",
     "output_type": "stream",
     "text": [
      "[(2019, 'a'), (2020, 'b'), (2021, 'c')]\n"
     ]
    }
   ],
   "source": [
    "college =[\"a\",\"b\",\"c\"]\n",
    "print(list(enumerate(college, 2019)))"
   ]
  },
  {
   "cell_type": "code",
   "execution_count": 5,
   "id": "26fa9b31",
   "metadata": {},
   "outputs": [
    {
     "name": "stdout",
     "output_type": "stream",
     "text": [
      "11\n"
     ]
    }
   ],
   "source": [
    "L1 = []\n",
    "L1.append([1,[2,3],4])\n",
    "L1.extend([7,8,9])\n",
    "print(L1[0][1][1]+L1[2])"
   ]
  },
  {
   "cell_type": "code",
   "execution_count": 13,
   "id": "d98e8cf1",
   "metadata": {},
   "outputs": [
    {
     "name": "stdout",
     "output_type": "stream",
     "text": [
      "5 8\n"
     ]
    }
   ],
   "source": [
    "T = (1,2,3,4,5,6,7,8)\n",
    "print(T[T.index(5)], end=\" \")\n",
    "print(T[T[T[6]-3]-6])"
   ]
  },
  {
   "cell_type": "code",
   "execution_count": 14,
   "id": "3aa4178b",
   "metadata": {},
   "outputs": [
    {
     "name": "stdout",
     "output_type": "stream",
     "text": [
      "3\n"
     ]
    }
   ],
   "source": [
    "D = {1:1,2:\"2\",\"1\":1,\"2\":3}\n",
    "D[\"1\"] = 2\n",
    "print(D[D[D[str(D[1])]]])\n"
   ]
  },
  {
   "cell_type": "code",
   "execution_count": null,
   "id": "05a646e7",
   "metadata": {},
   "outputs": [],
   "source": []
  },
  {
   "cell_type": "code",
   "execution_count": null,
   "id": "3ae2f41a",
   "metadata": {},
   "outputs": [],
   "source": []
  },
  {
   "cell_type": "code",
   "execution_count": null,
   "id": "ce6a648b",
   "metadata": {},
   "outputs": [],
   "source": []
  },
  {
   "cell_type": "code",
   "execution_count": null,
   "id": "36bcdfd4",
   "metadata": {},
   "outputs": [],
   "source": []
  }
 ],
 "metadata": {
  "kernelspec": {
   "display_name": "Python 3 (ipykernel)",
   "language": "python",
   "name": "python3"
  },
  "language_info": {
   "codemirror_mode": {
    "name": "ipython",
    "version": 3
   },
   "file_extension": ".py",
   "mimetype": "text/x-python",
   "name": "python",
   "nbconvert_exporter": "python",
   "pygments_lexer": "ipython3",
   "version": "3.8.9"
  }
 },
 "nbformat": 4,
 "nbformat_minor": 5
}
