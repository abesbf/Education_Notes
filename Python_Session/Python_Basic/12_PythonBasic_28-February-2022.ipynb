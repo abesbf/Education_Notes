{
 "cells": [
  {
   "cell_type": "code",
   "execution_count": null,
   "metadata": {},
   "outputs": [],
   "source": []
  },
  {
   "cell_type": "markdown",
   "metadata": {},
   "source": [
    "```python\n",
    "\n",
    "while condition1:\n",
    "    body1\n",
    "    while condition2 :\n",
    "        body2\n",
    "        break\n",
    "    break\n",
    "``` \n",
    "# bu nasıl oldu çentik attık başa sona o da enter altındaki tuşla oldu"
   ]
  },
  {
   "cell_type": "code",
   "execution_count": 2,
   "metadata": {},
   "outputs": [
    {
     "name": "stdout",
     "output_type": "stream",
     "text": [
      "square of 0 is : 0\n",
      "square of 1 is : 1\n",
      "square of 2 is : 4\n",
      "square of 3 is : 9\n",
      "square of 4 is : 16\n"
     ]
    }
   ],
   "source": [
    "mylist = [\"a\",\"b\",\"c\",\"d\",\"e\"]\n",
    "a = 0\n",
    "\n",
    "while a < len(mylist):\n",
    "    print(\"square of {} is : {}\".format(a,a**2))\n",
    "    a += 1"
   ]
  },
  {
   "cell_type": "code",
   "execution_count": 8,
   "metadata": {},
   "outputs": [
    {
     "name": "stdout",
     "output_type": "stream",
     "text": [
      "Enter your age correctly!\n",
      "Enter your age correctly!\n",
      "Enter your age correctly!\n",
      "Enter your age correctly!\n",
      "Your age is 15.\n"
     ]
    }
   ],
   "source": [
    "# take th age from user using input and while loop. write a program that takes age from user and check the age if it is correct numeric format\n",
    "\n",
    "age = input(\"Please enter your age numerically:\")\n",
    "while age.isdecimal() == False :\n",
    "    print(\"Enter your age correctly!\")\n",
    "    age = input(\"Please enter your age numerically:\")\n",
    "print(f\"Your age is {age}.\")\n",
    "   "
   ]
  },
  {
   "cell_type": "code",
   "execution_count": 12,
   "metadata": {},
   "outputs": [
    {
     "name": "stdout",
     "output_type": "stream",
     "text": [
      "You entered incorrectly\n",
      "You entered incorrectly\n",
      "You entered incorrectly\n",
      "You entered incorrectly\n",
      "You are 4 years old\n"
     ]
    }
   ],
   "source": [
    "age = input(\"Please enter your age:  \")\n",
    "\n",
    "while not age.isdecimal():\n",
    "    print(\"You entered incorrectly\")\n",
    "    age = input(\"Please enter your age:  \")\n",
    "print(f\"You are {age} years old\")\n",
    "\n",
    "# burada ise not isdecimal ile yaptık yani bool kullandık"
   ]
  },
  {
   "cell_type": "code",
   "execution_count": 9,
   "metadata": {},
   "outputs": [
    {
     "data": {
      "text/plain": [
       "False"
      ]
     },
     "execution_count": 9,
     "metadata": {},
     "output_type": "execute_result"
    }
   ],
   "source": [
    "age = \"sixteen\"  # neden false çünkü digit değil\n",
    "age.isdigit()"
   ]
  },
  {
   "cell_type": "code",
   "execution_count": 10,
   "metadata": {},
   "outputs": [
    {
     "data": {
      "text/plain": [
       "False"
      ]
     },
     "execution_count": 10,
     "metadata": {},
     "output_type": "execute_result"
    }
   ],
   "source": [
    "\"16.0\".isdigit() # bu da digit değil"
   ]
  },
  {
   "cell_type": "code",
   "execution_count": 11,
   "metadata": {},
   "outputs": [
    {
     "data": {
      "text/plain": [
       "True"
      ]
     },
     "execution_count": 11,
     "metadata": {},
     "output_type": "execute_result"
    }
   ],
   "source": [
    "\"42\".isdigit() # doğru bişey girince True, girmeyince False veriyor"
   ]
  },
  {
   "cell_type": "code",
   "execution_count": 32,
   "metadata": {},
   "outputs": [
    {
     "name": "stdout",
     "output_type": "stream",
     "text": [
      "Let's play the guessing game!\n",
      "Little higher...\n",
      "Little lower\n",
      "Little lower\n",
      "Little lower\n",
      "Little higher...\n",
      "Little higher...\n",
      "Bingo man! It is 44\n"
     ]
    }
   ],
   "source": [
    "\n",
    "answer = 44\n",
    "\n",
    "print(\"Let's play the guessing game!\")\n",
    "\n",
    "while True:\n",
    "\n",
    "    guess = int(input(\"What a two digit number an I thinkin' of?\"))\n",
    "\n",
    "    if guess < answer :\n",
    "        print(\"Little higher...\")\n",
    "    elif guess > answer :\n",
    "        print(\"Little lower...\")\n",
    "    else:\n",
    "        print(f\"Bingo man! It is {guess}.\")\n",
    "        break         \n",
    "\n"
   ]
  },
  {
   "cell_type": "code",
   "execution_count": 39,
   "metadata": {},
   "outputs": [
    {
     "name": "stdout",
     "output_type": "stream",
     "text": [
      "The length of the longest word is 9\n"
     ]
    }
   ],
   "source": [
    "sentence = input(\"Please type your sentence: \") # girilen bir cümle içindeki en uzun kelimeyi bul çıkar ve kaç harften oluştuğunu yaz/ \"The best school is Clarusway\" gir mesela\n",
    "word_list = sentence.split() # kelimelerine ayırdık boşluklardan\n",
    "longest = 0\n",
    "count = 0\n",
    "\n",
    "\n",
    "while count < len(word_list) :\n",
    "    if len(word_list[count]) > longest :\n",
    "        longest = len(word_list[count])\n",
    "    count += 1    \n",
    "print(f\"The length of the longest word is {longest} and it is {}\")\n",
    "   \n"
   ]
  },
  {
   "cell_type": "code",
   "execution_count": 37,
   "metadata": {},
   "outputs": [
    {
     "data": {
      "text/plain": [
       "['The', 'best', 'school', 'is', 'Clarusway.']"
      ]
     },
     "execution_count": 37,
     "metadata": {},
     "output_type": "execute_result"
    }
   ],
   "source": [
    "\"The best school is Clarusway.\".split()"
   ]
  },
  {
   "cell_type": "code",
   "execution_count": 40,
   "metadata": {},
   "outputs": [
    {
     "name": "stdout",
     "output_type": "stream",
     "text": [
      "7\n"
     ]
    }
   ],
   "source": [
    "sentence = input(\"Enter a sentence: \").split()\n",
    "\n",
    "longest = max(sentence, key= len)\n",
    "print(len(longest))"
   ]
  },
  {
   "cell_type": "code",
   "execution_count": 51,
   "metadata": {},
   "outputs": [
    {
     "name": "stdout",
     "output_type": "stream",
     "text": [
      "Hello Ahmed.\n",
      "Hello Aisha.\n",
      "Hello Adam.\n",
      "Hello Joseph.\n"
     ]
    }
   ],
   "source": [
    "names = [\"Ahmed\", \"Aisha\", \"Adam\", \"Joseph\"]\n",
    "for i in names :\n",
    "    print(\"Hello\", i,\"\\b.\")"
   ]
  },
  {
   "cell_type": "code",
   "execution_count": 55,
   "metadata": {},
   "outputs": [
    {
     "name": "stdout",
     "output_type": "stream",
     "text": [
      "[1, 2, 3, 4, 5]\n"
     ]
    }
   ],
   "source": [
    "print(list(range(1,6)))\n"
   ]
  },
  {
   "cell_type": "code",
   "execution_count": 56,
   "metadata": {},
   "outputs": [
    {
     "name": "stdout",
     "output_type": "stream",
     "text": [
      "[1, 2, 3, 4, 5]\n"
     ]
    }
   ],
   "source": [
    "# for döngüsü ile [1,2,3,4,5] listesni oluştur bakalım\n",
    "\n",
    "a = []\n",
    "\n",
    "for i in range(1,6):\n",
    "    a.append(i)\n",
    "print(a)"
   ]
  },
  {
   "cell_type": "code",
   "execution_count": null,
   "metadata": {},
   "outputs": [],
   "source": [
    "str list tuple dict set  # işte bunların tamamı iterable yani elemanlarına ayrılabiliyor"
   ]
  },
  {
   "cell_type": "code",
   "execution_count": 58,
   "metadata": {},
   "outputs": [
    {
     "name": "stdout",
     "output_type": "stream",
     "text": [
      "a\n",
      "l\n",
      "i\n"
     ]
    }
   ],
   "source": [
    "for i in \"ali\":\n",
    "    print(i)"
   ]
  },
  {
   "cell_type": "code",
   "execution_count": 59,
   "metadata": {},
   "outputs": [
    {
     "ename": "TypeError",
     "evalue": "'int' object is not iterable",
     "output_type": "error",
     "traceback": [
      "\u001b[1;31m---------------------------------------------------------------------------\u001b[0m",
      "\u001b[1;31mTypeError\u001b[0m                                 Traceback (most recent call last)",
      "\u001b[1;32mc:\\Users\\Asus\\Desktop\\Notebooks\\Python\\12_PythonBasic_28-February-2022.ipynb Cell 18'\u001b[0m in \u001b[0;36m<module>\u001b[1;34m\u001b[0m\n\u001b[1;32m----> <a href='vscode-notebook-cell:/c%3A/Users/Asus/Desktop/Notebooks/Python/12_PythonBasic_28-February-2022.ipynb#ch0000020?line=0'>1</a>\u001b[0m \u001b[39mfor\u001b[39;00m i \u001b[39min\u001b[39;00m \u001b[39m5\u001b[39m:\n\u001b[0;32m      <a href='vscode-notebook-cell:/c%3A/Users/Asus/Desktop/Notebooks/Python/12_PythonBasic_28-February-2022.ipynb#ch0000020?line=1'>2</a>\u001b[0m     \u001b[39mprint\u001b[39m(i)\n",
      "\u001b[1;31mTypeError\u001b[0m: 'int' object is not iterable"
     ]
    }
   ],
   "source": [
    "for i in 5:\n",
    "    print(i)  # int object is not iterable"
   ]
  },
  {
   "cell_type": "code",
   "execution_count": 80,
   "metadata": {},
   "outputs": [
    {
     "name": "stdout",
     "output_type": "stream",
     "text": [
      "C-l-a-r-u-s-w-a-y"
     ]
    }
   ],
   "source": [
    "word = \"Clarusway\"   # aşağıdaki gibi en sona tire işareti olmadan çıktı alma\n",
    "counter = 0\n",
    "for i in word:\n",
    "    counter += 1\n",
    "    if counter < len(word) :\n",
    "        i += \"-\"\n",
    "    print(i,end=\"\")\n",
    "    "
   ]
  },
  {
   "cell_type": "code",
   "execution_count": null,
   "metadata": {},
   "outputs": [],
   "source": []
  },
  {
   "cell_type": "code",
   "execution_count": null,
   "metadata": {},
   "outputs": [],
   "source": []
  },
  {
   "cell_type": "code",
   "execution_count": null,
   "metadata": {},
   "outputs": [],
   "source": []
  }
 ],
 "metadata": {
  "interpreter": {
   "hash": "46971d6258fae1e211635d8bf7f60d4d01846c4e42537e37b5cbd719f8de335b"
  },
  "kernelspec": {
   "display_name": "Python 3.8.9 64-bit",
   "language": "python",
   "name": "python3"
  },
  "language_info": {
   "codemirror_mode": {
    "name": "ipython",
    "version": 3
   },
   "file_extension": ".py",
   "mimetype": "text/x-python",
   "name": "python",
   "nbconvert_exporter": "python",
   "pygments_lexer": "ipython3",
   "version": "3.8.9"
  },
  "orig_nbformat": 4
 },
 "nbformat": 4,
 "nbformat_minor": 2
}
