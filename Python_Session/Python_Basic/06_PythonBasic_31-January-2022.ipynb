{
 "cells": [
  {
   "cell_type": "code",
   "execution_count": null,
   "id": "1d86caee",
   "metadata": {},
   "outputs": [],
   "source": [
    "# list itreable, elemanlarına ayırıyo, baştan başlıyo sağa kadar gidiyo, \n",
    "# ve her bir elemanı listenin elemanı haline getiriyor aralarına virgül atarak"
   ]
  },
  {
   "cell_type": "code",
   "execution_count": 2,
   "id": "7b999ef3",
   "metadata": {},
   "outputs": [
    {
     "data": {
      "text/plain": [
       "['c', 'l', 'a', 'r', 'u', 's']"
      ]
     },
     "execution_count": 2,
     "metadata": {},
     "output_type": "execute_result"
    }
   ],
   "source": [
    "list(\"clarus\")"
   ]
  },
  {
   "cell_type": "code",
   "execution_count": null,
   "id": "8b3b092f",
   "metadata": {},
   "outputs": [],
   "source": [
    "a = [1,2,3]\n",
    "list(a)   # dikkat ettiysen a listesini aldı elemanlarına ayırdı ordan tekrar\n",
    "            # liste haline getirdi"
   ]
  },
  {
   "cell_type": "markdown",
   "id": "97adabc6",
   "metadata": {},
   "source": []
  },
  {
   "cell_type": "code",
   "execution_count": 5,
   "id": "e07ef6ef",
   "metadata": {},
   "outputs": [
    {
     "ename": "TypeError",
     "evalue": "'int' object is not iterable",
     "output_type": "error",
     "traceback": [
      "\u001b[1;31m---------------------------------------------------------------------------\u001b[0m",
      "\u001b[1;31mTypeError\u001b[0m                                 Traceback (most recent call last)",
      "Input \u001b[1;32mIn [5]\u001b[0m, in \u001b[0;36m<module>\u001b[1;34m\u001b[0m\n\u001b[1;32m----> 1\u001b[0m \u001b[38;5;28;43mlist\u001b[39;49m\u001b[43m(\u001b[49m\u001b[38;5;241;43m1234\u001b[39;49m\u001b[43m)\u001b[49m\n\u001b[0;32m      2\u001b[0m \u001b[38;5;28mlist\u001b[39m\n",
      "\u001b[1;31mTypeError\u001b[0m: 'int' object is not iterable"
     ]
    }
   ],
   "source": [
    "list(1234)\n",
    "list  # integer object is not iterable hatası verir, öyle rezil olursun işte"
   ]
  },
  {
   "cell_type": "code",
   "execution_count": 21,
   "id": "14269914",
   "metadata": {},
   "outputs": [
    {
     "ename": "TypeError",
     "evalue": "object of type 'int' has no len()",
     "output_type": "error",
     "traceback": [
      "\u001b[1;31m---------------------------------------------------------------------------\u001b[0m",
      "\u001b[1;31mTypeError\u001b[0m                                 Traceback (most recent call last)",
      "Input \u001b[1;32mIn [21]\u001b[0m, in \u001b[0;36m<module>\u001b[1;34m\u001b[0m\n\u001b[1;32m----> 1\u001b[0m \u001b[38;5;28;43mlen\u001b[39;49m\u001b[43m(\u001b[49m\u001b[38;5;241;43m1230\u001b[39;49m\u001b[43m)\u001b[49m\n",
      "\u001b[1;31mTypeError\u001b[0m: object of type 'int' has no len()"
     ]
    }
   ],
   "source": [
    "len(1230)  # integer len olamaz çünkü sayının eleman sayısı olmz bu rakam"
   ]
  },
  {
   "cell_type": "code",
   "execution_count": 8,
   "id": "13997112",
   "metadata": {},
   "outputs": [
    {
     "data": {
      "text/plain": [
       "5"
      ]
     },
     "execution_count": 8,
     "metadata": {},
     "output_type": "execute_result"
    }
   ],
   "source": [
    "len(\"eşşek\") # iterable olması lazım uzunluk vermesi için"
   ]
  },
  {
   "cell_type": "code",
   "execution_count": 9,
   "id": "04f98f04",
   "metadata": {},
   "outputs": [
    {
     "name": "stdout",
     "output_type": "stream",
     "text": [
      "['I', ' ', 'q', 'u', 'i', 't', ' ', 's', 'm', 'o', 'k', 'i', 'n', 'g']\n"
     ]
    }
   ],
   "source": [
    "str_1 = \"I quit smoking\"  # string i elemanlarına ayırıyor, boşluklar dahil\n",
    "new_list = list(str_1)\n",
    "print(new_list)"
   ]
  },
  {
   "cell_type": "code",
   "execution_count": 10,
   "id": "9cbb5147",
   "metadata": {},
   "outputs": [
    {
     "name": "stdout",
     "output_type": "stream",
     "text": [
      "['I quit smoking']\n"
     ]
    }
   ],
   "source": [
    "new_list_2 =[str_1]\n",
    "print(new_list_2)"
   ]
  },
  {
   "cell_type": "code",
   "execution_count": null,
   "id": "d63c9d4c",
   "metadata": {},
   "outputs": [],
   "source": [
    "mixed_list = [11, \"Joseph\", False, 3.14, None, [1,2,3]] # farklıo veri tiplerini alır"
   ]
  },
  {
   "cell_type": "code",
   "execution_count": 26,
   "id": "2e4859e6",
   "metadata": {},
   "outputs": [
    {
     "name": "stdout",
     "output_type": "stream",
     "text": [
      "['Joseph', 'Clarusway', 2020]\n",
      "[['Joseph', 'Clarusway', 2020]]\n",
      "3\n",
      "1\n"
     ]
    }
   ],
   "source": [
    "my_list = [\"Joseph\", \"Clarusway\",2020]\n",
    "list1 = list(my_list)\n",
    "list2 = [my_list]\n",
    "\n",
    "print(list1)\n",
    "print(list2)\n",
    "print(len(list1))\n",
    "print(len(list2))\n"
   ]
  },
  {
   "cell_type": "code",
   "execution_count": null,
   "id": "80644172",
   "metadata": {},
   "outputs": [],
   "source": [
    "# iterable olmasına dikkat et, sayısal değer iterable değildir. \n",
    "# iterable \"\" ancak budur"
   ]
  },
  {
   "cell_type": "code",
   "execution_count": 27,
   "id": "893fe24f",
   "metadata": {},
   "outputs": [
    {
     "data": {
      "text/plain": [
       "5"
      ]
     },
     "execution_count": 27,
     "metadata": {},
     "output_type": "execute_result"
    }
   ],
   "source": [
    "for_instance = [[1,2,4],False,\"ali\", 11, [\"veli\",[\"deli\"]]]\n",
    "len(for_instance)"
   ]
  },
  {
   "cell_type": "code",
   "execution_count": 4,
   "id": "f51f00f8",
   "metadata": {},
   "outputs": [
    {
     "data": {
      "text/plain": [
       "[False, 'ali', 11, ['veli', ['deli']]]"
      ]
     },
     "execution_count": 4,
     "metadata": {},
     "output_type": "execute_result"
    }
   ],
   "source": [
    "for_instance = [[1, 2, 4], False, 'ali', 11, ['veli', ['deli']]]\n",
    "for_instance.remove([1,2,4]) # istediğimiz elemanı kaldırdı listeden\n",
    "for_instance"
   ]
  },
  {
   "cell_type": "code",
   "execution_count": 29,
   "id": "998fbc30",
   "metadata": {},
   "outputs": [
    {
     "data": {
      "text/plain": [
       "1"
      ]
     },
     "execution_count": 29,
     "metadata": {},
     "output_type": "execute_result"
    }
   ],
   "source": [
    "len([[[\" \", 1, 3 ]]]) # sadece en dıştaki listeyi alır"
   ]
  },
  {
   "cell_type": "code",
   "execution_count": null,
   "id": "4d85095f",
   "metadata": {},
   "outputs": [],
   "source": [
    "a = [] # empty list\n",
    "a = list()  # also empty list"
   ]
  },
  {
   "cell_type": "code",
   "execution_count": 30,
   "id": "11c6b3ed",
   "metadata": {},
   "outputs": [
    {
     "data": {
      "text/plain": [
       "[]"
      ]
     },
     "execution_count": 30,
     "metadata": {},
     "output_type": "execute_result"
    }
   ],
   "source": [
    "empty = []\n",
    "empty"
   ]
  },
  {
   "cell_type": "code",
   "execution_count": 31,
   "id": "5f03b347",
   "metadata": {},
   "outputs": [
    {
     "data": {
      "text/plain": [
       "[]"
      ]
     },
     "execution_count": 31,
     "metadata": {},
     "output_type": "execute_result"
    }
   ],
   "source": [
    "empty1 = list()\n",
    "empty1"
   ]
  },
  {
   "cell_type": "code",
   "execution_count": 33,
   "id": "a0df5cbd",
   "metadata": {},
   "outputs": [
    {
     "data": {
      "text/plain": [
       "[11]"
      ]
     },
     "execution_count": 33,
     "metadata": {},
     "output_type": "execute_result"
    }
   ],
   "source": [
    "my_list = []\n",
    "my_list.append(11) # listeye 11'i ekledik, dolayısıyla listeler mutabledir\n",
    "my_list"
   ]
  },
  {
   "cell_type": "code",
   "execution_count": null,
   "id": "1200edda",
   "metadata": {},
   "outputs": [],
   "source": [
    "\"ali deli veli\"  # bu ise immutabledir\n"
   ]
  },
  {
   "cell_type": "code",
   "execution_count": 34,
   "id": "c644ed33",
   "metadata": {},
   "outputs": [
    {
     "data": {
      "text/plain": [
       "'al+ del+ vel+'"
      ]
     },
     "execution_count": 34,
     "metadata": {},
     "output_type": "execute_result"
    }
   ],
   "source": [
    "\"ali deli veli\".replace(\"i\",\"+\") # yine string döndürdü output verdi"
   ]
  },
  {
   "cell_type": "code",
   "execution_count": 37,
   "id": "d768ca7f",
   "metadata": {},
   "outputs": [
    {
     "data": {
      "text/plain": [
       "[11, 22, 22, 22]"
      ]
     },
     "execution_count": 37,
     "metadata": {},
     "output_type": "execute_result"
    }
   ],
   "source": [
    "my_list.append(22)\n",
    "my_list"
   ]
  },
  {
   "cell_type": "code",
   "execution_count": 38,
   "id": "41fca171",
   "metadata": {},
   "outputs": [
    {
     "data": {
      "text/plain": [
       "['ali', 'deli', 'veli']"
      ]
     },
     "execution_count": 38,
     "metadata": {},
     "output_type": "execute_result"
    }
   ],
   "source": [
    "gardaşlar = [\"ali\", \"deli\"]\n",
    "gardaşlar.append(\"veli\")\n",
    "gardaşlar"
   ]
  },
  {
   "cell_type": "code",
   "execution_count": 40,
   "id": "fedbfc87",
   "metadata": {},
   "outputs": [
    {
     "data": {
      "text/plain": [
       "['ali', 'deli', 'veli', True, True]"
      ]
     },
     "execution_count": 40,
     "metadata": {},
     "output_type": "execute_result"
    }
   ],
   "source": [
    "gardaşlar.append(True) # nden iki kez verdi çünkü gardaşlar output yapmadan iki kez ekledi\n",
    "gardaşlar"
   ]
  },
  {
   "cell_type": "code",
   "execution_count": 42,
   "id": "a1d3659a",
   "metadata": {},
   "outputs": [
    {
     "data": {
      "text/plain": [
       "True"
      ]
     },
     "execution_count": 42,
     "metadata": {},
     "output_type": "execute_result"
    }
   ],
   "source": [
    "gardaşlar.pop()  # bu ise boş bırakıp yazarsak en sondaki elemanı siler sadece ve onu döndürür"
   ]
  },
  {
   "cell_type": "code",
   "execution_count": 45,
   "id": "813ca921",
   "metadata": {},
   "outputs": [
    {
     "data": {
      "text/plain": [
       "['ali']"
      ]
     },
     "execution_count": 45,
     "metadata": {},
     "output_type": "execute_result"
    }
   ],
   "source": [
    "gardaşlar.pop(1)\n",
    "gardaşlar # 1 numaralı indekse sahip çıkar aradan"
   ]
  },
  {
   "cell_type": "code",
   "execution_count": 48,
   "id": "a96c49c4",
   "metadata": {},
   "outputs": [
    {
     "data": {
      "text/plain": [
       "['ali', 'veli']"
      ]
     },
     "execution_count": 48,
     "metadata": {},
     "output_type": "execute_result"
    }
   ],
   "source": [
    "gardaşlar = [\"ali\", \"deli\", \"veli\"]\n",
    "gardaşlar.pop(1) # 1 index numaralı \"deli\" döndürdü\n",
    "gardaşlar  # ve son hali alttaki gibi kaldı"
   ]
  },
  {
   "cell_type": "code",
   "execution_count": 49,
   "id": "74eefd36",
   "metadata": {},
   "outputs": [
    {
     "data": {
      "text/plain": [
       "['ali', 'deli', 'veli']"
      ]
     },
     "execution_count": 49,
     "metadata": {},
     "output_type": "execute_result"
    }
   ],
   "source": [
    "gardaşlar.insert(1,\"deli\") # deliyi araya attık gördüğünüz gibi 1 numaralı indexe\n",
    "gardaşlar"
   ]
  },
  {
   "cell_type": "code",
   "execution_count": 51,
   "id": "a0a9442f",
   "metadata": {},
   "outputs": [
    {
     "data": {
      "text/plain": [
       "[1, 2, 3, 4, 5]"
      ]
     },
     "execution_count": 51,
     "metadata": {},
     "output_type": "execute_result"
    }
   ],
   "source": [
    "list1 = [1,2,3,4]\n",
    "list1.insert(4,5)\n",
    "list1"
   ]
  },
  {
   "cell_type": "code",
   "execution_count": 2,
   "id": "2027f165",
   "metadata": {},
   "outputs": [
    {
     "data": {
      "text/plain": [
       "4"
      ]
     },
     "execution_count": 2,
     "metadata": {},
     "output_type": "execute_result"
    }
   ],
   "source": [
    "numbers = [1,2,3,4]\n",
    "len(numbers)"
   ]
  },
  {
   "cell_type": "code",
   "execution_count": 3,
   "id": "ee68e648",
   "metadata": {},
   "outputs": [
    {
     "data": {
      "text/plain": [
       "[1, 2, 4]"
      ]
     },
     "execution_count": 3,
     "metadata": {},
     "output_type": "execute_result"
    }
   ],
   "source": [
    "numbers.remove(3) # 3 ü çıkardık\n",
    "numbers"
   ]
  },
  {
   "cell_type": "code",
   "execution_count": 4,
   "id": "aad35b56",
   "metadata": {},
   "outputs": [
    {
     "data": {
      "text/plain": [
       "['ali', 'behçet', 'cavidan', 'deli', 'veli']"
      ]
     },
     "execution_count": 4,
     "metadata": {},
     "output_type": "execute_result"
    }
   ],
   "source": [
    "old = [\"behçet\", \"cavidan\", \"ali\", \"deli\",\"veli\"]\n",
    "old.sort()\n",
    "old  # alfabetik sıraladı"
   ]
  },
  {
   "cell_type": "code",
   "execution_count": 8,
   "id": "b0affc06",
   "metadata": {},
   "outputs": [
    {
     "data": {
      "text/plain": [
       "['*-', '@', 'False']"
      ]
     },
     "execution_count": 8,
     "metadata": {},
     "output_type": "execute_result"
    }
   ],
   "source": [
    "list_2 = [\"@\", \"*-\", \"False\"]\n",
    "list_2.sort()\n",
    "list_2   # özel karakterler ASCII koduna göre sıralanır"
   ]
  },
  {
   "cell_type": "code",
   "execution_count": 11,
   "id": "7272217c",
   "metadata": {},
   "outputs": [
    {
     "data": {
      "text/plain": [
       "42"
      ]
     },
     "execution_count": 11,
     "metadata": {},
     "output_type": "execute_result"
    }
   ],
   "source": [
    "ord(\"*\")"
   ]
  },
  {
   "cell_type": "code",
   "execution_count": 12,
   "id": "04b21e10",
   "metadata": {},
   "outputs": [
    {
     "data": {
      "text/plain": [
       "64"
      ]
     },
     "execution_count": 12,
     "metadata": {},
     "output_type": "execute_result"
    }
   ],
   "source": [
    "ord(\"@\")"
   ]
  },
  {
   "cell_type": "code",
   "execution_count": 13,
   "id": "224ba8b1",
   "metadata": {},
   "outputs": [
    {
     "data": {
      "text/plain": [
       "70"
      ]
     },
     "execution_count": 13,
     "metadata": {},
     "output_type": "execute_result"
    }
   ],
   "source": [
    "ord(\"F\") # bu sıralaaya göre yapar sıralamayı, ord kodu ASCII sırasını verir"
   ]
  },
  {
   "cell_type": "code",
   "execution_count": 14,
   "id": "2ddc6007",
   "metadata": {},
   "outputs": [
    {
     "data": {
      "text/plain": [
       "[False, True]"
      ]
     },
     "execution_count": 14,
     "metadata": {},
     "output_type": "execute_result"
    }
   ],
   "source": [
    "list_3 = [True, False]\n",
    "list_3.sort()\n",
    "list_3  # neden böyle çıktı çünkü True = 1, False = 0 dolayısıyla 0<1 önce false"
   ]
  },
  {
   "cell_type": "code",
   "execution_count": 15,
   "id": "50ab76d1",
   "metadata": {},
   "outputs": [
    {
     "data": {
      "text/plain": [
       "[[-12], [3], [44]]"
      ]
     },
     "execution_count": 15,
     "metadata": {},
     "output_type": "execute_result"
    }
   ],
   "source": [
    "list_4 = [[3],[44],[-12]]\n",
    "list_4.sort()\n",
    "list_4   # liste içini de sort eder bu şekilde olursa"
   ]
  },
  {
   "cell_type": "code",
   "execution_count": 16,
   "id": "ff946080",
   "metadata": {},
   "outputs": [
    {
     "data": {
      "text/plain": [
       "[[-12, 1], [1, 3], [44, -40]]"
      ]
     },
     "execution_count": 16,
     "metadata": {},
     "output_type": "execute_result"
    }
   ],
   "source": [
    "list_5 = [[1,3],[44,-40], [-12,1]]\n",
    "list_5.sort()\n",
    "list_5  # listelerin ilk değerlerine göre atama yapar"
   ]
  },
  {
   "cell_type": "code",
   "execution_count": 6,
   "id": "6755b147",
   "metadata": {},
   "outputs": [
    {
     "data": {
      "text/plain": [
       "['four', 'nine', 'one']"
      ]
     },
     "execution_count": 6,
     "metadata": {},
     "output_type": "execute_result"
    }
   ],
   "source": [
    "list_6 = ['one', 'four', 'nine']\n",
    "list_6.sort()  # neden böyle yaptı çünkü burda alfabetical sort oldu f, n, o oldu\n",
    "list_6"
   ]
  },
  {
   "cell_type": "code",
   "execution_count": 7,
   "id": "4c18d7be",
   "metadata": {},
   "outputs": [
    {
     "data": {
      "text/plain": [
       "['one', 'nine', 'four']"
      ]
     },
     "execution_count": 7,
     "metadata": {},
     "output_type": "execute_result"
    }
   ],
   "source": [
    "list_6 = ['one', 'four', 'nine']\n",
    "list_6.sort(reverse = True) # burda alfabetical sort u tersine çevirdik o, n ,f yaptı\n",
    "list_6"
   ]
  },
  {
   "cell_type": "code",
   "execution_count": null,
   "id": "7a5d6091",
   "metadata": {},
   "outputs": [],
   "source": []
  },
  {
   "cell_type": "code",
   "execution_count": 17,
   "id": "0370511a",
   "metadata": {},
   "outputs": [
    {
     "data": {
      "text/plain": [
       "'F'"
      ]
     },
     "execution_count": 17,
     "metadata": {},
     "output_type": "execute_result"
    }
   ],
   "source": [
    "chr(70)  #chr ve ord birbirinin zıddı. chr(70) ASCII de F harfinin kodudur"
   ]
  },
  {
   "cell_type": "code",
   "execution_count": 18,
   "id": "414b2710",
   "metadata": {},
   "outputs": [
    {
     "data": {
      "text/plain": [
       "'ƺ'"
      ]
     },
     "execution_count": 18,
     "metadata": {},
     "output_type": "execute_result"
    }
   ],
   "source": [
    "chr(442)  # ASCII de 442 sıralı kod aşağıdaki simgeye denk geliyor"
   ]
  },
  {
   "cell_type": "code",
   "execution_count": null,
   "id": "a9949ae7",
   "metadata": {},
   "outputs": [],
   "source": []
  },
  {
   "cell_type": "code",
   "execution_count": null,
   "id": "f77bf1b4",
   "metadata": {},
   "outputs": [],
   "source": []
  },
  {
   "cell_type": "code",
   "execution_count": null,
   "id": "bd2bd1ce",
   "metadata": {},
   "outputs": [],
   "source": []
  },
  {
   "cell_type": "code",
   "execution_count": null,
   "id": "c93b992c",
   "metadata": {},
   "outputs": [],
   "source": []
  }
 ],
 "metadata": {
  "kernelspec": {
   "display_name": "Python 3 (ipykernel)",
   "language": "python",
   "name": "python3"
  },
  "language_info": {
   "codemirror_mode": {
    "name": "ipython",
    "version": 3
   },
   "file_extension": ".py",
   "mimetype": "text/x-python",
   "name": "python",
   "nbconvert_exporter": "python",
   "pygments_lexer": "ipython3",
   "version": "3.8.9"
  }
 },
 "nbformat": 4,
 "nbformat_minor": 5
}
