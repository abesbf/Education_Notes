{
 "cells": [
  {
   "cell_type": "code",
   "execution_count": 1,
   "metadata": {},
   "outputs": [],
   "source": [
    "import math\n"
   ]
  },
  {
   "cell_type": "code",
   "execution_count": 2,
   "metadata": {},
   "outputs": [],
   "source": [
    "from math import pi"
   ]
  },
  {
   "cell_type": "code",
   "execution_count": 3,
   "metadata": {},
   "outputs": [],
   "source": [
    "from math import factorial"
   ]
  },
  {
   "cell_type": "code",
   "execution_count": 4,
   "metadata": {},
   "outputs": [],
   "source": [
    "from math import log10"
   ]
  },
  {
   "cell_type": "code",
   "execution_count": 6,
   "metadata": {},
   "outputs": [
    {
     "name": "stdout",
     "output_type": "stream",
     "text": [
      "24\n",
      "3.141592653589793\n",
      "3.0\n"
     ]
    }
   ],
   "source": [
    "print(factorial(4))\n",
    "print(pi)\n",
    "print(log10(1000))"
   ]
  },
  {
   "cell_type": "code",
   "execution_count": 10,
   "metadata": {},
   "outputs": [
    {
     "data": {
      "text/plain": [
       "24"
      ]
     },
     "execution_count": 10,
     "metadata": {},
     "output_type": "execute_result"
    }
   ],
   "source": [
    "n = int(input(\"Please enter the factorial number: \"))\n",
    "total = 1\n",
    "for i in range(1,n+1):\n",
    "    total *= i\n",
    "total"
   ]
  },
  {
   "cell_type": "code",
   "execution_count": 13,
   "metadata": {},
   "outputs": [],
   "source": [
    "def my_factorial(n):\n",
    "    total = 1\n",
    "    \n",
    "    for i in range(1, n+1):\n",
    "            total *= i\n",
    "    if n == 0 or n == 1:\n",
    "        return 1\n",
    "    else:\n",
    "        return total\n",
    "    \n"
   ]
  },
  {
   "cell_type": "code",
   "execution_count": 14,
   "metadata": {},
   "outputs": [
    {
     "data": {
      "text/plain": [
       "24"
      ]
     },
     "execution_count": 14,
     "metadata": {},
     "output_type": "execute_result"
    }
   ],
   "source": [
    "my_factorial(4)"
   ]
  },
  {
   "cell_type": "code",
   "execution_count": 15,
   "metadata": {},
   "outputs": [],
   "source": [
    "def my_recursion_facto(n): # in this case we make the func like n*(n-1)! the same result we get\n",
    "    if n == 0 or n == 1:\n",
    "        return 1\n",
    "    else:\n",
    "        return n * my_recursion_facto(n-1)\n"
   ]
  },
  {
   "cell_type": "code",
   "execution_count": 17,
   "metadata": {},
   "outputs": [
    {
     "data": {
      "text/plain": [
       "120"
      ]
     },
     "execution_count": 17,
     "metadata": {},
     "output_type": "execute_result"
    }
   ],
   "source": [
    "my_recursion_facto(5)"
   ]
  },
  {
   "cell_type": "code",
   "execution_count": 18,
   "metadata": {},
   "outputs": [],
   "source": [
    "import string"
   ]
  },
  {
   "cell_type": "code",
   "execution_count": 19,
   "metadata": {},
   "outputs": [],
   "source": [
    "from string import punctuation,digits"
   ]
  },
  {
   "cell_type": "code",
   "execution_count": 21,
   "metadata": {},
   "outputs": [
    {
     "name": "stdout",
     "output_type": "stream",
     "text": [
      "!\"#$%&'()*+,-./:;<=>?@[\\]^_`{|}~\n",
      "0123456789\n"
     ]
    }
   ],
   "source": [
    "print(punctuation)\n",
    "print(digits)"
   ]
  },
  {
   "cell_type": "code",
   "execution_count": 22,
   "metadata": {},
   "outputs": [],
   "source": [
    "import datetime"
   ]
  },
  {
   "cell_type": "code",
   "execution_count": 25,
   "metadata": {},
   "outputs": [],
   "source": [
    "from datetime import date"
   ]
  },
  {
   "cell_type": "code",
   "execution_count": 28,
   "metadata": {},
   "outputs": [
    {
     "name": "stdout",
     "output_type": "stream",
     "text": [
      "2022-03-23\n"
     ]
    }
   ],
   "source": [
    "print(datetime.date.today())"
   ]
  },
  {
   "cell_type": "code",
   "execution_count": 29,
   "metadata": {},
   "outputs": [
    {
     "name": "stdout",
     "output_type": "stream",
     "text": [
      "2022-03-23 22:35:23.027046\n"
     ]
    }
   ],
   "source": [
    "print(datetime.datetime.now())"
   ]
  },
  {
   "cell_type": "code",
   "execution_count": 35,
   "metadata": {},
   "outputs": [
    {
     "name": "stdout",
     "output_type": "stream",
     "text": [
      "22327 days, 0:00:00\n"
     ]
    }
   ],
   "source": [
    "print(datetime.date(632,6,8) - datetime.date(571,4,22))"
   ]
  },
  {
   "cell_type": "code",
   "execution_count": 39,
   "metadata": {},
   "outputs": [
    {
     "name": "stdout",
     "output_type": "stream",
     "text": [
      "13102 days, 0:00:00\n"
     ]
    }
   ],
   "source": [
    "print(datetime.date.today() - datetime.date(1986,5,9))"
   ]
  },
  {
   "cell_type": "code",
   "execution_count": 40,
   "metadata": {},
   "outputs": [],
   "source": [
    "import random"
   ]
  },
  {
   "cell_type": "code",
   "execution_count": 42,
   "metadata": {},
   "outputs": [],
   "source": [
    "from random import choice"
   ]
  },
  {
   "cell_type": "code",
   "execution_count": 48,
   "metadata": {},
   "outputs": [
    {
     "data": {
      "text/plain": [
       "'stockholm'"
      ]
     },
     "execution_count": 48,
     "metadata": {},
     "output_type": "execute_result"
    }
   ],
   "source": [
    "city = [\"stockholm\",\"Istanbul\",\"Seul\",\"Cape Town\"]\n",
    "choice(city)"
   ]
  },
  {
   "cell_type": "code",
   "execution_count": 45,
   "metadata": {},
   "outputs": [
    {
     "name": "stdout",
     "output_type": "stream",
     "text": [
      "Defaulting to user installation because normal site-packages is not writeable\n",
      "Requirement already satisfied: pip in /home/ahmetburakeren/.local/lib/python3.8/site-packages (22.0.4)\n",
      "Note: you may need to restart the kernel to use updated packages.\n"
     ]
    }
   ],
   "source": [
    "pip install --upgrade pip"
   ]
  },
  {
   "cell_type": "code",
   "execution_count": 49,
   "metadata": {},
   "outputs": [
    {
     "ename": "ModuleNotFoundError",
     "evalue": "No module named 'numpy'",
     "output_type": "error",
     "traceback": [
      "\u001b[0;31m---------------------------------------------------------------------------\u001b[0m",
      "\u001b[0;31mModuleNotFoundError\u001b[0m                       Traceback (most recent call last)",
      "\u001b[1;32m/home/ahmetburakeren/Notes/Education_Notes/Python_Session/Python Basic/19_PythonBasic_23-March-2022.ipynb Cell 24'\u001b[0m in \u001b[0;36m<cell line: 1>\u001b[0;34m()\u001b[0m\n\u001b[0;32m----> <a href='vscode-notebook-cell://wsl%2Bubuntu20.04lts/home/ahmetburakeren/Notes/Education_Notes/Python_Session/Python%20Basic/19_PythonBasic_23-March-2022.ipynb#ch0000021vscode-remote?line=0'>1</a>\u001b[0m \u001b[39mimport\u001b[39;00m \u001b[39mnumpy\u001b[39;00m\n",
      "\u001b[0;31mModuleNotFoundError\u001b[0m: No module named 'numpy'"
     ]
    }
   ],
   "source": [
    "import numpy\n"
   ]
  },
  {
   "cell_type": "code",
   "execution_count": 50,
   "metadata": {},
   "outputs": [
    {
     "name": "stdout",
     "output_type": "stream",
     "text": [
      "Package                Version\n",
      "---------------------- --------------------\n",
      "asttokens              2.0.5\n",
      "attrs                  19.3.0\n",
      "Automat                0.8.0\n",
      "backcall               0.2.0\n",
      "blinker                1.4\n",
      "certifi                2019.11.28\n",
      "chardet                3.0.4\n",
      "Click                  7.0\n",
      "cloud-init             21.4\n",
      "colorama               0.4.3\n",
      "command-not-found      0.3\n",
      "configobj              5.0.6\n",
      "constantly             15.1.0\n",
      "cryptography           2.8\n",
      "dbus-python            1.2.16\n",
      "debugpy                1.5.1\n",
      "decorator              5.1.1\n",
      "distro                 1.4.0\n",
      "distro-info            0.23ubuntu1\n",
      "entrypoints            0.3\n",
      "executing              0.8.3\n",
      "httplib2               0.14.0\n",
      "hyperlink              19.0.0\n",
      "idna                   2.8\n",
      "importlib-metadata     1.5.0\n",
      "incremental            16.10.1\n",
      "ipykernel              6.9.2\n",
      "ipython                8.1.1\n",
      "jedi                   0.18.1\n",
      "Jinja2                 2.10.1\n",
      "jsonpatch              1.22\n",
      "jsonpointer            2.0\n",
      "jsonschema             3.2.0\n",
      "jupyter-client         7.1.2\n",
      "jupyter-core           4.9.2\n",
      "keyring                18.0.1\n",
      "language-selector      0.1\n",
      "launchpadlib           1.10.13\n",
      "lazr.restfulclient     0.14.2\n",
      "lazr.uri               1.0.3\n",
      "MarkupSafe             1.1.0\n",
      "matplotlib-inline      0.1.3\n",
      "more-itertools         4.2.0\n",
      "nest-asyncio           1.5.4\n",
      "netifaces              0.10.4\n",
      "oauthlib               3.1.0\n",
      "parso                  0.8.3\n",
      "pexpect                4.6.0\n",
      "pickleshare            0.7.5\n",
      "pip                    22.0.4\n",
      "prompt-toolkit         3.0.28\n",
      "psutil                 5.9.0\n",
      "pure-eval              0.2.2\n",
      "pyasn1                 0.4.2\n",
      "pyasn1-modules         0.2.1\n",
      "Pygments               2.11.2\n",
      "PyGObject              3.36.0\n",
      "PyHamcrest             1.9.0\n",
      "PyJWT                  1.7.1\n",
      "pymacaroons            0.13.0\n",
      "PyNaCl                 1.3.0\n",
      "pyOpenSSL              19.0.0\n",
      "pyrsistent             0.15.5\n",
      "pyserial               3.4\n",
      "python-apt             2.0.0+ubuntu0.20.4.7\n",
      "python-dateutil        2.8.2\n",
      "python-debian          0.1.36ubuntu1\n",
      "PyYAML                 5.3.1\n",
      "pyzmq                  22.3.0\n",
      "requests               2.22.0\n",
      "requests-unixsocket    0.2.0\n",
      "SecretStorage          2.3.1\n",
      "service-identity       18.1.0\n",
      "setuptools             45.2.0\n",
      "simplejson             3.16.0\n",
      "six                    1.14.0\n",
      "sos                    4.2\n",
      "ssh-import-id          5.10\n",
      "stack-data             0.2.0\n",
      "systemd-python         234\n",
      "tornado                6.1\n",
      "traitlets              5.1.1\n",
      "Twisted                18.9.0\n",
      "ubuntu-advantage-tools 27.6\n",
      "ufw                    0.36\n",
      "unattended-upgrades    0.1\n",
      "urllib3                1.25.8\n",
      "wadllib                1.3.3\n",
      "wcwidth                0.2.5\n",
      "wheel                  0.37.1\n",
      "zipp                   1.0.0\n",
      "zope.interface         4.7.1\n",
      "Note: you may need to restart the kernel to use updated packages.\n"
     ]
    }
   ],
   "source": [
    "pip list"
   ]
  },
  {
   "cell_type": "code",
   "execution_count": null,
   "metadata": {},
   "outputs": [],
   "source": []
  },
  {
   "cell_type": "code",
   "execution_count": null,
   "metadata": {},
   "outputs": [],
   "source": []
  },
  {
   "cell_type": "code",
   "execution_count": null,
   "metadata": {},
   "outputs": [],
   "source": []
  },
  {
   "cell_type": "code",
   "execution_count": null,
   "metadata": {},
   "outputs": [],
   "source": []
  },
  {
   "cell_type": "code",
   "execution_count": null,
   "metadata": {},
   "outputs": [],
   "source": []
  },
  {
   "cell_type": "code",
   "execution_count": null,
   "metadata": {},
   "outputs": [],
   "source": []
  },
  {
   "cell_type": "code",
   "execution_count": null,
   "metadata": {},
   "outputs": [],
   "source": []
  }
 ],
 "metadata": {
  "interpreter": {
   "hash": "916dbcbb3f70747c44a77c7bcd40155683ae19c65e1c03b4aa3499c5328201f1"
  },
  "kernelspec": {
   "display_name": "Python 3.8.10 64-bit",
   "language": "python",
   "name": "python3"
  },
  "language_info": {
   "name": "python",
   "version": "3.8.10"
  },
  "orig_nbformat": 4
 },
 "nbformat": 4,
 "nbformat_minor": 2
}
