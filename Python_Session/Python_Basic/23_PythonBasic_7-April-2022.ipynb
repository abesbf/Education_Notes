{
 "cells": [
  {
   "cell_type": "code",
   "execution_count": 4,
   "metadata": {},
   "outputs": [
    {
     "data": {
      "text/plain": [
       "[1, 2, 3, 4, 5, 6]"
      ]
     },
     "execution_count": 4,
     "metadata": {},
     "output_type": "execute_result"
    }
   ],
   "source": [
    "x = [([1], [2,3], [4,5,6])]  # turn this list to [1,2,3,4,5,6]\n",
    "\n",
    "a = []\n",
    "for i in x:\n",
    "    for j in i:\n",
    "        for z in j:\n",
    "            a.append(z)\n",
    "a\n"
   ]
  },
  {
   "cell_type": "code",
   "execution_count": 5,
   "metadata": {},
   "outputs": [
    {
     "data": {
      "text/plain": [
       "[0, 1, 2, 3, 4]"
      ]
     },
     "execution_count": 5,
     "metadata": {},
     "output_type": "execute_result"
    }
   ],
   "source": [
    "[i for i in range(5)]"
   ]
  },
  {
   "cell_type": "code",
   "execution_count": 6,
   "metadata": {},
   "outputs": [
    {
     "data": {
      "text/plain": [
       "['apple', 'grape', 'banana']"
      ]
     },
     "execution_count": 6,
     "metadata": {},
     "output_type": "execute_result"
    }
   ],
   "source": [
    "xList = \"apple grape banana\".split()\n",
    "xList"
   ]
  },
  {
   "cell_type": "code",
   "execution_count": 8,
   "metadata": {},
   "outputs": [
    {
     "data": {
      "text/plain": [
       "['Frank', 'Jason', 'Mina']"
      ]
     },
     "execution_count": 8,
     "metadata": {},
     "output_type": "execute_result"
    }
   ],
   "source": [
    "ylist =\"Frank Jason Mina\".split()\n",
    "ylist"
   ]
  },
  {
   "cell_type": "code",
   "execution_count": 11,
   "metadata": {},
   "outputs": [
    {
     "data": {
      "text/plain": [
       "['apple,Frank',\n",
       " 'apple,Jason',\n",
       " 'apple,Mina',\n",
       " 'grape,Frank',\n",
       " 'grape,Jason',\n",
       " 'grape,Mina',\n",
       " 'banana,Frank',\n",
       " 'banana,Jason',\n",
       " 'banana,Mina']"
      ]
     },
     "execution_count": 11,
     "metadata": {},
     "output_type": "execute_result"
    }
   ],
   "source": [
    "result = []\n",
    "\n",
    "for i in xList:\n",
    "    for j in ylist:\n",
    "        result.append(i+\",\"+j)\n",
    "\n",
    "result"
   ]
  },
  {
   "cell_type": "code",
   "execution_count": 13,
   "metadata": {},
   "outputs": [
    {
     "data": {
      "text/plain": [
       "[['apple,Frank'],\n",
       " ['apple,Jason'],\n",
       " ['apple,Mina'],\n",
       " ['grape,Frank'],\n",
       " ['grape,Jason'],\n",
       " ['grape,Mina'],\n",
       " ['banana,Frank'],\n",
       " ['banana,Jason'],\n",
       " ['banana,Mina']]"
      ]
     },
     "execution_count": 13,
     "metadata": {},
     "output_type": "execute_result"
    }
   ],
   "source": [
    "[[i+\",\"+j] for i in xList for j in ylist]"
   ]
  },
  {
   "cell_type": "code",
   "execution_count": 16,
   "metadata": {},
   "outputs": [
    {
     "data": {
      "text/plain": [
       "['0--->one',\n",
       " '0--->two',\n",
       " '0--->three',\n",
       " '1--->one',\n",
       " '1--->two',\n",
       " '1--->three',\n",
       " '2--->one',\n",
       " '2--->two',\n",
       " '2--->three',\n",
       " '3--->one',\n",
       " '3--->two',\n",
       " '3--->three',\n",
       " '4--->one',\n",
       " '4--->two',\n",
       " '4--->three']"
      ]
     },
     "execution_count": 16,
     "metadata": {},
     "output_type": "execute_result"
    }
   ],
   "source": [
    "result = []\n",
    "\n",
    "numbers = [\"one\", \"two\", \"three\"]\n",
    "\n",
    "[str(i)+\"--->\" + j for i in range(5) for j in numbers]"
   ]
  },
  {
   "cell_type": "code",
   "execution_count": 20,
   "metadata": {},
   "outputs": [],
   "source": [
    "solution = [[]]\n",
    "\n",
    "# solution1 = [[1],[2],[3]]\n",
    "# solution2 = [[1,2],[1,3],[2,1],[2,3],[3,1],[3,2]]\n",
    "# solution3 = [[1,2,3],[1,3,2],[2,1,3],[2,3,1],[3,1,2],[3,2,1]]"
   ]
  },
  {
   "cell_type": "code",
   "execution_count": 21,
   "metadata": {},
   "outputs": [
    {
     "name": "stdout",
     "output_type": "stream",
     "text": [
      "[]\n"
     ]
    }
   ],
   "source": [
    "for i in solution:\n",
    "    print(i)"
   ]
  },
  {
   "cell_type": "code",
   "execution_count": 22,
   "metadata": {},
   "outputs": [
    {
     "data": {
      "text/plain": [
       "1"
      ]
     },
     "execution_count": 22,
     "metadata": {},
     "output_type": "execute_result"
    }
   ],
   "source": [
    "len(solution)"
   ]
  },
  {
   "cell_type": "code",
   "execution_count": 37,
   "metadata": {},
   "outputs": [],
   "source": [
    "num = [1,2,3]"
   ]
  },
  {
   "cell_type": "code",
   "execution_count": 24,
   "metadata": {},
   "outputs": [
    {
     "data": {
      "text/plain": [
       "{1, 2, 3}"
      ]
     },
     "execution_count": 24,
     "metadata": {},
     "output_type": "execute_result"
    }
   ],
   "source": [
    "num_set = set(num)\n",
    "num_set"
   ]
  },
  {
   "cell_type": "code",
   "execution_count": 25,
   "metadata": {},
   "outputs": [
    {
     "data": {
      "text/plain": [
       "set()"
      ]
     },
     "execution_count": 25,
     "metadata": {},
     "output_type": "execute_result"
    }
   ],
   "source": [
    "set([])"
   ]
  },
  {
   "cell_type": "code",
   "execution_count": 27,
   "metadata": {},
   "outputs": [
    {
     "data": {
      "text/plain": [
       "set()"
      ]
     },
     "execution_count": 27,
     "metadata": {},
     "output_type": "execute_result"
    }
   ],
   "source": [
    "set_empty_list = set([])\n",
    "set_empty_list"
   ]
  },
  {
   "cell_type": "code",
   "execution_count": 38,
   "metadata": {},
   "outputs": [
    {
     "data": {
      "text/plain": [
       "{1, 2, 3}"
      ]
     },
     "execution_count": 38,
     "metadata": {},
     "output_type": "execute_result"
    }
   ],
   "source": [
    "num_set"
   ]
  },
  {
   "cell_type": "code",
   "execution_count": 29,
   "metadata": {},
   "outputs": [
    {
     "data": {
      "text/plain": [
       "{1, 2, 3}"
      ]
     },
     "execution_count": 29,
     "metadata": {},
     "output_type": "execute_result"
    }
   ],
   "source": [
    "num_set - set_empty_list # a - b = a because b is empty"
   ]
  },
  {
   "cell_type": "code",
   "execution_count": 30,
   "metadata": {},
   "outputs": [
    {
     "data": {
      "text/plain": [
       "{2, 3}"
      ]
     },
     "execution_count": 30,
     "metadata": {},
     "output_type": "execute_result"
    }
   ],
   "source": [
    "num_set - set([1])"
   ]
  },
  {
   "cell_type": "code",
   "execution_count": 47,
   "metadata": {},
   "outputs": [
    {
     "name": "stdout",
     "output_type": "stream",
     "text": [
      "[]\n",
      "[]\n",
      "[]\n"
     ]
    }
   ],
   "source": [
    "solution = []\n",
    "num = [1,2,3]\n",
    "num_set = set(num)\n",
    "for index in range(len(num)):\n",
    "\n",
    "    solution = [i +[j] for i in solution for j in num_set - set(i)]\n",
    "    print(solution)"
   ]
  },
  {
   "cell_type": "code",
   "execution_count": 32,
   "metadata": {},
   "outputs": [
    {
     "name": "stdout",
     "output_type": "stream",
     "text": [
      "[[1, 2, 3], [1, 3, 2], [2, 1, 3], [2, 3, 1], [3, 1, 2], [3, 2, 1]]\n"
     ]
    }
   ],
   "source": [
    "b = [[x, y, z] for x in [1,2,3] for y in [1,2,3] for z in [1,2,3] if len(set([x, y, z])) == 3]\n",
    "print(b)"
   ]
  },
  {
   "cell_type": "code",
   "execution_count": 33,
   "metadata": {},
   "outputs": [
    {
     "data": {
      "text/plain": [
       "[[0, 'a'], [1, 'a'], [4, 'a']]"
      ]
     },
     "execution_count": 33,
     "metadata": {},
     "output_type": "execute_result"
    }
   ],
   "source": [
    "[[i**2]+[\"a\"] for i in range(3)]"
   ]
  },
  {
   "cell_type": "code",
   "execution_count": null,
   "metadata": {},
   "outputs": [],
   "source": [
    "import smtplib\n",
    "server = smtplib.SMTP(\"smtp.gmail.com\", 587)\n",
    "server.starttls()\n",
    "\n",
    "server.login(\"necati.sakir.74\", password)\n",
    "message = \"\\n Bu benim son dersim. Herkese selam olsun. Gorusmek uzere \\n\"\n",
    "\n",
    "mails = [\"abdurrahmankucuk90@gmail.com\",\n",
    "         \"nurettinakinoral@gmail.com\",\n",
    "         \"hakanyusufbeyli@gmail.com\",\n",
    "         \"fthgnydn34@gmail.com\",\n",
    "         \"tarknsahin@gmail.com\",\n",
    "         \"sfrancisclarus@gmail.com\",\n",
    "         \"ozdemiraziz@gmail.com\"]\n",
    "\n",
    "server.sendmail(\"necati.sakir.74@gmail.com\", mails, message)\n",
    "server.quit()"
   ]
  },
  {
   "cell_type": "code",
   "execution_count": 53,
   "metadata": {},
   "outputs": [
    {
     "ename": "KeyboardInterrupt",
     "evalue": "",
     "output_type": "error",
     "traceback": [
      "\u001b[0;31m---------------------------------------------------------------------------\u001b[0m",
      "\u001b[0;31mKeyboardInterrupt\u001b[0m                         Traceback (most recent call last)",
      "\u001b[1;32m/home/ahmetburakeren/Education_Notes/Python_Session/Python_Basic/23_PythonBasic_7-April-2022.ipynb Cell 21'\u001b[0m in \u001b[0;36m<cell line: 3>\u001b[0;34m()\u001b[0m\n\u001b[1;32m      <a href='vscode-notebook-cell://wsl%2Bubuntu20.04lts/home/ahmetburakeren/Education_Notes/Python_Session/Python_Basic/23_PythonBasic_7-April-2022.ipynb#ch0000020vscode-remote?line=0'>1</a>\u001b[0m \u001b[39mimport\u001b[39;00m \u001b[39msmtplib\u001b[39;00m\n\u001b[1;32m      <a href='vscode-notebook-cell://wsl%2Bubuntu20.04lts/home/ahmetburakeren/Education_Notes/Python_Session/Python_Basic/23_PythonBasic_7-April-2022.ipynb#ch0000020vscode-remote?line=1'>2</a>\u001b[0m server \u001b[39m=\u001b[39m smtplib\u001b[39m.\u001b[39mSMTP(\u001b[39m\"\u001b[39m\u001b[39msmtp.gmail.com\u001b[39m\u001b[39m\"\u001b[39m, \u001b[39m587\u001b[39m)\n\u001b[0;32m----> <a href='vscode-notebook-cell://wsl%2Bubuntu20.04lts/home/ahmetburakeren/Education_Notes/Python_Session/Python_Basic/23_PythonBasic_7-April-2022.ipynb#ch0000020vscode-remote?line=2'>3</a>\u001b[0m server\u001b[39m.\u001b[39;49mstarttls()\n\u001b[1;32m      <a href='vscode-notebook-cell://wsl%2Bubuntu20.04lts/home/ahmetburakeren/Education_Notes/Python_Session/Python_Basic/23_PythonBasic_7-April-2022.ipynb#ch0000020vscode-remote?line=4'>5</a>\u001b[0m server\u001b[39m.\u001b[39mlogin(\u001b[39m\"\u001b[39m\u001b[39msfrancisclarus@gmail.com\u001b[39m\u001b[39m\"\u001b[39m, \u001b[39m\"\u001b[39m\u001b[39m1986abe.\u001b[39m\u001b[39m\"\u001b[39m)\n\u001b[1;32m      <a href='vscode-notebook-cell://wsl%2Bubuntu20.04lts/home/ahmetburakeren/Education_Notes/Python_Session/Python_Basic/23_PythonBasic_7-April-2022.ipynb#ch0000020vscode-remote?line=5'>6</a>\u001b[0m message \u001b[39m=\u001b[39m \u001b[39m\"\u001b[39m\u001b[39m\\n\u001b[39;00m\u001b[39m la sana atayim dedim \u001b[39m\u001b[39m\\n\u001b[39;00m\u001b[39m\"\u001b[39m\n",
      "File \u001b[0;32m/usr/lib/python3.8/smtplib.py:783\u001b[0m, in \u001b[0;36mSMTP.starttls\u001b[0;34m(self, keyfile, certfile, context)\u001b[0m\n\u001b[1;32m    <a href='file:///usr/lib/python3.8/smtplib.py?line=779'>780</a>\u001b[0m \u001b[39mif\u001b[39;00m context \u001b[39mis\u001b[39;00m \u001b[39mNone\u001b[39;00m:\n\u001b[1;32m    <a href='file:///usr/lib/python3.8/smtplib.py?line=780'>781</a>\u001b[0m     context \u001b[39m=\u001b[39m ssl\u001b[39m.\u001b[39m_create_stdlib_context(certfile\u001b[39m=\u001b[39mcertfile,\n\u001b[1;32m    <a href='file:///usr/lib/python3.8/smtplib.py?line=781'>782</a>\u001b[0m                                          keyfile\u001b[39m=\u001b[39mkeyfile)\n\u001b[0;32m--> <a href='file:///usr/lib/python3.8/smtplib.py?line=782'>783</a>\u001b[0m \u001b[39mself\u001b[39m\u001b[39m.\u001b[39msock \u001b[39m=\u001b[39m context\u001b[39m.\u001b[39;49mwrap_socket(\u001b[39mself\u001b[39;49m\u001b[39m.\u001b[39;49msock,\n\u001b[1;32m    <a href='file:///usr/lib/python3.8/smtplib.py?line=783'>784</a>\u001b[0m                                 server_hostname\u001b[39m=\u001b[39;49m\u001b[39mself\u001b[39;49m\u001b[39m.\u001b[39;49m_host)\n\u001b[1;32m    <a href='file:///usr/lib/python3.8/smtplib.py?line=784'>785</a>\u001b[0m \u001b[39mself\u001b[39m\u001b[39m.\u001b[39mfile \u001b[39m=\u001b[39m \u001b[39mNone\u001b[39;00m\n\u001b[1;32m    <a href='file:///usr/lib/python3.8/smtplib.py?line=785'>786</a>\u001b[0m \u001b[39m# RFC 3207:\u001b[39;00m\n\u001b[1;32m    <a href='file:///usr/lib/python3.8/smtplib.py?line=786'>787</a>\u001b[0m \u001b[39m# The client MUST discard any knowledge obtained from\u001b[39;00m\n\u001b[1;32m    <a href='file:///usr/lib/python3.8/smtplib.py?line=787'>788</a>\u001b[0m \u001b[39m# the server, such as the list of SMTP service extensions,\u001b[39;00m\n\u001b[1;32m    <a href='file:///usr/lib/python3.8/smtplib.py?line=788'>789</a>\u001b[0m \u001b[39m# which was not obtained from the TLS negotiation itself.\u001b[39;00m\n",
      "File \u001b[0;32m/usr/lib/python3.8/ssl.py:500\u001b[0m, in \u001b[0;36mSSLContext.wrap_socket\u001b[0;34m(self, sock, server_side, do_handshake_on_connect, suppress_ragged_eofs, server_hostname, session)\u001b[0m\n\u001b[1;32m    <a href='file:///usr/lib/python3.8/ssl.py?line=493'>494</a>\u001b[0m \u001b[39mdef\u001b[39;00m \u001b[39mwrap_socket\u001b[39m(\u001b[39mself\u001b[39m, sock, server_side\u001b[39m=\u001b[39m\u001b[39mFalse\u001b[39;00m,\n\u001b[1;32m    <a href='file:///usr/lib/python3.8/ssl.py?line=494'>495</a>\u001b[0m                 do_handshake_on_connect\u001b[39m=\u001b[39m\u001b[39mTrue\u001b[39;00m,\n\u001b[1;32m    <a href='file:///usr/lib/python3.8/ssl.py?line=495'>496</a>\u001b[0m                 suppress_ragged_eofs\u001b[39m=\u001b[39m\u001b[39mTrue\u001b[39;00m,\n\u001b[1;32m    <a href='file:///usr/lib/python3.8/ssl.py?line=496'>497</a>\u001b[0m                 server_hostname\u001b[39m=\u001b[39m\u001b[39mNone\u001b[39;00m, session\u001b[39m=\u001b[39m\u001b[39mNone\u001b[39;00m):\n\u001b[1;32m    <a href='file:///usr/lib/python3.8/ssl.py?line=497'>498</a>\u001b[0m     \u001b[39m# SSLSocket class handles server_hostname encoding before it calls\u001b[39;00m\n\u001b[1;32m    <a href='file:///usr/lib/python3.8/ssl.py?line=498'>499</a>\u001b[0m     \u001b[39m# ctx._wrap_socket()\u001b[39;00m\n\u001b[0;32m--> <a href='file:///usr/lib/python3.8/ssl.py?line=499'>500</a>\u001b[0m     \u001b[39mreturn\u001b[39;00m \u001b[39mself\u001b[39;49m\u001b[39m.\u001b[39;49msslsocket_class\u001b[39m.\u001b[39;49m_create(\n\u001b[1;32m    <a href='file:///usr/lib/python3.8/ssl.py?line=500'>501</a>\u001b[0m         sock\u001b[39m=\u001b[39;49msock,\n\u001b[1;32m    <a href='file:///usr/lib/python3.8/ssl.py?line=501'>502</a>\u001b[0m         server_side\u001b[39m=\u001b[39;49mserver_side,\n\u001b[1;32m    <a href='file:///usr/lib/python3.8/ssl.py?line=502'>503</a>\u001b[0m         do_handshake_on_connect\u001b[39m=\u001b[39;49mdo_handshake_on_connect,\n\u001b[1;32m    <a href='file:///usr/lib/python3.8/ssl.py?line=503'>504</a>\u001b[0m         suppress_ragged_eofs\u001b[39m=\u001b[39;49msuppress_ragged_eofs,\n\u001b[1;32m    <a href='file:///usr/lib/python3.8/ssl.py?line=504'>505</a>\u001b[0m         server_hostname\u001b[39m=\u001b[39;49mserver_hostname,\n\u001b[1;32m    <a href='file:///usr/lib/python3.8/ssl.py?line=505'>506</a>\u001b[0m         context\u001b[39m=\u001b[39;49m\u001b[39mself\u001b[39;49m,\n\u001b[1;32m    <a href='file:///usr/lib/python3.8/ssl.py?line=506'>507</a>\u001b[0m         session\u001b[39m=\u001b[39;49msession\n\u001b[1;32m    <a href='file:///usr/lib/python3.8/ssl.py?line=507'>508</a>\u001b[0m     )\n",
      "File \u001b[0;32m/usr/lib/python3.8/ssl.py:1040\u001b[0m, in \u001b[0;36mSSLSocket._create\u001b[0;34m(cls, sock, server_side, do_handshake_on_connect, suppress_ragged_eofs, server_hostname, context, session)\u001b[0m\n\u001b[1;32m   <a href='file:///usr/lib/python3.8/ssl.py?line=1036'>1037</a>\u001b[0m         \u001b[39mif\u001b[39;00m timeout \u001b[39m==\u001b[39m \u001b[39m0.0\u001b[39m:\n\u001b[1;32m   <a href='file:///usr/lib/python3.8/ssl.py?line=1037'>1038</a>\u001b[0m             \u001b[39m# non-blocking\u001b[39;00m\n\u001b[1;32m   <a href='file:///usr/lib/python3.8/ssl.py?line=1038'>1039</a>\u001b[0m             \u001b[39mraise\u001b[39;00m \u001b[39mValueError\u001b[39;00m(\u001b[39m\"\u001b[39m\u001b[39mdo_handshake_on_connect should not be specified for non-blocking sockets\u001b[39m\u001b[39m\"\u001b[39m)\n\u001b[0;32m-> <a href='file:///usr/lib/python3.8/ssl.py?line=1039'>1040</a>\u001b[0m         \u001b[39mself\u001b[39;49m\u001b[39m.\u001b[39;49mdo_handshake()\n\u001b[1;32m   <a href='file:///usr/lib/python3.8/ssl.py?line=1040'>1041</a>\u001b[0m \u001b[39mexcept\u001b[39;00m (\u001b[39mOSError\u001b[39;00m, \u001b[39mValueError\u001b[39;00m):\n\u001b[1;32m   <a href='file:///usr/lib/python3.8/ssl.py?line=1041'>1042</a>\u001b[0m     \u001b[39mself\u001b[39m\u001b[39m.\u001b[39mclose()\n",
      "File \u001b[0;32m/usr/lib/python3.8/ssl.py:1309\u001b[0m, in \u001b[0;36mSSLSocket.do_handshake\u001b[0;34m(self, block)\u001b[0m\n\u001b[1;32m   <a href='file:///usr/lib/python3.8/ssl.py?line=1306'>1307</a>\u001b[0m     \u001b[39mif\u001b[39;00m timeout \u001b[39m==\u001b[39m \u001b[39m0.0\u001b[39m \u001b[39mand\u001b[39;00m block:\n\u001b[1;32m   <a href='file:///usr/lib/python3.8/ssl.py?line=1307'>1308</a>\u001b[0m         \u001b[39mself\u001b[39m\u001b[39m.\u001b[39msettimeout(\u001b[39mNone\u001b[39;00m)\n\u001b[0;32m-> <a href='file:///usr/lib/python3.8/ssl.py?line=1308'>1309</a>\u001b[0m     \u001b[39mself\u001b[39;49m\u001b[39m.\u001b[39;49m_sslobj\u001b[39m.\u001b[39;49mdo_handshake()\n\u001b[1;32m   <a href='file:///usr/lib/python3.8/ssl.py?line=1309'>1310</a>\u001b[0m \u001b[39mfinally\u001b[39;00m:\n\u001b[1;32m   <a href='file:///usr/lib/python3.8/ssl.py?line=1310'>1311</a>\u001b[0m     \u001b[39mself\u001b[39m\u001b[39m.\u001b[39msettimeout(timeout)\n",
      "\u001b[0;31mKeyboardInterrupt\u001b[0m: "
     ]
    }
   ],
   "source": [
    "import smtplib\n",
    "server = smtplib.SMTP(\"smtp.gmail.com\", 587)\n",
    "server.starttls()\n",
    "\n",
    "server.login(\"sfrancisclarus@gmail.com\", \"1986abe.\")\n",
    "message = \"\\n la sana atayim dedim \\n\"\n",
    "\n",
    "mails = [\"muazvakitsayan@gmail.com\"]\n",
    "\n",
    "server.sendmail(\"sfrancisclarus@gmail.com\", mails, message)\n",
    "server.quit()"
   ]
  },
  {
   "cell_type": "code",
   "execution_count": 1,
   "metadata": {},
   "outputs": [
    {
     "name": "stdout",
     "output_type": "stream",
     "text": [
      "3\n"
     ]
    }
   ],
   "source": [
    "def func(x):\n",
    "  res = 0\n",
    "  for i in range(x):\n",
    "     res += i\n",
    "  return res\n",
    "\n",
    "print(func(3))"
   ]
  },
  {
   "cell_type": "code",
   "execution_count": 10,
   "metadata": {},
   "outputs": [
    {
     "name": "stdout",
     "output_type": "stream",
     "text": [
      "Word found\n"
     ]
    }
   ],
   "source": [
    "def search(text,word):\n",
    "    while True:\n",
    "        if word in text:\n",
    "            return(\"Word found\")\n",
    "        else:\n",
    "            return(\"Word not found\")\n",
    "\n",
    "text = input()\n",
    "word = input()\n",
    "\n",
    "print(search(text, word))"
   ]
  },
  {
   "cell_type": "code",
   "execution_count": 13,
   "metadata": {},
   "outputs": [
    {
     "name": "stdout",
     "output_type": "stream",
     "text": [
      "-9\n"
     ]
    }
   ],
   "source": [
    "def my_min(*args):\n",
    "    return min(args)\n",
    "\n",
    "print(my_min(3,8,-9,0,12,1.2))"
   ]
  },
  {
   "cell_type": "code",
   "execution_count": 23,
   "metadata": {},
   "outputs": [
    {
     "name": "stdout",
     "output_type": "stream",
     "text": [
      "3\n"
     ]
    }
   ],
   "source": [
    "from collections import Counter\n",
    "\n",
    "def most_freq(given_list):\n",
    "    c = Counter(given_list)\n",
    "    return c.most_common(1)[0][0]\n",
    "\n",
    "print(most_freq([1,2,3,3,3,3,4,4,5,5])) \n",
    "    \n",
    "  \n",
    " "
   ]
  },
  {
   "cell_type": "code",
   "execution_count": null,
   "metadata": {},
   "outputs": [],
   "source": []
  },
  {
   "cell_type": "code",
   "execution_count": null,
   "metadata": {},
   "outputs": [],
   "source": []
  },
  {
   "cell_type": "code",
   "execution_count": null,
   "metadata": {},
   "outputs": [],
   "source": []
  },
  {
   "cell_type": "code",
   "execution_count": null,
   "metadata": {},
   "outputs": [],
   "source": []
  }
 ],
 "metadata": {
  "interpreter": {
   "hash": "916dbcbb3f70747c44a77c7bcd40155683ae19c65e1c03b4aa3499c5328201f1"
  },
  "kernelspec": {
   "display_name": "Python 3.8.10 64-bit",
   "language": "python",
   "name": "python3"
  },
  "language_info": {
   "codemirror_mode": {
    "name": "ipython",
    "version": 3
   },
   "file_extension": ".py",
   "mimetype": "text/x-python",
   "name": "python",
   "nbconvert_exporter": "python",
   "pygments_lexer": "ipython3",
   "version": "3.8.10"
  },
  "orig_nbformat": 4
 },
 "nbformat": 4,
 "nbformat_minor": 2
}
