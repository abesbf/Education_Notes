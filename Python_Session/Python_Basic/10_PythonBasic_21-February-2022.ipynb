{
 "cells": [
  {
   "cell_type": "code",
   "execution_count": 1,
   "metadata": {},
   "outputs": [
    {
     "data": {
      "text/plain": [
       "{'blue', 'pink', 'red'}"
      ]
     },
     "execution_count": 1,
     "metadata": {},
     "output_type": "execute_result"
    }
   ],
   "source": [
    "colors = 'red', 'blue', 'pink', 'red'   # bu bir tuple\n",
    "set_1 = set(colors)   # iki tane red olduğundan bir küme içinde aynı eleman iki kere gösterilemiyor\n",
    "set_1"
   ]
  },
  {
   "cell_type": "code",
   "execution_count": 2,
   "metadata": {},
   "outputs": [
    {
     "name": "stdout",
     "output_type": "stream",
     "text": [
      "<class 'set'>\n"
     ]
    }
   ],
   "source": [
    "empty_set = set()\n",
    "\n",
    "print(type(empty_set))"
   ]
  },
  {
   "cell_type": "code",
   "execution_count": 3,
   "metadata": {},
   "outputs": [
    {
     "data": {
      "text/plain": [
       "{0, 1, 2}"
      ]
     },
     "execution_count": 3,
     "metadata": {},
     "output_type": "execute_result"
    }
   ],
   "source": [
    "first_set = {1, 1, 2, 0, 1}\n",
    "first_set"
   ]
  },
  {
   "cell_type": "code",
   "execution_count": 4,
   "metadata": {},
   "outputs": [
    {
     "data": {
      "text/plain": [
       "5"
      ]
     },
     "execution_count": 4,
     "metadata": {},
     "output_type": "execute_result"
    }
   ],
   "source": [
    "len([1, 1, 2, 0, 1])  # this is a list"
   ]
  },
  {
   "cell_type": "code",
   "execution_count": 5,
   "metadata": {},
   "outputs": [
    {
     "data": {
      "text/plain": [
       "3"
      ]
     },
     "execution_count": 5,
     "metadata": {},
     "output_type": "execute_result"
    }
   ],
   "source": [
    "len({1, 1, 2, 0, 1})  # burada ise dict olduğundan aynı elemanı iki kez göstermez"
   ]
  },
  {
   "cell_type": "code",
   "execution_count": 2,
   "metadata": {},
   "outputs": [
    {
     "name": "stdout",
     "output_type": "stream",
     "text": [
      "['a', 'b', 'c', 'd', 'e', 'f', 'g', 'h', 'i', 'j', 'k', 'l', 'm', 'n', 'o', 'p', 'r', 's', 't', 'u', 'w', 'x', 'v', 'y', 'z']\n"
     ]
    }
   ],
   "source": [
    "letter = \"a b c d e f g h i j k l m n o p r s t u w x v y z\".split()   # ordered line\n",
    "print(letter)"
   ]
  },
  {
   "cell_type": "code",
   "execution_count": 8,
   "metadata": {},
   "outputs": [
    {
     "name": "stdout",
     "output_type": "stream",
     "text": [
      "{'g', 'z', 'b', 'p', 'c', 'h', 'm', 's', 'l', 'k', 'i', 'y', 'd', 'e', 'a', 't', 'j', 'u', 'r', 'x', 'f', 'o', 'n', 'w', 'v'}\n"
     ]
    }
   ],
   "source": [
    "print(set(letter))  # virtual machine yani kernel kafasına göre atıyor bu değeri. "
   ]
  },
  {
   "cell_type": "code",
   "execution_count": 9,
   "metadata": {},
   "outputs": [
    {
     "name": "stdout",
     "output_type": "stream",
     "text": [
      "{'g', 'z', 'b', 'p', 'c', 'h', 'm', 's', 'l', 'k', 'i', 'y', 'd', 'e', 'a', 't', 'j', 'u', 'r', 'x', 'f', 'o', 'n', 'w', 'v'}\n"
     ]
    }
   ],
   "source": [
    "print(set(letter)) # random atamasına rağmen sıra bozulmadı kernel a kayıtlı."
   ]
  },
  {
   "cell_type": "code",
   "execution_count": 3,
   "metadata": {},
   "outputs": [
    {
     "name": "stdout",
     "output_type": "stream",
     "text": [
      "{'p', 'v', 'l', 'm', 'e', 'k', 't', 'x', 'c', 'z', 'o', 'g', 'y', 'j', 'a', 'd', 'f', 's', 'i', 'r', 'n', 'b', 'w', 'h', 'u'}\n"
     ]
    }
   ],
   "source": [
    "print(set(letter))  # burada kernel start yaptık bakalım sonuç değişecek mi?  evet değişmiş :)"
   ]
  },
  {
   "cell_type": "code",
   "execution_count": 4,
   "metadata": {},
   "outputs": [
    {
     "data": {
      "text/plain": [
       "2"
      ]
     },
     "execution_count": 4,
     "metadata": {},
     "output_type": "execute_result"
    }
   ],
   "source": [
    "something = {1, \"1\", 1.0}  # neden iki çıktı?\n",
    "len(something)"
   ]
  },
  {
   "cell_type": "code",
   "execution_count": 5,
   "metadata": {},
   "outputs": [
    {
     "data": {
      "text/plain": [
       "False"
      ]
     },
     "execution_count": 5,
     "metadata": {},
     "output_type": "execute_result"
    }
   ],
   "source": [
    "1 == \"1\"  # eşit değilse neden 2 elemaqn gösterdi?"
   ]
  },
  {
   "cell_type": "code",
   "execution_count": 6,
   "metadata": {},
   "outputs": [
    {
     "data": {
      "text/plain": [
       "True"
      ]
     },
     "execution_count": 6,
     "metadata": {},
     "output_type": "execute_result"
    }
   ],
   "source": [
    "1 == 1.0  # demek ki bundan dolayı"
   ]
  },
  {
   "cell_type": "code",
   "execution_count": 8,
   "metadata": {},
   "outputs": [
    {
     "ename": "TypeError",
     "evalue": "unhashable type: 'list'",
     "output_type": "error",
     "traceback": [
      "\u001b[1;31m---------------------------------------------------------------------------\u001b[0m",
      "\u001b[1;31mTypeError\u001b[0m                                 Traceback (most recent call last)",
      "\u001b[1;32mc:\\Users\\Asus\\Desktop\\Notebooks\\10_PythonBasic_21-February-2022.ipynb Cell 13'\u001b[0m in \u001b[0;36m<module>\u001b[1;34m\u001b[0m\n\u001b[0;32m      <a href='vscode-notebook-cell:/c%3A/Users/Asus/Desktop/Notebooks/10_PythonBasic_21-February-2022.ipynb#ch0000026?line=0'>1</a>\u001b[0m given_list \u001b[39m=\u001b[39m [\u001b[39m1\u001b[39m,\u001b[39m2\u001b[39m,\u001b[39m3\u001b[39m,\u001b[39m4\u001b[39m,\u001b[39m5\u001b[39m]\n\u001b[1;32m----> <a href='vscode-notebook-cell:/c%3A/Users/Asus/Desktop/Notebooks/10_PythonBasic_21-February-2022.ipynb#ch0000026?line=1'>2</a>\u001b[0m \u001b[39mlen\u001b[39m({given_list})\n",
      "\u001b[1;31mTypeError\u001b[0m: unhashable type: 'list'"
     ]
    }
   ],
   "source": [
    "given_list = [1,2,3,4,5]\n",
    "len({given_list})"
   ]
  },
  {
   "cell_type": "code",
   "execution_count": 10,
   "metadata": {},
   "outputs": [
    {
     "name": "stdout",
     "output_type": "stream",
     "text": [
      "{'rose', 'carnation', 'orchid', 'violet'}\n",
      "{'rose', 'carnation', 'orchid', 'violet'}\n"
     ]
    }
   ],
   "source": [
    "a = {\"carnation\", \"orchid\", \"rose\", \"violet\"}\n",
    "b = {\"rose\",\"orchid\",\"rose\",\"violet\",\"carnation\"}\n",
    "print(a)\n",
    "print(b)"
   ]
  },
  {
   "cell_type": "code",
   "execution_count": 11,
   "metadata": {},
   "outputs": [
    {
     "data": {
      "text/plain": [
       "{'carnation', 'lily', 'orchid', 'rose', 'violet'}"
      ]
     },
     "execution_count": 11,
     "metadata": {},
     "output_type": "execute_result"
    }
   ],
   "source": [
    "a.add(\"lily\")\n",
    "a"
   ]
  },
  {
   "cell_type": "code",
   "execution_count": 12,
   "metadata": {},
   "outputs": [
    {
     "data": {
      "text/plain": [
       "{'carnation', 'lily', 'orchid', 'violet'}"
      ]
     },
     "execution_count": 12,
     "metadata": {},
     "output_type": "execute_result"
    }
   ],
   "source": [
    "a.remove(\"rose\")\n",
    "a"
   ]
  },
  {
   "cell_type": "code",
   "execution_count": 15,
   "metadata": {},
   "outputs": [
    {
     "name": "stdout",
     "output_type": "stream",
     "text": [
      "{'a', 'e'}\n",
      "{'a', 'e'}\n"
     ]
    }
   ],
   "source": [
    "a = set(\"philadelphia\")\n",
    "b = set(\"dolphin\")\n",
    "\n",
    "print(a-b)  # a fark b yani a'da olup b'de olmayan\n",
    "print(a.difference(b))"
   ]
  },
  {
   "cell_type": "code",
   "execution_count": 17,
   "metadata": {},
   "outputs": [
    {
     "name": "stdout",
     "output_type": "stream",
     "text": [
      "{'n', 'o'}\n",
      "{'n', 'o'}\n"
     ]
    }
   ],
   "source": [
    "print(b-a) # b fark a yani b'e olup a'da olmayan\n",
    "print(b.difference(a))"
   ]
  },
  {
   "cell_type": "code",
   "execution_count": 18,
   "metadata": {},
   "outputs": [
    {
     "name": "stdout",
     "output_type": "stream",
     "text": [
      "{'e', 'p', 'n', 'a', 'd', 'h', 'o', 'l', 'i'}\n",
      "{'e', 'p', 'n', 'a', 'd', 'h', 'o', 'l', 'i'}\n"
     ]
    }
   ],
   "source": [
    "print (a | b)  # birleşim   yani b | a = a | b\n",
    "print(a.union(b))"
   ]
  },
  {
   "cell_type": "code",
   "execution_count": 20,
   "metadata": {},
   "outputs": [
    {
     "name": "stdout",
     "output_type": "stream",
     "text": [
      "{'p', 'd', 'h', 'l', 'i'}\n",
      "{'p', 'd', 'h', 'l', 'i'}\n"
     ]
    }
   ],
   "source": [
    "print(a & b)  # bu da kesişim kümesi\n",
    "print(a.intersection(b))"
   ]
  },
  {
   "cell_type": "code",
   "execution_count": 24,
   "metadata": {},
   "outputs": [
    {
     "data": {
      "text/plain": [
       "{'/', '0', '1', '2'}"
      ]
     },
     "execution_count": 24,
     "metadata": {},
     "output_type": "execute_result"
    }
   ],
   "source": [
    "date1 = set(\"02/21/2022\")  # burada ise set foksiyonu iterable'ı elemanlarına ayırıyor ve unique olanları sıralıyor, tekrar edenleri atıyor\n",
    "date2 = {\"02/21/2022\"} # tek elemanlı bir set oldu\n",
    "date1"
   ]
  },
  {
   "cell_type": "code",
   "execution_count": 25,
   "metadata": {},
   "outputs": [
    {
     "data": {
      "text/plain": [
       "{'02/21/2022'}"
      ]
     },
     "execution_count": 25,
     "metadata": {},
     "output_type": "execute_result"
    }
   ],
   "source": [
    "date2"
   ]
  },
  {
   "cell_type": "code",
   "execution_count": 26,
   "metadata": {},
   "outputs": [
    {
     "name": "stdout",
     "output_type": "stream",
     "text": [
      "{1, 2, 3, 4, 5}\n"
     ]
    }
   ],
   "source": [
    "given_list = [1,2,3,3,3,3,4,4,5,5]\n",
    "unique = set(given_list)\n",
    "print(unique)"
   ]
  },
  {
   "cell_type": "code",
   "execution_count": 29,
   "metadata": {},
   "outputs": [
    {
     "name": "stdout",
     "output_type": "stream",
     "text": [
      "{'g', 'e', 'n', 'a', 't', 's', 'h', 'W', 'o', 'l', 'i'}\n",
      "{'g', 'n', 't', 'W', 'o', 'i'}\n",
      "{'h', 'a', 's'}\n",
      "{'l', 'e'}\n"
     ]
    }
   ],
   "source": [
    "usa = set(\"Washington\")\n",
    "nz = set(\"Wellington\")\n",
    "print(usa | nz)\n",
    "print(usa & nz)\n",
    "print(usa - nz)\n",
    "print(nz - usa)\n"
   ]
  },
  {
   "cell_type": "code",
   "execution_count": 32,
   "metadata": {},
   "outputs": [
    {
     "name": "stdout",
     "output_type": "stream",
     "text": [
      "1\n",
      "2\n",
      "3\n",
      "4\n"
     ]
    }
   ],
   "source": [
    "numbers = [1,2,3,4,5] \n",
    "print(numbers[0])\n",
    "print(numbers[1])\n",
    "print(numbers[2])\n",
    "print(numbers[3])"
   ]
  },
  {
   "cell_type": "code",
   "execution_count": 33,
   "metadata": {},
   "outputs": [
    {
     "data": {
      "text/plain": [
       "False"
      ]
     },
     "execution_count": 33,
     "metadata": {},
     "output_type": "execute_result"
    }
   ],
   "source": [
    "a = 3\n",
    "b = 0\n",
    "b>a"
   ]
  },
  {
   "cell_type": "code",
   "execution_count": 34,
   "metadata": {},
   "outputs": [
    {
     "name": "stdout",
     "output_type": "stream",
     "text": [
      "ali\n"
     ]
    }
   ],
   "source": [
    "if b > a :  # burası belirleyici burası True olursa içeri girer yoksa devam eder\n",
    "    print(\"hello\")  # neden böyle oldu çünkü if koşulu sağlanmadı ve body işleme alınmadı. bu sebeple aşağı indi ve ilk komutu gerçekleştirdi\n",
    "\n",
    "print(\"ali\")"
   ]
  },
  {
   "cell_type": "code",
   "execution_count": null,
   "metadata": {},
   "outputs": [],
   "source": [
    "if condition :\n",
    "    body1\n",
    "    body2\n",
    "outbody"
   ]
  },
  {
   "cell_type": "code",
   "execution_count": 35,
   "metadata": {},
   "outputs": [
    {
     "name": "stdout",
     "output_type": "stream",
     "text": [
      "Hello World\n",
      "print me in all cases\n"
     ]
    }
   ],
   "source": [
    "if \"0\" :  # neden yazdırdı? çünkü True ifade\n",
    "    print(\"Hello World\")\n",
    "print(\"print me in all cases\")"
   ]
  },
  {
   "cell_type": "code",
   "execution_count": 36,
   "metadata": {},
   "outputs": [
    {
     "name": "stdout",
     "output_type": "stream",
     "text": [
      "print me in all cases\n"
     ]
    }
   ],
   "source": [
    "if 0 :  # neden yazdırmadı? çünkü Falsy ifade\n",
    "    print(\"Hello World\")\n",
    "print(\"print me in all cases\")"
   ]
  },
  {
   "cell_type": "code",
   "execution_count": 37,
   "metadata": {},
   "outputs": [
    {
     "data": {
      "text/plain": [
       "False"
      ]
     },
     "execution_count": 37,
     "metadata": {},
     "output_type": "execute_result"
    }
   ],
   "source": [
    "bool(0)"
   ]
  },
  {
   "cell_type": "code",
   "execution_count": 39,
   "metadata": {},
   "outputs": [],
   "source": [
    "if \"0\" and \"\" :  # cevap boş stringdir çünkü ifade False çıktı, çalışmadı\n",
    "    print(\"hello\")"
   ]
  },
  {
   "cell_type": "code",
   "execution_count": 40,
   "metadata": {},
   "outputs": [],
   "source": [
    "if 0 or \"False\" and None : # bu da boş string döndürdü\n",
    "    print(\"hi man\")"
   ]
  },
  {
   "cell_type": "code",
   "execution_count": 43,
   "metadata": {},
   "outputs": [
    {
     "name": "stdout",
     "output_type": "stream",
     "text": [
      "clarusway\n"
     ]
    }
   ],
   "source": [
    "if -1 :  # eksi bir de sıfırdan farklı bir değerdir dolayısıyla truety dir\n",
    "    print(\"clarusway\")"
   ]
  },
  {
   "cell_type": "code",
   "execution_count": 44,
   "metadata": {},
   "outputs": [
    {
     "name": "stdout",
     "output_type": "stream",
     "text": [
      "a\n"
     ]
    }
   ],
   "source": [
    "if [\"\"] :  # neden yanlış yaptın? içi boş string ama listenin içi dolu, liste boş değil yani o yüzden True\n",
    "    print(\"a\")"
   ]
  },
  {
   "cell_type": "code",
   "execution_count": 45,
   "metadata": {},
   "outputs": [
    {
     "name": "stdout",
     "output_type": "stream",
     "text": [
      "Bon Appetit\n"
     ]
    }
   ],
   "source": [
    "# malzemeler\n",
    "minced = True\n",
    "bread = True\n",
    "# green\n",
    "lettuce = True\n",
    "onion = False\n",
    "grocer = True\n",
    "\n",
    "hamburger = minced and grocer and bread and( lettuce or onion)\n",
    "if hamburger :\n",
    "    print(\"Bon Appetit\")"
   ]
  },
  {
   "cell_type": "code",
   "execution_count": 46,
   "metadata": {},
   "outputs": [
    {
     "data": {
      "text/plain": [
       "True"
      ]
     },
     "execution_count": 46,
     "metadata": {},
     "output_type": "execute_result"
    }
   ],
   "source": [
    "3>3\n",
    "3>=2\n",
    "3>=3"
   ]
  },
  {
   "cell_type": "code",
   "execution_count": 49,
   "metadata": {},
   "outputs": [
    {
     "name": "stdout",
     "output_type": "stream",
     "text": [
      "veli\n"
     ]
    }
   ],
   "source": [
    "if \"ali\" != \"deli\" :\n",
    "    print(\"veli\")"
   ]
  },
  {
   "cell_type": "code",
   "execution_count": 50,
   "metadata": {},
   "outputs": [],
   "source": [
    "if \"ali\" == \"Ali\" :  # yazdırmadı çünkü case sensitive\n",
    "    print(\"deli\")"
   ]
  },
  {
   "cell_type": "code",
   "execution_count": 52,
   "metadata": {},
   "outputs": [
    {
     "name": "stdout",
     "output_type": "stream",
     "text": [
      "\n"
     ]
    }
   ],
   "source": [
    "type(input(\"type something: \"))\n",
    "print()"
   ]
  },
  {
   "cell_type": "code",
   "execution_count": 53,
   "metadata": {},
   "outputs": [
    {
     "name": "stdout",
     "output_type": "stream",
     "text": [
      "We are the same!\n"
     ]
    }
   ],
   "source": [
    "a = set(\"twelve plus one\")\n",
    "b = set(\"eleven plus two\")\n",
    "if a == b :\n",
    "    print(\"We are the same!\")"
   ]
  },
  {
   "cell_type": "code",
   "execution_count": 65,
   "metadata": {},
   "outputs": [
    {
     "name": "stdout",
     "output_type": "stream",
     "text": [
      "True\n"
     ]
    }
   ],
   "source": [
    "# burada user'dan sadece Yes ve No değerlerini girmesini isteyeceğiz. No ve Yes i False ve True'ya çevireceğiz. Yanlış girebilmesi htimali için title kullandık, yanlışlıkla boşluk olursa strip ile sildik.\n",
    "conversion = input(\"Please Type Yes or No: \").title().strip() ==\"Yes\"\n",
    "print(conversion)"
   ]
  },
  {
   "cell_type": "code",
   "execution_count": 66,
   "metadata": {},
   "outputs": [
    {
     "name": "stdout",
     "output_type": "stream",
     "text": [
      "You entered False\n"
     ]
    }
   ],
   "source": [
    "print(f\"You entered {input('Please Type Yes or No: ').title().strip() =='Yes'}\") # YUKARIDAKİ OPERSASYONU SÜSLÜ PARANTEZ İÇİNE KOYDUK TEK SATIRDA ÇALIŞTIK"
   ]
  },
  {
   "cell_type": "code",
   "execution_count": null,
   "metadata": {},
   "outputs": [],
   "source": []
  },
  {
   "cell_type": "code",
   "execution_count": null,
   "metadata": {},
   "outputs": [],
   "source": []
  },
  {
   "cell_type": "code",
   "execution_count": null,
   "metadata": {},
   "outputs": [],
   "source": []
  },
  {
   "cell_type": "code",
   "execution_count": null,
   "metadata": {},
   "outputs": [],
   "source": []
  }
 ],
 "metadata": {
  "interpreter": {
   "hash": "46971d6258fae1e211635d8bf7f60d4d01846c4e42537e37b5cbd719f8de335b"
  },
  "kernelspec": {
   "display_name": "Python 3.8.9 64-bit",
   "language": "python",
   "name": "python3"
  },
  "language_info": {
   "codemirror_mode": {
    "name": "ipython",
    "version": 3
   },
   "file_extension": ".py",
   "mimetype": "text/x-python",
   "name": "python",
   "nbconvert_exporter": "python",
   "pygments_lexer": "ipython3",
   "version": "3.8.9"
  },
  "orig_nbformat": 4
 },
 "nbformat": 4,
 "nbformat_minor": 2
}
