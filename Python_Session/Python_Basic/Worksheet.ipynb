{
 "cells": [
  {
   "cell_type": "code",
   "execution_count": 1,
   "metadata": {},
   "outputs": [
    {
     "name": "stdout",
     "output_type": "stream",
     "text": [
      "This is an even number\n"
     ]
    }
   ],
   "source": [
    "number = int(input(\"Please enter a number: \"))\n",
    "if number % 2 == 0 :\n",
    "    print(\"This is an even number.\")\n",
    "else :\n",
    "    print(\"This is an odd number.\")"
   ]
  },
  {
   "cell_type": "code",
   "execution_count": 5,
   "metadata": {},
   "outputs": [
    {
     "name": "stdout",
     "output_type": "stream",
     "text": [
      "your number is equal to zero\n"
     ]
    }
   ],
   "source": [
    "number = int(input(\"Please enter a number: \"))  # find number if it is positive, negative or zero\n",
    "if number < 0 :\n",
    "    print(\"Number is negative\"),\n",
    "elif number > 0 :\n",
    "    print(\"number is positive\")\n",
    "else :\n",
    "    print(\"your number is equal to zero\")"
   ]
  },
  {
   "cell_type": "code",
   "execution_count": 11,
   "metadata": {},
   "outputs": [
    {
     "name": "stdout",
     "output_type": "stream",
     "text": [
      "Get the fuck out of here come back here after +18\n"
     ]
    }
   ],
   "source": [
    "name  = input(\"Your Name?: \")\n",
    "age = int(input(\"Your age: \"))\n",
    "edu = input(\"Your edu level? :\")\n",
    "edu_var = [\"Middle School\",\"Lycee\",\"University\"]\n",
    "\n",
    "if age >= 18 and (edu in edu_var) :\n",
    "    print(\"Eligible to Driving Licence\"),\n",
    "\n",
    "elif age >= 18 and (edu not in edu_var) :\n",
    "    print(\"Not eligible to Driving Licence due to education level\"),\n",
    "else :\n",
    "    print(\"Get the fuck out of here come back here after +18\")"
   ]
  },
  {
   "cell_type": "code",
   "execution_count": 14,
   "metadata": {},
   "outputs": [
    {
     "name": "stdout",
     "output_type": "stream",
     "text": [
      "1 2 3 4 5 6 7 8 9 10\n"
     ]
    }
   ],
   "source": [
    "print(*range(1,11))\n"
   ]
  },
  {
   "cell_type": "code",
   "execution_count": 15,
   "metadata": {},
   "outputs": [
    {
     "name": "stdout",
     "output_type": "stream",
     "text": [
      "c l a r u s w a y\n"
     ]
    }
   ],
   "source": [
    "print(*\"clarusway\") # aralarını çarak yazdı"
   ]
  },
  {
   "cell_type": "code",
   "execution_count": 2,
   "metadata": {},
   "outputs": [
    {
     "name": "stdout",
     "output_type": "stream",
     "text": [
      "200\n"
     ]
    }
   ],
   "source": [
    "def my_function(a,b):\n",
    "    print(a*b)\n"
   ]
  },
  {
   "cell_type": "code",
   "execution_count": null,
   "metadata": {},
   "outputs": [],
   "source": [
    "def my_function(a, b):\n",
    "    hypotenuse = (a**2 + b**2)**0.5\n",
    "    return hypotenuse"
   ]
  },
  {
   "cell_type": "code",
   "execution_count": null,
   "metadata": {},
   "outputs": [],
   "source": [
    "def my_function(a,b) :\n",
    "    area = a * b\n",
    "    return area\n"
   ]
  },
  {
   "cell_type": "code",
   "execution_count": null,
   "metadata": {},
   "outputs": [],
   "source": [
    "def longer(a, b):\n",
    "    if len(a) >= len(b):\n",
    "        return a\n",
    "    else:\n",
    "        return b\n",
    "\n",
    "print(longer('Richard', 'John'))"
   ]
  },
  {
   "cell_type": "code",
   "execution_count": 2,
   "metadata": {},
   "outputs": [
    {
     "ename": "NameError",
     "evalue": "name 'count' is not defined",
     "output_type": "error",
     "traceback": [
      "\u001b[1;31m---------------------------------------------------------------------------\u001b[0m",
      "\u001b[1;31mNameError\u001b[0m                                 Traceback (most recent call last)",
      "\u001b[1;32mc:\\Users\\Asus\\Desktop\\Notebooks\\Python\\Python Basic\\Worksheet.ipynb Cell 10'\u001b[0m in \u001b[0;36m<module>\u001b[1;34m\u001b[0m\n\u001b[0;32m      <a href='vscode-notebook-cell:/c%3A/Users/Asus/Desktop/Notebooks/Python/Python%20Basic/Worksheet.ipynb#ch0000009?line=2'>3</a>\u001b[0m     count \u001b[39m+\u001b[39m\u001b[39m=\u001b[39m \u001b[39m1\u001b[39m\n\u001b[0;32m      <a href='vscode-notebook-cell:/c%3A/Users/Asus/Desktop/Notebooks/Python/Python%20Basic/Worksheet.ipynb#ch0000009?line=3'>4</a>\u001b[0m     \u001b[39mprint\u001b[39m(count)  \n\u001b[1;32m----> <a href='vscode-notebook-cell:/c%3A/Users/Asus/Desktop/Notebooks/Python/Python%20Basic/Worksheet.ipynb#ch0000009?line=5'>6</a>\u001b[0m counter()\n",
      "\u001b[1;32mc:\\Users\\Asus\\Desktop\\Notebooks\\Python\\Python Basic\\Worksheet.ipynb Cell 10'\u001b[0m in \u001b[0;36mcounter\u001b[1;34m()\u001b[0m\n\u001b[0;32m      <a href='vscode-notebook-cell:/c%3A/Users/Asus/Desktop/Notebooks/Python/Python%20Basic/Worksheet.ipynb#ch0000009?line=0'>1</a>\u001b[0m \u001b[39mdef\u001b[39;00m \u001b[39mcounter\u001b[39m():\n\u001b[0;32m      <a href='vscode-notebook-cell:/c%3A/Users/Asus/Desktop/Notebooks/Python/Python%20Basic/Worksheet.ipynb#ch0000009?line=1'>2</a>\u001b[0m     \u001b[39mglobal\u001b[39;00m count\n\u001b[1;32m----> <a href='vscode-notebook-cell:/c%3A/Users/Asus/Desktop/Notebooks/Python/Python%20Basic/Worksheet.ipynb#ch0000009?line=2'>3</a>\u001b[0m     count \u001b[39m+\u001b[39m\u001b[39m=\u001b[39m \u001b[39m1\u001b[39m\n\u001b[0;32m      <a href='vscode-notebook-cell:/c%3A/Users/Asus/Desktop/Notebooks/Python/Python%20Basic/Worksheet.ipynb#ch0000009?line=3'>4</a>\u001b[0m     \u001b[39mprint\u001b[39m(count)\n",
      "\u001b[1;31mNameError\u001b[0m: name 'count' is not defined"
     ]
    }
   ],
   "source": [
    "def counter():\n",
    "    global count\n",
    "    count += 1\n",
    "    print(count)  \n",
    "\n",
    "counter()"
   ]
  },
  {
   "cell_type": "code",
   "execution_count": 7,
   "metadata": {},
   "outputs": [
    {
     "name": "stdout",
     "output_type": "stream",
     "text": [
      "2\n"
     ]
    }
   ],
   "source": [
    "count = 1\n",
    "\n",
    "def counter():\n",
    "    global count\n",
    "    count += 1\n",
    "    print(count)  \n",
    "\n",
    "counter() "
   ]
  },
  {
   "cell_type": "code",
   "execution_count": 8,
   "metadata": {},
   "outputs": [
    {
     "name": "stdout",
     "output_type": "stream",
     "text": [
      "20\n"
     ]
    }
   ],
   "source": [
    "x = 10\n",
    "def my_function_1(): \n",
    "    x = 20 \n",
    "    print(x)\n",
    "my_function_1() "
   ]
  },
  {
   "cell_type": "code",
   "execution_count": 9,
   "metadata": {},
   "outputs": [
    {
     "name": "stdout",
     "output_type": "stream",
     "text": [
      "hello\n"
     ]
    }
   ],
   "source": [
    "def myfunc1():\n",
    "  x = \"hi\"\n",
    "  def myfunc2():\n",
    "    nonlocal x\n",
    "    x = \"hello\"\n",
    "  myfunc2() \n",
    "  return x\n",
    "\n",
    "print(myfunc1())"
   ]
  },
  {
   "cell_type": "code",
   "execution_count": 16,
   "metadata": {},
   "outputs": [
    {
     "name": "stdout",
     "output_type": "stream",
     "text": [
      "My name is Richard\n"
     ]
    }
   ],
   "source": [
    "x = 'My name is Richard'\n",
    "def my_function_1():\n",
    "    x = 'My name is John'\n",
    "    \n",
    "print(x)\n",
    "  "
   ]
  },
  {
   "cell_type": "code",
   "execution_count": 17,
   "metadata": {},
   "outputs": [
    {
     "ename": "KeyboardInterrupt",
     "evalue": "",
     "output_type": "error",
     "traceback": [
      "\u001b[1;31m---------------------------------------------------------------------------\u001b[0m",
      "\u001b[1;31mKeyboardInterrupt\u001b[0m                         Traceback (most recent call last)",
      "\u001b[1;32mc:\\Users\\Asus\\Desktop\\Notebooks\\Python\\Python Basic\\Worksheet.ipynb Cell 15'\u001b[0m in \u001b[0;36m<module>\u001b[1;34m\u001b[0m\n\u001b[0;32m     <a href='vscode-notebook-cell:/c%3A/Users/Asus/Desktop/Notebooks/Python/Python%20Basic/Worksheet.ipynb#ch0000014?line=10'>11</a>\u001b[0m     right(\u001b[39m3\u001b[39m)\n\u001b[0;32m     <a href='vscode-notebook-cell:/c%3A/Users/Asus/Desktop/Notebooks/Python/Python%20Basic/Worksheet.ipynb#ch0000014?line=11'>12</a>\u001b[0m     forward(\u001b[39m3\u001b[39m)\n\u001b[1;32m---> <a href='vscode-notebook-cell:/c%3A/Users/Asus/Desktop/Notebooks/Python/Python%20Basic/Worksheet.ipynb#ch0000014?line=12'>13</a>\u001b[0m done()\n",
      "File \u001b[1;32m<string>:8\u001b[0m, in \u001b[0;36mmainloop\u001b[1;34m()\u001b[0m\n",
      "File \u001b[1;32m~\\AppData\\Local\\Programs\\Python\\Python38\\lib\\turtle.py:814\u001b[0m, in \u001b[0;36mTurtleScreenBase.mainloop\u001b[1;34m(self)\u001b[0m\n\u001b[0;32m    <a href='file:///c%3A/Users/Asus/AppData/Local/Programs/Python/Python38/lib/turtle.py?line=800'>801</a>\u001b[0m \u001b[39mdef\u001b[39;00m \u001b[39mmainloop\u001b[39m(\u001b[39mself\u001b[39m):\n\u001b[0;32m    <a href='file:///c%3A/Users/Asus/AppData/Local/Programs/Python/Python38/lib/turtle.py?line=801'>802</a>\u001b[0m     \u001b[39m\"\"\"Starts event loop - calling Tkinter's mainloop function.\u001b[39;00m\n\u001b[0;32m    <a href='file:///c%3A/Users/Asus/AppData/Local/Programs/Python/Python38/lib/turtle.py?line=802'>803</a>\u001b[0m \n\u001b[0;32m    <a href='file:///c%3A/Users/Asus/AppData/Local/Programs/Python/Python38/lib/turtle.py?line=803'>804</a>\u001b[0m \u001b[39m    No argument.\u001b[39;00m\n\u001b[1;32m   (...)\u001b[0m\n\u001b[0;32m    <a href='file:///c%3A/Users/Asus/AppData/Local/Programs/Python/Python38/lib/turtle.py?line=811'>812</a>\u001b[0m \n\u001b[0;32m    <a href='file:///c%3A/Users/Asus/AppData/Local/Programs/Python/Python38/lib/turtle.py?line=812'>813</a>\u001b[0m \u001b[39m    \"\"\"\u001b[39;00m\n\u001b[1;32m--> <a href='file:///c%3A/Users/Asus/AppData/Local/Programs/Python/Python38/lib/turtle.py?line=813'>814</a>\u001b[0m     TK\u001b[39m.\u001b[39;49mmainloop()\n",
      "File \u001b[1;32m~\\AppData\\Local\\Programs\\Python\\Python38\\lib\\tkinter\\__init__.py:603\u001b[0m, in \u001b[0;36mmainloop\u001b[1;34m(n)\u001b[0m\n\u001b[0;32m    <a href='file:///c%3A/Users/Asus/AppData/Local/Programs/Python/Python38/lib/tkinter/__init__.py?line=600'>601</a>\u001b[0m \u001b[39mdef\u001b[39;00m \u001b[39mmainloop\u001b[39m(n\u001b[39m=\u001b[39m\u001b[39m0\u001b[39m):\n\u001b[0;32m    <a href='file:///c%3A/Users/Asus/AppData/Local/Programs/Python/Python38/lib/tkinter/__init__.py?line=601'>602</a>\u001b[0m     \u001b[39m\"\"\"Run the main loop of Tcl.\"\"\"\u001b[39;00m\n\u001b[1;32m--> <a href='file:///c%3A/Users/Asus/AppData/Local/Programs/Python/Python38/lib/tkinter/__init__.py?line=602'>603</a>\u001b[0m     _get_default_root(\u001b[39m'\u001b[39;49m\u001b[39mrun the main loop\u001b[39;49m\u001b[39m'\u001b[39;49m)\u001b[39m.\u001b[39;49mtk\u001b[39m.\u001b[39;49mmainloop(n)\n",
      "\u001b[1;31mKeyboardInterrupt\u001b[0m: "
     ]
    }
   ],
   "source": [
    "from turtle import *\n",
    "\n",
    "bgcolor('black')\n",
    "speed(0)\n",
    "hideturtle()\n",
    "for i in range(120):\n",
    "    color(\"red\")\n",
    "    circle(i)\n",
    "    color(\"orange\")\n",
    "    circle(i*0.8)\n",
    "    right(3)\n",
    "    forward(3)\n",
    "done()"
   ]
  },
  {
   "cell_type": "code",
   "execution_count": 4,
   "metadata": {},
   "outputs": [
    {
     "data": {
      "text/plain": [
       "'hellohellohello'"
      ]
     },
     "execution_count": 4,
     "metadata": {},
     "output_type": "execute_result"
    }
   ],
   "source": [
    "echo_word = lambda x,y: (x*y)\n",
    "echo_word(\"hello\",3)"
   ]
  },
  {
   "cell_type": "code",
   "execution_count": 15,
   "metadata": {},
   "outputs": [
    {
     "name": "stdout",
     "output_type": "stream",
     "text": [
      "hihihihihi\n"
     ]
    }
   ],
   "source": [
    "x = input()\n",
    "y = input()\n",
    "echo_word = lambda x,y : x*int(y)\n",
    "print(echo_word(x,y))\n"
   ]
  },
  {
   "cell_type": "code",
   "execution_count": 2,
   "metadata": {},
   "outputs": [
    {
     "ename": "TypeError",
     "evalue": "<lambda>() takes 0 positional arguments but 1 was given",
     "output_type": "error",
     "traceback": [
      "\u001b[1;31m---------------------------------------------------------------------------\u001b[0m",
      "\u001b[1;31mTypeError\u001b[0m                                 Traceback (most recent call last)",
      "\u001b[1;32mc:\\Users\\Asus\\Desktop\\Notebooks\\Python\\Python Basic\\Worksheet.ipynb Cell 18'\u001b[0m in \u001b[0;36m<module>\u001b[1;34m\u001b[0m\n\u001b[0;32m      <a href='vscode-notebook-cell:/c%3A/Users/Asus/Desktop/Notebooks/Python/Python%20Basic/Worksheet.ipynb#ch0000017?line=0'>1</a>\u001b[0m number_list \u001b[39m=\u001b[39m [\u001b[39m1\u001b[39m, \u001b[39m2\u001b[39m, \u001b[39m3\u001b[39m, \u001b[39m4\u001b[39m, \u001b[39m5\u001b[39m]\n\u001b[0;32m      <a href='vscode-notebook-cell:/c%3A/Users/Asus/Desktop/Notebooks/Python/Python%20Basic/Worksheet.ipynb#ch0000017?line=1'>2</a>\u001b[0m \u001b[39mlambda\u001b[39;00m x,y : x \u001b[39m*\u001b[39m y\n\u001b[1;32m----> <a href='vscode-notebook-cell:/c%3A/Users/Asus/Desktop/Notebooks/Python/Python%20Basic/Worksheet.ipynb#ch0000017?line=2'>3</a>\u001b[0m result \u001b[39m=\u001b[39m \u001b[39mlist\u001b[39;49m(\u001b[39mmap\u001b[39;49m(\u001b[39mlambda\u001b[39;49;00m : \u001b[39m3\u001b[39;49m, number_list))\n",
      "\u001b[1;31mTypeError\u001b[0m: <lambda>() takes 0 positional arguments but 1 was given"
     ]
    }
   ],
   "source": [
    "number_list = [1, 2, 3, 4, 5]\n",
    "lambda x,y : x * y\n",
    "result = list(map(lambda : 3, number_list))"
   ]
  },
  {
   "cell_type": "code",
   "execution_count": 4,
   "metadata": {},
   "outputs": [
    {
     "ename": "TypeError",
     "evalue": "map() must have at least two arguments.",
     "output_type": "error",
     "traceback": [
      "\u001b[1;31m---------------------------------------------------------------------------\u001b[0m",
      "\u001b[1;31mTypeError\u001b[0m                                 Traceback (most recent call last)",
      "\u001b[1;32mc:\\Users\\Asus\\Desktop\\Notebooks\\Python\\Python Basic\\Worksheet.ipynb Cell 19'\u001b[0m in \u001b[0;36m<module>\u001b[1;34m\u001b[0m\n\u001b[0;32m      <a href='vscode-notebook-cell:/c%3A/Users/Asus/Desktop/Notebooks/Python/Python%20Basic/Worksheet.ipynb#ch0000018?line=0'>1</a>\u001b[0m number_list \u001b[39m=\u001b[39m [\u001b[39m1\u001b[39m, \u001b[39m2\u001b[39m, \u001b[39m3\u001b[39m, \u001b[39m4\u001b[39m, \u001b[39m5\u001b[39m]\n\u001b[1;32m----> <a href='vscode-notebook-cell:/c%3A/Users/Asus/Desktop/Notebooks/Python/Python%20Basic/Worksheet.ipynb#ch0000018?line=1'>2</a>\u001b[0m \u001b[39mmap\u001b[39;49m(\u001b[39mlambda\u001b[39;49;00m x : x \u001b[39m*\u001b[39;49m number_list)\n\u001b[0;32m      <a href='vscode-notebook-cell:/c%3A/Users/Asus/Desktop/Notebooks/Python/Python%20Basic/Worksheet.ipynb#ch0000018?line=2'>3</a>\u001b[0m result \u001b[39m=\u001b[39m \u001b[39mlist\u001b[39m(\u001b[39mmap\u001b[39m(\u001b[39mlambda\u001b[39;00m : \u001b[39m3\u001b[39m, number_list))\n\u001b[0;32m      <a href='vscode-notebook-cell:/c%3A/Users/Asus/Desktop/Notebooks/Python/Python%20Basic/Worksheet.ipynb#ch0000018?line=3'>4</a>\u001b[0m \u001b[39mprint\u001b[39m(result)\n",
      "\u001b[1;31mTypeError\u001b[0m: map() must have at least two arguments."
     ]
    }
   ],
   "source": [
    "number_list = [1, 2, 3, 4, 5]\n",
    "map(lambda x : x * number_list)\n",
    "result = list(map(lambda : 3, number_list))\n",
    "print(result)"
   ]
  },
  {
   "cell_type": "code",
   "execution_count": null,
   "metadata": {},
   "outputs": [],
   "source": [
    "square = lambda x: x**2"
   ]
  },
  {
   "cell_type": "code",
   "execution_count": null,
   "metadata": {},
   "outputs": [],
   "source": [
    "number_list=[1, 2, 3, 4, 5]\n",
    "\n",
    "result= list(map(lambda x: x**2, number_list))\n",
    "\n"
   ]
  },
  {
   "cell_type": "code",
   "execution_count": null,
   "metadata": {},
   "outputs": [],
   "source": [
    "number_list=[1, 2, 3, 4, 5, 6, 7, 8, 9, 10]\n",
    "\n",
    "result= list(map(lambda x: x/2 != 0, number_list))   \n",
    "\n"
   ]
  },
  {
   "cell_type": "code",
   "execution_count": null,
   "metadata": {},
   "outputs": [],
   "source": []
  },
  {
   "cell_type": "code",
   "execution_count": null,
   "metadata": {},
   "outputs": [],
   "source": [
    "import module\n",
    "from module import my_function_1\n",
    "\n",
    "area_1 = my_function_1(3,4)\n",
    "area_2 = my_function_1(5,6)\n",
    "area_3 = my_function_1(6,8)"
   ]
  },
  {
   "cell_type": "code",
   "execution_count": null,
   "metadata": {},
   "outputs": [],
   "source": [
    "import module\n",
    "from module import my_function_2\n",
    "\n",
    "hypotenuse_1 = my_function_2(3,4)\n",
    "hypotenuse_2 = my_function_2(6,8)\n",
    "hypotenuse_3 = my_function_2(9,12)\n"
   ]
  },
  {
   "cell_type": "code",
   "execution_count": null,
   "metadata": {},
   "outputs": [],
   "source": []
  }
 ],
 "metadata": {
  "interpreter": {
   "hash": "46971d6258fae1e211635d8bf7f60d4d01846c4e42537e37b5cbd719f8de335b"
  },
  "kernelspec": {
   "display_name": "Python 3.8.9 64-bit",
   "language": "python",
   "name": "python3"
  },
  "language_info": {
   "codemirror_mode": {
    "name": "ipython",
    "version": 3
   },
   "file_extension": ".py",
   "mimetype": "text/x-python",
   "name": "python",
   "nbconvert_exporter": "python",
   "pygments_lexer": "ipython3",
   "version": "3.8.9"
  },
  "orig_nbformat": 4
 },
 "nbformat": 4,
 "nbformat_minor": 2
}
