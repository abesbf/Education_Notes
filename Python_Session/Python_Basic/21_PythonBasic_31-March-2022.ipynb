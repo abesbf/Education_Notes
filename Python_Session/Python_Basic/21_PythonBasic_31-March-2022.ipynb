{
 "cells": [
  {
   "cell_type": "code",
   "execution_count": 1,
   "metadata": {},
   "outputs": [
    {
     "name": "stdout",
     "output_type": "stream",
     "text": [
      "Hello World\n",
      "Hello World\n",
      "Hello World\n",
      "Hello World\n"
     ]
    },
    {
     "ename": "ZeroDivisionError",
     "evalue": "division by zero",
     "output_type": "error",
     "traceback": [
      "\u001b[0;31m---------------------------------------------------------------------------\u001b[0m",
      "\u001b[0;31mZeroDivisionError\u001b[0m                         Traceback (most recent call last)",
      "\u001b[1;32m/home/ahmetburakeren/Education_Notes/Python_Session/Python_Basic/21_PythonBasic_31-March-2022.ipynb Cell 1'\u001b[0m in \u001b[0;36m<cell line: 5>\u001b[0;34m()\u001b[0m\n\u001b[1;32m      <a href='vscode-notebook-cell://wsl%2Bubuntu20.04lts/home/ahmetburakeren/Education_Notes/Python_Session/Python_Basic/21_PythonBasic_31-March-2022.ipynb#ch0000000vscode-remote?line=2'>3</a>\u001b[0m \u001b[39mprint\u001b[39m(\u001b[39m\"\u001b[39m\u001b[39mHello World\u001b[39m\u001b[39m\"\u001b[39m)\n\u001b[1;32m      <a href='vscode-notebook-cell://wsl%2Bubuntu20.04lts/home/ahmetburakeren/Education_Notes/Python_Session/Python_Basic/21_PythonBasic_31-March-2022.ipynb#ch0000000vscode-remote?line=3'>4</a>\u001b[0m \u001b[39mprint\u001b[39m(\u001b[39m\"\u001b[39m\u001b[39mHello World\u001b[39m\u001b[39m\"\u001b[39m)\n\u001b[0;32m----> <a href='vscode-notebook-cell://wsl%2Bubuntu20.04lts/home/ahmetburakeren/Education_Notes/Python_Session/Python_Basic/21_PythonBasic_31-March-2022.ipynb#ch0000000vscode-remote?line=4'>5</a>\u001b[0m \u001b[39m2\u001b[39;49m\u001b[39m/\u001b[39;49m\u001b[39m0\u001b[39;49m\n\u001b[1;32m      <a href='vscode-notebook-cell://wsl%2Bubuntu20.04lts/home/ahmetburakeren/Education_Notes/Python_Session/Python_Basic/21_PythonBasic_31-March-2022.ipynb#ch0000000vscode-remote?line=5'>6</a>\u001b[0m \u001b[39mprint\u001b[39m(\u001b[39m\"\u001b[39m\u001b[39mHello World\u001b[39m\u001b[39m\"\u001b[39m)\n\u001b[1;32m      <a href='vscode-notebook-cell://wsl%2Bubuntu20.04lts/home/ahmetburakeren/Education_Notes/Python_Session/Python_Basic/21_PythonBasic_31-March-2022.ipynb#ch0000000vscode-remote?line=6'>7</a>\u001b[0m \u001b[39mprint\u001b[39m(\u001b[39m\"\u001b[39m\u001b[39mHello World\u001b[39m\u001b[39m\"\u001b[39m)\n",
      "\u001b[0;31mZeroDivisionError\u001b[0m: division by zero"
     ]
    }
   ],
   "source": [
    "print(\"Hello World\")\n",
    "print(\"Hello World\")\n",
    "print(\"Hello World\")\n",
    "print(\"Hello World\")\n",
    "2/0\n",
    "print(\"Hello World\")\n",
    "print(\"Hello World\")\n",
    "print(\"Hello World\")"
   ]
  },
  {
   "cell_type": "code",
   "execution_count": 8,
   "metadata": {},
   "outputs": [
    {
     "name": "stdout",
     "output_type": "stream",
     "text": [
      "The result of the division is :  2.0\n"
     ]
    }
   ],
   "source": [
    "while True:\n",
    "    no_one = int(input(\"The first number please : \"))\n",
    "    no_two = int(input(\"The second number please : \"))\n",
    "    try:\n",
    "        division = no_one / no_two\n",
    "    except:\n",
    "        ZeroDivisionError\n",
    "    print(\"The result of the division is : \", division)\n",
    "    break"
   ]
  },
  {
   "cell_type": "code",
   "execution_count": 10,
   "metadata": {},
   "outputs": [
    {
     "name": "stdout",
     "output_type": "stream",
     "text": [
      "this is the first code line\n",
      "something went wrong\n"
     ]
    }
   ],
   "source": [
    "try:\n",
    "    print(\"this is the first code line\")\n",
    "    x = 2/0\n",
    "    print(\"Look it works!\")\n",
    "except:\n",
    "    print(\"something went wrong\")"
   ]
  },
  {
   "cell_type": "code",
   "execution_count": 15,
   "metadata": {},
   "outputs": [
    {
     "ename": "ValueError",
     "evalue": "invalid literal for int() with base 10: '5.0'",
     "output_type": "error",
     "traceback": [
      "\u001b[0;31m---------------------------------------------------------------------------\u001b[0m",
      "\u001b[0;31mValueError\u001b[0m                                Traceback (most recent call last)",
      "\u001b[1;32m/home/ahmetburakeren/Education_Notes/Python_Session/Python_Basic/21_PythonBasic_31-March-2022.ipynb Cell 4'\u001b[0m in \u001b[0;36m<cell line: 2>\u001b[0;34m()\u001b[0m\n\u001b[1;32m      <a href='vscode-notebook-cell://wsl%2Bubuntu20.04lts/home/ahmetburakeren/Education_Notes/Python_Session/Python_Basic/21_PythonBasic_31-March-2022.ipynb#ch0000005vscode-remote?line=0'>1</a>\u001b[0m \u001b[39mwhile\u001b[39;00m \u001b[39mTrue\u001b[39;00m :\n\u001b[0;32m----> <a href='vscode-notebook-cell://wsl%2Bubuntu20.04lts/home/ahmetburakeren/Education_Notes/Python_Session/Python_Basic/21_PythonBasic_31-March-2022.ipynb#ch0000005vscode-remote?line=1'>2</a>\u001b[0m     no_one\u001b[39m=\u001b[39m\u001b[39mint\u001b[39;49m(\u001b[39minput\u001b[39;49m(\u001b[39m\"\u001b[39;49m\u001b[39mfirst number : \u001b[39;49m\u001b[39m\"\u001b[39;49m))\n\u001b[1;32m      <a href='vscode-notebook-cell://wsl%2Bubuntu20.04lts/home/ahmetburakeren/Education_Notes/Python_Session/Python_Basic/21_PythonBasic_31-March-2022.ipynb#ch0000005vscode-remote?line=2'>3</a>\u001b[0m     no_two\u001b[39m=\u001b[39m\u001b[39mint\u001b[39m(\u001b[39minput\u001b[39m(\u001b[39m\"\u001b[39m\u001b[39msecond number  : \u001b[39m\u001b[39m\"\u001b[39m))\n\u001b[1;32m      <a href='vscode-notebook-cell://wsl%2Bubuntu20.04lts/home/ahmetburakeren/Education_Notes/Python_Session/Python_Basic/21_PythonBasic_31-March-2022.ipynb#ch0000005vscode-remote?line=3'>4</a>\u001b[0m     \u001b[39mtry\u001b[39;00m:\n",
      "\u001b[0;31mValueError\u001b[0m: invalid literal for int() with base 10: '5.0'"
     ]
    }
   ],
   "source": [
    "while True :\n",
    "    no_one=int(input(\"first number : \"))\n",
    "    no_two=int(input(\"second number  : \"))\n",
    "    try:\n",
    "        division=no_one/no_two\n",
    "        print(\"result of division is: \",division)\n",
    "        break\n",
    "        \n",
    "    except ZeroDivisionError:\n",
    "        print(\"Do not divide by zero \")"
   ]
  },
  {
   "cell_type": "code",
   "execution_count": 18,
   "metadata": {},
   "outputs": [
    {
     "name": "stdout",
     "output_type": "stream",
     "text": [
      "The result of the division is :  3.5\n",
      "Thanks for using our mini divison calculator! Come again!\n"
     ]
    }
   ],
   "source": [
    "while True:\n",
    "    no_one = int(input(\"The first number please : \"))\n",
    "    no_two = int(input(\"The second number please : \"))\n",
    "    try:\n",
    "        division = no_one / no_two  # normal part of the program\n",
    "    except ZeroDivisionError:\n",
    "        print(\"You can't divide by zero! Try again.\")  # executes when division by zero\n",
    "    else:\n",
    "        print(\"The result of the division is : \", division)  # executes if there is no exception\n",
    "    finally:\n",
    "        print(\"Thanks for using our mini divison calculator! Come again!\")\n",
    "        break  # exits the while loop"
   ]
  },
  {
   "cell_type": "code",
   "execution_count": 22,
   "metadata": {},
   "outputs": [
    {
     "name": "stdout",
     "output_type": "stream",
     "text": [
      "Thanks for using our mini divison calculator! Come again!\n"
     ]
    },
    {
     "ename": "ValueError",
     "evalue": "invalid literal for int() with base 10: 'beş'",
     "output_type": "error",
     "traceback": [
      "\u001b[0;31m---------------------------------------------------------------------------\u001b[0m",
      "\u001b[0;31mValueError\u001b[0m                                Traceback (most recent call last)",
      "\u001b[1;32m/home/ahmetburakeren/Education_Notes/Python_Session/Python_Basic/21_PythonBasic_31-March-2022.ipynb Cell 6'\u001b[0m in \u001b[0;36m<cell line: 2>\u001b[0;34m()\u001b[0m\n\u001b[1;32m      <a href='vscode-notebook-cell://wsl%2Bubuntu20.04lts/home/ahmetburakeren/Education_Notes/Python_Session/Python_Basic/21_PythonBasic_31-March-2022.ipynb#ch0000003vscode-remote?line=1'>2</a>\u001b[0m \u001b[39mtry\u001b[39;00m:\n\u001b[1;32m      <a href='vscode-notebook-cell://wsl%2Bubuntu20.04lts/home/ahmetburakeren/Education_Notes/Python_Session/Python_Basic/21_PythonBasic_31-March-2022.ipynb#ch0000003vscode-remote?line=2'>3</a>\u001b[0m     no_one \u001b[39m=\u001b[39m \u001b[39mint\u001b[39m(\u001b[39minput\u001b[39m(\u001b[39m\"\u001b[39m\u001b[39mThe first number please : \u001b[39m\u001b[39m\"\u001b[39m))\n\u001b[0;32m----> <a href='vscode-notebook-cell://wsl%2Bubuntu20.04lts/home/ahmetburakeren/Education_Notes/Python_Session/Python_Basic/21_PythonBasic_31-March-2022.ipynb#ch0000003vscode-remote?line=3'>4</a>\u001b[0m     no_two \u001b[39m=\u001b[39m \u001b[39mint\u001b[39;49m(\u001b[39minput\u001b[39;49m(\u001b[39m\"\u001b[39;49m\u001b[39mThe second number please : \u001b[39;49m\u001b[39m\"\u001b[39;49m))\n\u001b[1;32m      <a href='vscode-notebook-cell://wsl%2Bubuntu20.04lts/home/ahmetburakeren/Education_Notes/Python_Session/Python_Basic/21_PythonBasic_31-March-2022.ipynb#ch0000003vscode-remote?line=4'>5</a>\u001b[0m     division \u001b[39m=\u001b[39m no_one \u001b[39m/\u001b[39m no_two  \u001b[39m# normal part of the program\u001b[39;00m\n\u001b[1;32m      <a href='vscode-notebook-cell://wsl%2Bubuntu20.04lts/home/ahmetburakeren/Education_Notes/Python_Session/Python_Basic/21_PythonBasic_31-March-2022.ipynb#ch0000003vscode-remote?line=5'>6</a>\u001b[0m \u001b[39mexcept\u001b[39;00m \u001b[39mZeroDivisionError\u001b[39;00m:\n",
      "\u001b[0;31mValueError\u001b[0m: invalid literal for int() with base 10: 'beş'"
     ]
    }
   ],
   "source": [
    "while True: # burada integer / str yapsak bile çalşır çünkü herşeyi try bloku içine aldık\n",
    "    try:\n",
    "        no_one = int(input(\"The first number please : \"))\n",
    "        no_two = int(input(\"The second number please : \"))\n",
    "        division = no_one / no_two  # normal part of the program\n",
    "    except ZeroDivisionError:\n",
    "        print(\"You can't divide by zero! Try again.\")  # executes when division by zero\n",
    "    else:\n",
    "        print(\"The result of the division is : \", division)  # executes if there is no exception\n",
    "    finally:\n",
    "        print(\"Thanks for using our mini divison calculator! Come again!\")\n",
    "        break  # exits the while loop\n",
    "\n",
    "    # if we hold up break from the end the error occurs\n",
    "    "
   ]
  },
  {
   "cell_type": "code",
   "execution_count": 25,
   "metadata": {},
   "outputs": [
    {
     "name": "stdout",
     "output_type": "stream",
     "text": [
      "The exception that raised is : invalid literal for int() with base 10: 'beş'\n"
     ]
    }
   ],
   "source": [
    "while True:\n",
    "\n",
    "    try:\n",
    "        no_one = int(input(\"The first number please : \"))\n",
    "        no_two = int(input(\"The second number please : \"))        \n",
    "        division = no_one / no_two\n",
    "        print(\"The result of the division is : \", division)\n",
    "        break\n",
    "    except Exception as fırfırik:\n",
    "        print(\"The exception that raised is :\", fırfırik)\n",
    "        break"
   ]
  },
  {
   "cell_type": "code",
   "execution_count": 23,
   "metadata": {},
   "outputs": [
    {
     "name": "stdout",
     "output_type": "stream",
     "text": [
      "The error message is :  name 'c' is not defined\n"
     ]
    }
   ],
   "source": [
    "try :\n",
    "    a = 10\n",
    "    b = 2\n",
    "    print(\"The result of division is :\", c)\n",
    "except Exception as e:\n",
    "    print(\"The error message is : \", e)"
   ]
  },
  {
   "cell_type": "code",
   "execution_count": 28,
   "metadata": {},
   "outputs": [
    {
     "name": "stdout",
     "output_type": "stream",
     "text": [
      "Something went wrong\n",
      "always execute this\n"
     ]
    }
   ],
   "source": [
    "try:\n",
    "    x = 4/0\n",
    "except:\n",
    "    print(\"Something went wrong\")\n",
    "finally:\n",
    "    print(\"always execute this\")"
   ]
  },
  {
   "cell_type": "code",
   "execution_count": null,
   "metadata": {},
   "outputs": [],
   "source": [
    "while True:\n",
    "\n",
    "    try:\n",
    "        no_one = int(input(\"The first number please : \"))\n",
    "        no_two = int(input(\"The second number please : \"))        \n",
    "        division = no_one / no_two\n",
    "        print(\"The result of the division is : \", division)\n",
    "        break\n",
    "    except Exception as fırfırik:\n",
    "        print(\"The exception that raised is :\", fırfırik)\n",
    "        break"
   ]
  },
  {
   "cell_type": "code",
   "execution_count": 32,
   "metadata": {},
   "outputs": [
    {
     "name": "stdout",
     "output_type": "stream",
     "text": [
      "You are trying to divide by zero\n"
     ]
    }
   ],
   "source": [
    "try:\n",
    "    x = 2/0\n",
    "except ZeroDivisionError:\n",
    "    print(\"You are trying to divide by zero\")\n",
    "except:\n",
    "    print(\"Something went wrong.\")"
   ]
  },
  {
   "cell_type": "code",
   "execution_count": 41,
   "metadata": {},
   "outputs": [
    {
     "name": "stdout",
     "output_type": "stream",
     "text": [
      "Something went wrong.\n"
     ]
    }
   ],
   "source": [
    "try:\n",
    "    y\n",
    "except ZeroDivisionError:\n",
    "    print(\"You are trying to divide by zero\")\n",
    "except:\n",
    "    print(\"Something went wrong.\")"
   ]
  },
  {
   "cell_type": "code",
   "execution_count": 43,
   "metadata": {},
   "outputs": [
    {
     "name": "stdout",
     "output_type": "stream",
     "text": [
      "someting went wrong\n"
     ]
    }
   ],
   "source": [
    "try :\n",
    "  x = 2 / \"bir\"\n",
    "except ZeroDivisionError :\n",
    "  print(\"You are trying to divide by zero\")\n",
    "except NameError :\n",
    "  print(\"Wrong is related to name error\")\n",
    "except :\n",
    "  print(\"someting went wrong\")"
   ]
  },
  {
   "cell_type": "code",
   "execution_count": 46,
   "metadata": {},
   "outputs": [
    {
     "name": "stdout",
     "output_type": "stream",
     "text": [
      "There are Value or Type error\n"
     ]
    }
   ],
   "source": [
    "try:\n",
    "    4 + \"4\"\n",
    "except ZeroDivisionError:  # executes when division by zero\n",
    "    print(\"ZeroDivisionError.\")  \n",
    "except NameError:  # executes when NameError\n",
    "    print(\"NameError.\")  \n",
    "except (ValueError, TypeError):  # executes when other error\n",
    "    print(\"There are Value or Type error.\") \n",
    "except:\n",
    "    print(\"Something went wrong.\")"
   ]
  },
  {
   "cell_type": "code",
   "execution_count": 2,
   "metadata": {},
   "outputs": [
    {
     "name": "stdout",
     "output_type": "stream",
     "text": [
      "Zero Division Error.\n"
     ]
    }
   ],
   "source": [
    "try:\n",
    "    4 / 0\n",
    "except ArithmeticError:  # executes when division by zero\n",
    "    print(\"Zero Division Error.\")  \n",
    "except NameError:  # executes when NameError\n",
    "    print(\"NameError.\")  \n",
    "except (ValueError, TypeError):  # executes when other error\n",
    "    print(\"There are Value or Type error.\") \n",
    "except:\n",
    "    print(\"Something went wrong.\")"
   ]
  },
  {
   "cell_type": "code",
   "execution_count": 7,
   "metadata": {},
   "outputs": [
    {
     "name": "stdout",
     "output_type": "stream",
     "text": [
      "Please type your favorite fruits index correctly between 0-5\n",
      "Please type integer number\n",
      "Your favourite fruit is: kiwi\n"
     ]
    }
   ],
   "source": [
    "fruits = [\"banana\", \"mango\", \"pear\", \"apple\",\"kiwi\",\"grape\"]\n",
    "\n",
    "while True:\n",
    "    try:\n",
    "        index = int(input(\"Please enter your favourite fruits number:\"))\n",
    "        print(\"Your favourite fruit is:\",fruits[index])\n",
    "        break\n",
    "    except IndexError:\n",
    "        print(\"Please type your favorite fruits index correctly between 0-5\")\n",
    "    except ValueError:\n",
    "        print(\"Please type integer number\")\n",
    "    except:\n",
    "        print(\"Something went wrong\")\n",
    "        break\n",
    "\n",
    "\n"
   ]
  },
  {
   "cell_type": "code",
   "execution_count": 12,
   "metadata": {},
   "outputs": [
    {
     "name": "stdout",
     "output_type": "stream",
     "text": [
      "Please enter an integer number with digits and you have 2 chance remained \n",
      "Please enter an integer number between 0-5 and you have 1 chance remained\n",
      "Please enter an integer number with digits and you have 0 chance remained \n"
     ]
    }
   ],
   "source": [
    "fruits = ['banana', 'mango', 'pear', 'apple', 'kiwi', 'grape']\n",
    "count = 3\n",
    "while count > 0:\n",
    "    try:\n",
    "        a = int(input())\n",
    "        print(fruits[a])\n",
    "        break\n",
    "    except IndexError:\n",
    "        count -= 1\n",
    "        print(f\"Please enter an integer number between 0-5 and you have {count} chance remained\")\n",
    "        \n",
    "    except ValueError:\n",
    "        count -= 1\n",
    "        print(f'Please enter an integer number with digits and you have {count} chance remained ')\n",
    "        "
   ]
  },
  {
   "cell_type": "code",
   "execution_count": 17,
   "metadata": {},
   "outputs": [
    {
     "data": {
      "text/plain": [
       "{'int': 0, 'str': 0, 'bool': 0, 'list': 0, 'tuple': 0, 'dict': 0, 'set': 0}"
      ]
     },
     "execution_count": 17,
     "metadata": {},
     "output_type": "execute_result"
    }
   ],
   "source": [
    "data = [\"a\", \"b\", True, (False, 1), {\"1\" : 2}, [1,2], {\"2\" : \"two\"}, {2, \"3\"}, \"c\", 23, 0]\n",
    "\n",
    "types = [\"int\", \"str\", \"bool\", \"list\", \"tuple\", \"dict\", \"set\"]\n",
    "\n",
    "# find out the type numbers in the data list below\n",
    "\n",
    "total = {}.fromkeys(types,0)\n",
    "total"
   ]
  },
  {
   "cell_type": "code",
   "execution_count": 18,
   "metadata": {},
   "outputs": [
    {
     "data": {
      "text/plain": [
       "{'int': 2, 'str': 3, 'bool': 1, 'list': 1, 'tuple': 1, 'dict': 2, 'set': 1}"
      ]
     },
     "execution_count": 18,
     "metadata": {},
     "output_type": "execute_result"
    }
   ],
   "source": [
    "for i in range(len(data)):\n",
    "    if type(data[i]) == int : total[\"int\"] += 1\n",
    "    elif type(data[i]) == str : total[\"str\"] += 1\n",
    "    elif type(data[i]) == bool : total[\"bool\"] += 1\n",
    "    elif type(data[i]) == list : total[\"list\"] += 1\n",
    "    elif type(data[i]) == tuple : total[\"tuple\"] += 1\n",
    "    elif type(data[i]) == dict : total[\"dict\"] += 1\n",
    "    elif type(data[i]) == set : total[\"set\"] += 1\n",
    "\n",
    "total"
   ]
  },
  {
   "cell_type": "code",
   "execution_count": null,
   "metadata": {},
   "outputs": [],
   "source": []
  },
  {
   "cell_type": "code",
   "execution_count": null,
   "metadata": {},
   "outputs": [],
   "source": []
  },
  {
   "cell_type": "code",
   "execution_count": null,
   "metadata": {},
   "outputs": [],
   "source": []
  },
  {
   "cell_type": "code",
   "execution_count": null,
   "metadata": {},
   "outputs": [],
   "source": []
  },
  {
   "cell_type": "code",
   "execution_count": null,
   "metadata": {},
   "outputs": [],
   "source": []
  }
 ],
 "metadata": {
  "interpreter": {
   "hash": "916dbcbb3f70747c44a77c7bcd40155683ae19c65e1c03b4aa3499c5328201f1"
  },
  "kernelspec": {
   "display_name": "Python 3.8.10 64-bit",
   "language": "python",
   "name": "python3"
  },
  "language_info": {
   "codemirror_mode": {
    "name": "ipython",
    "version": 3
   },
   "file_extension": ".py",
   "mimetype": "text/x-python",
   "name": "python",
   "nbconvert_exporter": "python",
   "pygments_lexer": "ipython3",
   "version": "3.8.10"
  },
  "orig_nbformat": 4
 },
 "nbformat": 4,
 "nbformat_minor": 2
}
