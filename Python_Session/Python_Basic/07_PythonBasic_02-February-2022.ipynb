{
 "cells": [
  {
   "cell_type": "code",
   "execution_count": 1,
   "id": "91d6d9f5",
   "metadata": {},
   "outputs": [
    {
     "name": "stdout",
     "output_type": "stream",
     "text": [
      "-1\n"
     ]
    }
   ],
   "source": [
    "a = 1\n",
    "print(-a)"
   ]
  },
  {
   "cell_type": "code",
   "execution_count": 2,
   "id": "48db3b27",
   "metadata": {},
   "outputs": [
    {
     "data": {
      "text/plain": [
       "11"
      ]
     },
     "execution_count": 2,
     "metadata": {},
     "output_type": "execute_result"
    }
   ],
   "source": [
    "b = -11\n",
    "-b"
   ]
  },
  {
   "cell_type": "code",
   "execution_count": 4,
   "id": "66a9fd23",
   "metadata": {},
   "outputs": [
    {
     "name": "stdout",
     "output_type": "stream",
     "text": [
      "The sum of 3 + 4 is : 7\n"
     ]
    }
   ],
   "source": [
    "a = 3\n",
    "b = 4\n",
    "print(\"The sum of {} + {} is : {}\".format(a, b, a+b))"
   ]
  },
  {
   "cell_type": "code",
   "execution_count": 5,
   "id": "8126d489",
   "metadata": {},
   "outputs": [
    {
     "name": "stdout",
     "output_type": "stream",
     "text": [
      "The multiplication of 3 x 4 is : 12\n"
     ]
    }
   ],
   "source": [
    "print(\"The multiplication of {} x {} is : {}\".format(a, b, a*b))\n"
   ]
  },
  {
   "cell_type": "code",
   "execution_count": 6,
   "id": "c70157c3",
   "metadata": {},
   "outputs": [
    {
     "name": "stdout",
     "output_type": "stream",
     "text": [
      "The powe of 3 to 2 is : 8\n"
     ]
    }
   ],
   "source": [
    "x = 2\n",
    "y = 3\n",
    "print(\"The power of {} to {} is : {}\".format(y, x, x ** y))"
   ]
  },
  {
   "cell_type": "code",
   "execution_count": 8,
   "id": "cc056dad",
   "metadata": {},
   "outputs": [
    {
     "data": {
      "text/plain": [
       "'3.15, 5.367, 7.3243'"
      ]
     },
     "execution_count": 8,
     "metadata": {},
     "output_type": "execute_result"
    }
   ],
   "source": [
    "text = \"{:.2f}, {:.3f}, {:.4f}\".format(3.1463, 5.367, 7.324324)\n",
    "text  # stringde round kullanmadan yapıldığında yuvarlama yapıyor üste"
   ]
  },
  {
   "cell_type": "code",
   "execution_count": 10,
   "id": "e228813f",
   "metadata": {},
   "outputs": [
    {
     "data": {
      "text/plain": [
       "'3.1, 5.37, 7.324'"
      ]
     },
     "execution_count": 10,
     "metadata": {},
     "output_type": "execute_result"
    }
   ],
   "source": [
    "text = \"{:.2}, {:.3}, {:.4}\".format(3.1463, 5.367, 7.324324)\n",
    "text  # burada ise float aldı ama yuvarlama yapmadı çünkü f kullanmadık"
   ]
  },
  {
   "cell_type": "code",
   "execution_count": 12,
   "id": "c9f8e766",
   "metadata": {},
   "outputs": [
    {
     "data": {
      "text/plain": [
       "'a3, 5.b, 7.32'"
      ]
     },
     "execution_count": 12,
     "metadata": {},
     "output_type": "execute_result"
    }
   ],
   "source": [
    "text = \"{:.2s}, {:.3s}, {:.4s}\".format(\"a3.1463\", \"5.b367\", \"7.324324c\" )\n",
    "text # ilk 2 ,3 ve 4 string ifadelerini aldı"
   ]
  },
  {
   "cell_type": "code",
   "execution_count": 13,
   "id": "fd2431ea",
   "metadata": {},
   "outputs": [
    {
     "data": {
      "text/plain": [
       "'a3, 5.b, 7.32'"
      ]
     },
     "execution_count": 13,
     "metadata": {},
     "output_type": "execute_result"
    }
   ],
   "source": [
    "text = \"{:.2}, {:.3}, {:.4}\".format(\"a3.1463\", \"5.b367\", \"7.324324c\" )\n",
    "text # burda da ilk 2,3,4 ifadeleri aldı"
   ]
  },
  {
   "cell_type": "code",
   "execution_count": 15,
   "id": "0b18f9ca",
   "metadata": {},
   "outputs": [
    {
     "data": {
      "text/plain": [
       "'      test'"
      ]
     },
     "execution_count": 15,
     "metadata": {},
     "output_type": "execute_result"
    }
   ],
   "source": [
    "text = \"{:>10}\".format(\"test\") # sağ ok sağa yasla 10 karakterlik alanda \n",
    "text # yani sağda toplam 6 boşluk artı 4 harf 10 karakter"
   ]
  },
  {
   "cell_type": "code",
   "execution_count": 16,
   "id": "7af13a6a",
   "metadata": {},
   "outputs": [
    {
     "data": {
      "text/plain": [
       "'test      '"
      ]
     },
     "execution_count": 16,
     "metadata": {},
     "output_type": "execute_result"
    }
   ],
   "source": [
    "text = \"{:<10}\".format(\"test\") # bu da tam tersi oldu sola yaslı\n",
    "text"
   ]
  },
  {
   "cell_type": "code",
   "execution_count": 18,
   "id": "2dfab829",
   "metadata": {},
   "outputs": [
    {
     "data": {
      "text/plain": [
       "'format line                 test this is the en of text'"
      ]
     },
     "execution_count": 18,
     "metadata": {},
     "output_type": "execute_result"
    }
   ],
   "source": [
    "text = \"format line {:>20} this is the en of text\".format(\"test\")\n",
    "text # gördüğümüz gibi arada 20 satır boşluk bırakıp testi sağa yasladık"
   ]
  },
  {
   "cell_type": "code",
   "execution_count": 19,
   "id": "6ad3fea2",
   "metadata": {},
   "outputs": [
    {
     "data": {
      "text/plain": [
       "'bla bla ökkeş           this is my format sentence'"
      ]
     },
     "execution_count": 19,
     "metadata": {},
     "output_type": "execute_result"
    }
   ],
   "source": [
    "text = \"bla bla {:<15} this is my format sentence\".format(\"ökkeş\")\n",
    "text  # burda da sola yasladık 20 karakter boşluğun içine"
   ]
  },
  {
   "cell_type": "code",
   "execution_count": 20,
   "id": "1e055d7c",
   "metadata": {},
   "outputs": [
    {
     "data": {
      "text/plain": [
       "'        abc         '"
      ]
     },
     "execution_count": 20,
     "metadata": {},
     "output_type": "execute_result"
    }
   ],
   "source": [
    "text = \"{:^20}\".format(\"abc\")\n",
    "text # 20 karakterli boşluğun ortasına abc yi ortaladı"
   ]
  },
  {
   "cell_type": "code",
   "execution_count": 21,
   "id": "078d38da",
   "metadata": {},
   "outputs": [
    {
     "data": {
      "text/plain": [
       "'hippo     '"
      ]
     },
     "execution_count": 21,
     "metadata": {},
     "output_type": "execute_result"
    }
   ],
   "source": [
    "\"{:10.5}\".format(\"hippopotamus\")\n",
    "# 10 tane boşluk tanımladı ve stringin ilk 5 ini almış başa"
   ]
  },
  {
   "cell_type": "code",
   "execution_count": 22,
   "id": "d105cfeb",
   "metadata": {},
   "outputs": [
    {
     "data": {
      "text/plain": [
       "'          hippo'"
      ]
     },
     "execution_count": 22,
     "metadata": {},
     "output_type": "execute_result"
    }
   ],
   "source": [
    "\"{:>15.5}\".format(\"hippopotamus\") # 15 karakter tanımla, ilk 5 karakteri sağa yasla"
   ]
  },
  {
   "cell_type": "code",
   "execution_count": 23,
   "id": "c71030b3",
   "metadata": {},
   "outputs": [
    {
     "data": {
      "text/plain": [
       "'+55'"
      ]
     },
     "execution_count": 23,
     "metadata": {},
     "output_type": "execute_result"
    }
   ],
   "source": [
    "\"{:+}\".format(55) başına + koyduk ve çalıştı"
   ]
  },
  {
   "cell_type": "code",
   "execution_count": 26,
   "id": "5476c1be",
   "metadata": {},
   "outputs": [
    {
     "data": {
      "text/plain": [
       "'55'"
      ]
     },
     "execution_count": 26,
     "metadata": {},
     "output_type": "execute_result"
    }
   ],
   "source": [
    "\"{:-}\".format(55) # mesela nedense - almadı"
   ]
  },
  {
   "cell_type": "code",
   "execution_count": 27,
   "id": "2ada72ef",
   "metadata": {},
   "outputs": [
    {
     "name": "stdout",
     "output_type": "stream",
     "text": [
      "blue\n"
     ]
    }
   ],
   "source": [
    "colors = ['red', 'purple', 'blue', 'yellow', 'green']\n",
    "print(colors[2])"
   ]
  },
  {
   "cell_type": "code",
   "execution_count": 28,
   "id": "f6b78c8c",
   "metadata": {},
   "outputs": [
    {
     "data": {
      "text/plain": [
       "str"
      ]
     },
     "execution_count": 28,
     "metadata": {},
     "output_type": "execute_result"
    }
   ],
   "source": [
    "type(colors[2]) # hangi elemanı indexlersek onu veriyo burda blue str"
   ]
  },
  {
   "cell_type": "code",
   "execution_count": 29,
   "id": "215023dc",
   "metadata": {},
   "outputs": [
    {
     "data": {
      "text/plain": [
       "'yellow'"
      ]
     },
     "execution_count": 29,
     "metadata": {},
     "output_type": "execute_result"
    }
   ],
   "source": [
    "['red', 'purple', 'blue', 'yellow', 'green'][3] \n",
    "# listeyi bir değere atamasak bile burada lista yanına köşeli parantez ile cevap aldık"
   ]
  },
  {
   "cell_type": "code",
   "execution_count": 30,
   "id": "6b6e438f",
   "metadata": {},
   "outputs": [
    {
     "name": "stdout",
     "output_type": "stream",
     "text": [
      "[['New York', 'London', 'Istanbul', 'Seoul', 'Sydney']]\n"
     ]
    }
   ],
   "source": [
    "city = ['New York', 'London', 'Istanbul', 'Seoul', 'Sydney']\n",
    "city_list = []\n",
    "city_list.append(city)\n",
    "\n",
    "print(city_list)"
   ]
  },
  {
   "cell_type": "code",
   "execution_count": 31,
   "id": "c164afe4",
   "metadata": {},
   "outputs": [
    {
     "data": {
      "text/plain": [
       "[['New York', 'London', 'Istanbul', 'Seoul', 'Sydney']]"
      ]
     },
     "execution_count": 31,
     "metadata": {},
     "output_type": "execute_result"
    }
   ],
   "source": [
    "city_list =[city]\n",
    "city_list"
   ]
  },
  {
   "cell_type": "code",
   "execution_count": 32,
   "id": "c9165e3e",
   "metadata": {},
   "outputs": [
    {
     "ename": "IndexError",
     "evalue": "list index out of range",
     "output_type": "error",
     "traceback": [
      "\u001b[1;31m---------------------------------------------------------------------------\u001b[0m",
      "\u001b[1;31mIndexError\u001b[0m                                Traceback (most recent call last)",
      "Input \u001b[1;32mIn [32]\u001b[0m, in \u001b[0;36m<module>\u001b[1;34m\u001b[0m\n\u001b[1;32m----> 1\u001b[0m \u001b[43mcity_list\u001b[49m\u001b[43m[\u001b[49m\u001b[38;5;241;43m1\u001b[39;49m\u001b[43m]\u001b[49m\n",
      "\u001b[1;31mIndexError\u001b[0m: list index out of range"
     ]
    }
   ],
   "source": [
    "city_list[1] # tek elemanı var o da 0, out of range der"
   ]
  },
  {
   "cell_type": "code",
   "execution_count": 33,
   "id": "8c2f15b9",
   "metadata": {},
   "outputs": [
    {
     "data": {
      "text/plain": [
       "['New York', 'London', 'Istanbul', 'Seoul', 'Sydney']"
      ]
     },
     "execution_count": 33,
     "metadata": {},
     "output_type": "execute_result"
    }
   ],
   "source": [
    "city_list[0]"
   ]
  },
  {
   "cell_type": "code",
   "execution_count": 34,
   "id": "bc994f3e",
   "metadata": {},
   "outputs": [
    {
     "data": {
      "text/plain": [
       "list"
      ]
     },
     "execution_count": 34,
     "metadata": {},
     "output_type": "execute_result"
    }
   ],
   "source": [
    "type(city_list) # tipi listedir"
   ]
  },
  {
   "cell_type": "code",
   "execution_count": 35,
   "id": "c6bdde19",
   "metadata": {},
   "outputs": [
    {
     "data": {
      "text/plain": [
       "'Istanbul'"
      ]
     },
     "execution_count": 35,
     "metadata": {},
     "output_type": "execute_result"
    }
   ],
   "source": [
    "city_list[0][2] <listenin sıfırıncı indeksinin 2. elemanı"
   ]
  },
  {
   "cell_type": "code",
   "execution_count": 36,
   "id": "307c02cf",
   "metadata": {},
   "outputs": [
    {
     "data": {
      "text/plain": [
       "str"
      ]
     },
     "execution_count": 36,
     "metadata": {},
     "output_type": "execute_result"
    }
   ],
   "source": [
    "type(city_list[0][2]) # çünkü istanbul iterabledır ve stringdir"
   ]
  },
  {
   "cell_type": "code",
   "execution_count": 47,
   "id": "94b839bf",
   "metadata": {},
   "outputs": [
    {
     "name": "stdout",
     "output_type": "stream",
     "text": [
      "[0, 1, 2, 3, 4, 5, 6, 7, 8, 9, 10]\n",
      "[1, 2, 3, 4, 5, 6, 7, 8, 9, 10]\n",
      "[1, 3, 5, 7, 9]\n"
     ]
    }
   ],
   "source": [
    "my_list = list(range(1,11)) # stop -1 olur hep\n",
    "print(list(range(11))) # eğer start 1 demeseydik 0 dan alırdı\n",
    "print(my_list)\n",
    "print(my_list[0:11:2])"
   ]
  },
  {
   "cell_type": "code",
   "execution_count": 48,
   "id": "208fc1c1",
   "metadata": {},
   "outputs": [
    {
     "data": {
      "text/plain": [
       "[11, 10, 9, 8, 7, 6, 5, 4, 3, 2]"
      ]
     },
     "execution_count": 48,
     "metadata": {},
     "output_type": "execute_result"
    }
   ],
   "source": [
    "list(range(11,1,-1)) # stop dan bi önceki yani 2"
   ]
  },
  {
   "cell_type": "code",
   "execution_count": 53,
   "id": "85a33c02",
   "metadata": {},
   "outputs": [
    {
     "data": {
      "text/plain": [
       "['one', 'two', 'three']"
      ]
     },
     "execution_count": 53,
     "metadata": {},
     "output_type": "execute_result"
    }
   ],
   "source": [
    "mix_list =[1, [1, \"one\", 2, \"two\", 3, \"three\"],4]\n",
    "mix_list[1][1:6:2]"
   ]
  },
  {
   "cell_type": "code",
   "execution_count": 54,
   "id": "ab7e6483",
   "metadata": {},
   "outputs": [
    {
     "data": {
      "text/plain": [
       "'two'"
      ]
     },
     "execution_count": 54,
     "metadata": {},
     "output_type": "execute_result"
    }
   ],
   "source": [
    "mix_list =[1, [1, \"one\", 2, \"two\", 3, \"three\"],4]\n",
    "mix_list[-2][-3]"
   ]
  },
  {
   "cell_type": "code",
   "execution_count": 55,
   "id": "4c0a405c",
   "metadata": {},
   "outputs": [
    {
     "name": "stdout",
     "output_type": "stream",
     "text": [
      "80\n",
      "64\n"
     ]
    }
   ],
   "source": [
    "import sys\n",
    "x = [1,2,3]\n",
    "y = (1,2,3)\n",
    "print(sys.getsizeof(x))\n",
    "print(sys.getsizeof(y)) # iterable olur zaman \n",
    "# burada gösterilen şey aynı seriye sahip\n",
    "# tuple liste göre daha az yer kaplar ve hızlı çalışır"
   ]
  },
  {
   "cell_type": "code",
   "execution_count": null,
   "id": "6b32447f",
   "metadata": {},
   "outputs": [],
   "source": []
  },
  {
   "cell_type": "code",
   "execution_count": 59,
   "id": "95a18d49",
   "metadata": {},
   "outputs": [
    {
     "name": "stdout",
     "output_type": "stream",
     "text": [
      "Solar <class 'str'>\n"
     ]
    }
   ],
   "source": [
    "my_tuple = (\"Solar\")\n",
    "print(my_tuple, type(my_tuple))"
   ]
  },
  {
   "cell_type": "code",
   "execution_count": 60,
   "id": "5db9a5fc",
   "metadata": {},
   "outputs": [
    {
     "data": {
      "text/plain": [
       "tuple"
      ]
     },
     "execution_count": 60,
     "metadata": {},
     "output_type": "execute_result"
    }
   ],
   "source": [
    "x = 1, 2, 3\n",
    "type(x)  # virgüllerle ayıormış olduğumuz \n",
    "        # değerler tuple a kayma eğilimindedir parantez koymasanız"
   ]
  },
  {
   "cell_type": "code",
   "execution_count": 61,
   "id": "702d7b0d",
   "metadata": {},
   "outputs": [
    {
     "data": {
      "text/plain": [
       "(1, 2, 3)"
      ]
     },
     "execution_count": 61,
     "metadata": {},
     "output_type": "execute_result"
    }
   ],
   "source": [
    "x"
   ]
  },
  {
   "cell_type": "code",
   "execution_count": 62,
   "id": "c3360e8a",
   "metadata": {},
   "outputs": [
    {
     "data": {
      "text/plain": [
       "('ali', 'deli', 'veli')"
      ]
     },
     "execution_count": 62,
     "metadata": {},
     "output_type": "execute_result"
    }
   ],
   "source": [
    "y = \"ali\",\"deli\", \"veli\"\n",
    "y # bura tuple otomatik aldı"
   ]
  },
  {
   "cell_type": "code",
   "execution_count": 64,
   "id": "21132dc6",
   "metadata": {},
   "outputs": [
    {
     "data": {
      "text/plain": [
       "str"
      ]
     },
     "execution_count": 64,
     "metadata": {},
     "output_type": "execute_result"
    }
   ],
   "source": [
    "z =\"ali\"\n",
    "type(z) # tek eleman burada str oldu"
   ]
  },
  {
   "cell_type": "code",
   "execution_count": 65,
   "id": "5621f20c",
   "metadata": {},
   "outputs": [
    {
     "data": {
      "text/plain": [
       "('ali',)"
      ]
     },
     "execution_count": 65,
     "metadata": {},
     "output_type": "execute_result"
    }
   ],
   "source": [
    "z = \"ali\",  # tek elemanlı tuple için virgül gerekiyor\n",
    "z"
   ]
  },
  {
   "cell_type": "code",
   "execution_count": 66,
   "id": "f0c414ed",
   "metadata": {},
   "outputs": [
    {
     "data": {
      "text/plain": [
       "tuple"
      ]
     },
     "execution_count": 66,
     "metadata": {},
     "output_type": "execute_result"
    }
   ],
   "source": [
    "z = 1,\n",
    "type(z)  # "
   ]
  },
  {
   "cell_type": "code",
   "execution_count": 69,
   "id": "7b28fa74",
   "metadata": {},
   "outputs": [
    {
     "name": "stdout",
     "output_type": "stream",
     "text": [
      "('Earth', 'Venus', 'Uranus')\n",
      "<class 'tuple'>\n"
     ]
    }
   ],
   "source": [
    "solar = \"Earth\",\"Venus\",\"Uranus\"\n",
    "print(solar, type(solar), sep = \"\\n\" )"
   ]
  },
  {
   "cell_type": "code",
   "execution_count": 70,
   "id": "36adfa5c",
   "metadata": {},
   "outputs": [
    {
     "data": {
      "text/plain": [
       "('Solar',)"
      ]
     },
     "execution_count": 70,
     "metadata": {},
     "output_type": "execute_result"
    }
   ],
   "source": [
    "tuple([\"Solar\"]) # içeride liste var ve liste iterable dır. dolayısıla \n",
    "#işleme alır. listenin tek elemanı var onu al tuple yap diyor. parantez aç tek elemanı yaz ve\n",
    "# yanına virgül koy"
   ]
  },
  {
   "cell_type": "code",
   "execution_count": null,
   "id": "70a0e61e",
   "metadata": {},
   "outputs": [],
   "source": []
  },
  {
   "cell_type": "code",
   "execution_count": null,
   "id": "69a7b7fa",
   "metadata": {},
   "outputs": [],
   "source": []
  },
  {
   "cell_type": "code",
   "execution_count": null,
   "id": "4591efe3",
   "metadata": {},
   "outputs": [],
   "source": []
  },
  {
   "cell_type": "code",
   "execution_count": null,
   "id": "a83f11d1",
   "metadata": {},
   "outputs": [],
   "source": []
  },
  {
   "cell_type": "code",
   "execution_count": null,
   "id": "9031a180",
   "metadata": {},
   "outputs": [],
   "source": []
  }
 ],
 "metadata": {
  "kernelspec": {
   "display_name": "Python 3 (ipykernel)",
   "language": "python",
   "name": "python3"
  },
  "language_info": {
   "codemirror_mode": {
    "name": "ipython",
    "version": 3
   },
   "file_extension": ".py",
   "mimetype": "text/x-python",
   "name": "python",
   "nbconvert_exporter": "python",
   "pygments_lexer": "ipython3",
   "version": "3.8.9"
  }
 },
 "nbformat": 4,
 "nbformat_minor": 5
}
