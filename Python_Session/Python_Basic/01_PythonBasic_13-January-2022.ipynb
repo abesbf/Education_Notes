{
 "cells": [
  {
   "cell_type": "markdown",
   "id": "406f2981",
   "metadata": {},
   "source": [
    "<img src=\"https://docs.google.com/uc?id=14xeXxFrVRjvOoUYWn_GuyE-v84wVzrqr\" class=\"img-fluid\" alt=\"CLRWY\" width=\"400\" height=\"200\">"
   ]
  },
  {
   "cell_type": "markdown",
   "id": "22263af8",
   "metadata": {},
   "source": [
    "<h1><p style=\"text-align: center; color:darkblue\">Python In-Class, <br>13 January 2022</p><h1>"
   ]
  },
  {
   "cell_type": "code",
   "execution_count": 1,
   "id": "222fce1b",
   "metadata": {},
   "outputs": [
    {
     "name": "stdout",
     "output_type": "stream",
     "text": [
      "hello world\n"
     ]
    }
   ],
   "source": [
    "print(\"hello world\")"
   ]
  },
  {
   "cell_type": "code",
   "execution_count": 2,
   "id": "87978591",
   "metadata": {},
   "outputs": [
    {
     "ename": "SyntaxError",
     "evalue": "EOL while scanning string literal (<ipython-input-2-278f78f45249>, line 1)",
     "output_type": "error",
     "traceback": [
      "\u001b[0;36m  File \u001b[0;32m\"<ipython-input-2-278f78f45249>\"\u001b[0;36m, line \u001b[0;32m1\u001b[0m\n\u001b[0;31m    print(\"hello world')\u001b[0m\n\u001b[0m                        ^\u001b[0m\n\u001b[0;31mSyntaxError\u001b[0m\u001b[0;31m:\u001b[0m EOL while scanning string literal\n"
     ]
    }
   ],
   "source": [
    "print(\"hello world')"
   ]
  },
  {
   "cell_type": "code",
   "execution_count": 3,
   "id": "c549c6aa",
   "metadata": {},
   "outputs": [
    {
     "name": "stdout",
     "output_type": "stream",
     "text": [
      "çift tırnakla başladım ve çiftle bitirdim\n"
     ]
    }
   ],
   "source": [
    "print(\"çift tırnakla başladım ve çiftle bitirdim\")"
   ]
  },
  {
   "cell_type": "code",
   "execution_count": 4,
   "id": "e02b2f04",
   "metadata": {},
   "outputs": [
    {
     "name": "stdout",
     "output_type": "stream",
     "text": [
      "benim içimde sayı da var 123\n"
     ]
    }
   ],
   "source": [
    "print(\"benim içimde sayı da var 123\")"
   ]
  },
  {
   "cell_type": "code",
   "execution_count": 5,
   "id": "b4439d6d",
   "metadata": {},
   "outputs": [
    {
     "name": "stdout",
     "output_type": "stream",
     "text": [
      "#^+$½%67-*0,\n"
     ]
    }
   ],
   "source": [
    "print(\"#^+$½%67-*0,\")"
   ]
  },
  {
   "cell_type": "code",
   "execution_count": 6,
   "id": "a7440444",
   "metadata": {},
   "outputs": [
    {
     "ename": "SyntaxError",
     "evalue": "EOL while scanning string literal (<ipython-input-6-14c5289284e6>, line 1)",
     "output_type": "error",
     "traceback": [
      "\u001b[0;36m  File \u001b[0;32m\"<ipython-input-6-14c5289284e6>\"\u001b[0;36m, line \u001b[0;32m1\u001b[0m\n\u001b[0;31m    print(\"benim adım joseph,\u001b[0m\n\u001b[0m                             ^\u001b[0m\n\u001b[0;31mSyntaxError\u001b[0m\u001b[0;31m:\u001b[0m EOL while scanning string literal\n"
     ]
    }
   ],
   "source": [
    "print(\"benim adım joseph,\n",
    "      ben sizi çok sevdim\n",
    "      sizde huzur var\")"
   ]
  },
  {
   "cell_type": "code",
   "execution_count": 7,
   "id": "973ac6ab",
   "metadata": {},
   "outputs": [
    {
     "name": "stdout",
     "output_type": "stream",
     "text": [
      "hello world\n"
     ]
    }
   ],
   "source": [
    "print(\"\"\"hello world\"\"\")"
   ]
  },
  {
   "cell_type": "code",
   "execution_count": 8,
   "id": "a77d0284",
   "metadata": {},
   "outputs": [
    {
     "name": "stdout",
     "output_type": "stream",
     "text": [
      "hello world\n"
     ]
    }
   ],
   "source": [
    "print('''hello world''')"
   ]
  },
  {
   "cell_type": "code",
   "execution_count": 9,
   "id": "52034b6b",
   "metadata": {},
   "outputs": [
    {
     "name": "stdout",
     "output_type": "stream",
     "text": [
      "benim adım joseph,\n",
      "      ben sizi çok sevdim\n",
      "      sizde huzur var\n"
     ]
    }
   ],
   "source": [
    "print(\"\"\"benim adım joseph,\n",
    "      ben sizi çok sevdim\n",
    "      sizde huzur var\"\"\")"
   ]
  },
  {
   "cell_type": "code",
   "execution_count": 10,
   "id": "bd491250",
   "metadata": {},
   "outputs": [
    {
     "name": "stdout",
     "output_type": "stream",
     "text": [
      "benim adım joseph,\n",
      "      ben sizi çok sevdim\n",
      "      sizde huzur var\n"
     ]
    }
   ],
   "source": [
    "print('''benim adım joseph,\n",
    "      ben sizi çok sevdim\n",
    "      sizde huzur var''')"
   ]
  },
  {
   "cell_type": "code",
   "execution_count": 11,
   "id": "ad014f0f",
   "metadata": {},
   "outputs": [
    {
     "ename": "SyntaxError",
     "evalue": "invalid syntax (<ipython-input-11-1703ee340f21>, line 1)",
     "output_type": "error",
     "traceback": [
      "\u001b[0;36m  File \u001b[0;32m\"<ipython-input-11-1703ee340f21>\"\u001b[0;36m, line \u001b[0;32m1\u001b[0m\n\u001b[0;31m    print(\"balam neredesin Erzuurum\"dayım\")\u001b[0m\n\u001b[0m                                    ^\u001b[0m\n\u001b[0;31mSyntaxError\u001b[0m\u001b[0;31m:\u001b[0m invalid syntax\n"
     ]
    }
   ],
   "source": [
    "print(\"balam neredesin Erzuurum\"dayım\")"
   ]
  },
  {
   "cell_type": "code",
   "execution_count": 12,
   "id": "2a81357b",
   "metadata": {},
   "outputs": [
    {
     "name": "stdout",
     "output_type": "stream",
     "text": [
      "balam neredesin Erzuurum\"dayım\n"
     ]
    }
   ],
   "source": [
    "print(\"\"\"balam neredesin Erzurum\"dayım\"\"\")"
   ]
  },
  {
   "cell_type": "code",
   "execution_count": 13,
   "id": "8282a97d",
   "metadata": {},
   "outputs": [
    {
     "name": "stdout",
     "output_type": "stream",
     "text": [
      "41\n"
     ]
    }
   ],
   "source": [
    "print(41)"
   ]
  },
  {
   "cell_type": "code",
   "execution_count": 14,
   "id": "f6aa4409",
   "metadata": {},
   "outputs": [
    {
     "name": "stdout",
     "output_type": "stream",
     "text": [
      "41\n"
     ]
    }
   ],
   "source": [
    "print(\"41\")"
   ]
  },
  {
   "cell_type": "code",
   "execution_count": 15,
   "id": "0290eaaf",
   "metadata": {},
   "outputs": [
    {
     "name": "stdout",
     "output_type": "stream",
     "text": [
      "3.14\n"
     ]
    }
   ],
   "source": [
    "print(3.14)"
   ]
  },
  {
   "cell_type": "code",
   "execution_count": 16,
   "id": "0150fe62",
   "metadata": {},
   "outputs": [
    {
     "name": "stdout",
     "output_type": "stream",
     "text": [
      "3 4\n"
     ]
    }
   ],
   "source": [
    "print(3,4)"
   ]
  },
  {
   "cell_type": "code",
   "execution_count": 17,
   "id": "4321beee",
   "metadata": {},
   "outputs": [
    {
     "name": "stdout",
     "output_type": "stream",
     "text": [
      "3 4 11.4 ali deli veli\n"
     ]
    }
   ],
   "source": [
    "print(3, 4, 11.4, \"ali\", \"deli\", \"veli\")"
   ]
  },
  {
   "cell_type": "code",
   "execution_count": 18,
   "id": "464b76df",
   "metadata": {},
   "outputs": [
    {
     "name": "stdout",
     "output_type": "stream",
     "text": [
      "ali\n",
      "\n",
      "deli\n"
     ]
    }
   ],
   "source": [
    "print(\"ali\")\n",
    "print(\"\")\n",
    "print(\"deli\")"
   ]
  },
  {
   "cell_type": "code",
   "execution_count": 19,
   "id": "737cf930",
   "metadata": {},
   "outputs": [
    {
     "ename": "SyntaxError",
     "evalue": "EOF while scanning triple-quoted string literal (<ipython-input-19-3b5889c98f6c>, line 2)",
     "output_type": "error",
     "traceback": [
      "\u001b[0;36m  File \u001b[0;32m\"<ipython-input-19-3b5889c98f6c>\"\u001b[0;36m, line \u001b[0;32m2\u001b[0m\n\u001b[0;31m    print('''')\u001b[0m\n\u001b[0m               ^\u001b[0m\n\u001b[0;31mSyntaxError\u001b[0m\u001b[0;31m:\u001b[0m EOF while scanning triple-quoted string literal\n"
     ]
    }
   ],
   "source": [
    "print() \n",
    "print('''')"
   ]
  },
  {
   "cell_type": "code",
   "execution_count": 20,
   "id": "c7d96645",
   "metadata": {},
   "outputs": [
    {
     "name": "stdout",
     "output_type": "stream",
     "text": [
      "''\n"
     ]
    }
   ],
   "source": [
    "print(\"''\")"
   ]
  },
  {
   "cell_type": "code",
   "execution_count": 21,
   "id": "3521b990",
   "metadata": {},
   "outputs": [
    {
     "name": "stdout",
     "output_type": "stream",
     "text": [
      " \"\" \n"
     ]
    }
   ],
   "source": [
    "print(' \"\" ')"
   ]
  },
  {
   "cell_type": "code",
   "execution_count": 25,
   "id": "2d4c63d4",
   "metadata": {},
   "outputs": [
    {
     "name": "stdout",
     "output_type": "stream",
     "text": [
      "32\n"
     ]
    }
   ],
   "source": [
    "print('''3'''\"2\")"
   ]
  },
  {
   "cell_type": "code",
   "execution_count": 26,
   "id": "88b76030",
   "metadata": {},
   "outputs": [
    {
     "name": "stdout",
     "output_type": "stream",
     "text": [
      "uyarsan ve buradan devam ediyorum\n"
     ]
    }
   ],
   "source": [
    "print(\"uyarsan \\\n",
    "ve buradan devam ediyorum\")"
   ]
  },
  {
   "cell_type": "code",
   "execution_count": 27,
   "id": "8c75d78e",
   "metadata": {},
   "outputs": [
    {
     "ename": "SyntaxError",
     "evalue": "unexpected character after line continuation character (<ipython-input-27-a96fc41c99d0>, line 1)",
     "output_type": "error",
     "traceback": [
      "\u001b[0;36m  File \u001b[0;32m\"<ipython-input-27-a96fc41c99d0>\"\u001b[0;36m, line \u001b[0;32m1\u001b[0m\n\u001b[0;31m    pr\\int()\u001b[0m\n\u001b[0m            ^\u001b[0m\n\u001b[0;31mSyntaxError\u001b[0m\u001b[0;31m:\u001b[0m unexpected character after line continuation character\n"
     ]
    }
   ],
   "source": [
    "pr\\int()"
   ]
  },
  {
   "cell_type": "code",
   "execution_count": 28,
   "id": "2d024d11",
   "metadata": {},
   "outputs": [],
   "source": [
    "# bu bir açıklama satırıdır"
   ]
  },
  {
   "cell_type": "code",
   "execution_count": 29,
   "id": "f0f67b45",
   "metadata": {},
   "outputs": [
    {
     "name": "stdout",
     "output_type": "stream",
     "text": [
      "hello world\n"
     ]
    }
   ],
   "source": [
    "print(\"hello world\")  # bu bir açıklama yorum ifadesidir"
   ]
  },
  {
   "cell_type": "code",
   "execution_count": 30,
   "id": "db3398c4",
   "metadata": {},
   "outputs": [
    {
     "name": "stdout",
     "output_type": "stream",
     "text": [
      "hello world\n"
     ]
    }
   ],
   "source": [
    "print(\"hello world\")#bu bir açıklama yorum ifadesidir"
   ]
  },
  {
   "cell_type": "code",
   "execution_count": 31,
   "id": "a3985523",
   "metadata": {},
   "outputs": [],
   "source": [
    "# bu bir açıklama satırıdır\n",
    "# bu açıklamanın ikinci satırıdır\n",
    "# bu da son satırdır"
   ]
  },
  {
   "cell_type": "code",
   "execution_count": 32,
   "id": "cfce453f",
   "metadata": {},
   "outputs": [
    {
     "data": {
      "text/plain": [
       "8"
      ]
     },
     "execution_count": 32,
     "metadata": {},
     "output_type": "execute_result"
    }
   ],
   "source": [
    "3 + 5  # 3 ile 5'in toplamına ilişkin kod satırıdır"
   ]
  },
  {
   "cell_type": "code",
   "execution_count": null,
   "id": "d78b3b9f",
   "metadata": {},
   "outputs": [],
   "source": [
    "...\n",
    "...\n",
    "...\n",
    "x = 35  # bu müşteri sayısıdır\n",
    "y = 22  # burada X müşterinin kızının ev sayısıdır"
   ]
  },
  {
   "cell_type": "code",
   "execution_count": 34,
   "id": "33c54f69",
   "metadata": {},
   "outputs": [],
   "source": [
    "# print(\"sizinle tanışdığıma çok memnunum\")  # bu benim açıklamamdır"
   ]
  },
  {
   "cell_type": "code",
   "execution_count": 35,
   "id": "b1a470f9",
   "metadata": {},
   "outputs": [
    {
     "data": {
      "text/plain": [
       "'veli'"
      ]
     },
     "execution_count": 35,
     "metadata": {},
     "output_type": "execute_result"
    }
   ],
   "source": [
    "# \"ali\"\n",
    "# \"deli\"\n",
    "# \"veli\""
   ]
  },
  {
   "cell_type": "code",
   "execution_count": 36,
   "id": "fd0b4b24",
   "metadata": {},
   "outputs": [
    {
     "name": "stdout",
     "output_type": "stream",
     "text": [
      "ali 33 deli\n"
     ]
    }
   ],
   "source": [
    "a = \"ali\"\n",
    "b = 33\n",
    "c = \"deli\"\n",
    "print(a, b, c)"
   ]
  },
  {
   "cell_type": "code",
   "execution_count": 38,
   "id": "342582ec",
   "metadata": {},
   "outputs": [],
   "source": [
    "x = \"\""
   ]
  },
  {
   "cell_type": "code",
   "execution_count": 39,
   "id": "8b0f20b4",
   "metadata": {},
   "outputs": [],
   "source": [
    "y = 0"
   ]
  },
  {
   "cell_type": "code",
   "execution_count": 12,
   "id": "192485b9",
   "metadata": {},
   "outputs": [
    {
     "name": "stdout",
     "output_type": "stream",
     "text": [
      "28.0\n",
      "37\n",
      "I am 39 years old.\n"
     ]
    }
   ],
   "source": [
    "x = 39\n",
    "v = \"11\"\n",
    "y = 2.5\n",
    "z = \"\"\"I am \"\"\"\n",
    "print(x-float(v))\n",
    "print(x-int(y))\n",
    "print(z+str(x) + \" years old.\", sep=', ')"
   ]
  },
  {
   "cell_type": "code",
   "execution_count": 3,
   "id": "bfa832d4",
   "metadata": {},
   "outputs": [
    {
     "name": "stdout",
     "output_type": "stream",
     "text": [
      "I'm totally destroyed and get fucked up for 2 days\n"
     ]
    }
   ],
   "source": [
    "text = \"I'm totally %s and %s fucked up for %d days\" % (\"destroyed\", \"get\", 2)\n",
    "print(text)"
   ]
  },
  {
   "cell_type": "code",
   "execution_count": 4,
   "id": "af1e10f3",
   "metadata": {},
   "outputs": [
    {
     "ename": "TypeError",
     "evalue": "unsupported operand type(s) for &: 'str' and 'str'",
     "output_type": "error",
     "traceback": [
      "\u001b[1;31m---------------------------------------------------------------------------\u001b[0m",
      "\u001b[1;31mTypeError\u001b[0m                                 Traceback (most recent call last)",
      "Input \u001b[1;32mIn [4]\u001b[0m, in \u001b[0;36m<module>\u001b[1;34m\u001b[0m\n\u001b[0;32m      1\u001b[0m text \u001b[38;5;241m=\u001b[39m \u001b[38;5;124m\"\u001b[39m\u001b[38;5;124mI\u001b[39m\u001b[38;5;124m'\u001b[39m\u001b[38;5;124mm totally \u001b[39m\u001b[38;5;132;01m%s\u001b[39;00m\u001b[38;5;124m and \u001b[39m\u001b[38;5;132;01m%s\u001b[39;00m\u001b[38;5;124m fucked up for \u001b[39m\u001b[38;5;132;01m%d\u001b[39;00m\u001b[38;5;124m days\u001b[39m\u001b[38;5;124m\"\u001b[39m \u001b[38;5;241m%\u001b[39m (\u001b[38;5;124m\"\u001b[39m\u001b[38;5;124mdestroyed\u001b[39m\u001b[38;5;124m\"\u001b[39m, \u001b[38;5;124m\"\u001b[39m\u001b[38;5;124mget\u001b[39m\u001b[38;5;124m\"\u001b[39m, \u001b[38;5;241m2\u001b[39m)\n\u001b[1;32m----> 2\u001b[0m \u001b[38;5;28mprint\u001b[39m(\u001b[38;5;124;43m\"\u001b[39;49m\u001b[38;5;124;43m \u001b[39;49m\u001b[38;5;132;43;01m%.11s\u001b[39;49;00m\u001b[38;5;124;43m \u001b[39;49m\u001b[38;5;124;43m\"\u001b[39;49m\u001b[43m \u001b[49m\u001b[38;5;241;43m&\u001b[39;49m\u001b[43m \u001b[49m\u001b[43mtext\u001b[49m)\n",
      "\u001b[1;31mTypeError\u001b[0m: unsupported operand type(s) for &: 'str' and 'str'"
     ]
    }
   ],
   "source": [
    "text = \"I'm totally %s and %s fucked up for %d days\" % (\"destroyed\", \"get\", 2)\n",
    "print(\" %.11s \" & text) # burada neden çalışmadı çünkü tex içerisinde değişken değer var dolayısıyla patladı"
   ]
  },
  {
   "cell_type": "code",
   "execution_count": 9,
   "id": "1bc76c63",
   "metadata": {},
   "outputs": [
    {
     "name": "stdout",
     "output_type": "stream",
     "text": [
      "The total cost of mandalina and cabbage we bought is 15 TL\n"
     ]
    }
   ],
   "source": [
    "fruit = \"mandalina\"\n",
    "vegetable = \"cabbage\"\n",
    "total_cost = 15 \n",
    "text = \"The total cost of {} and {} we bought is {} TL\".format(fruit, vegetable, total_cost)\n",
    "print(text)"
   ]
  },
  {
   "cell_type": "code",
   "execution_count": 4,
   "id": "fa3cf567",
   "metadata": {},
   "outputs": [
    {
     "name": "stdout",
     "output_type": "stream",
     "text": [
      "1\n",
      "51\n",
      "51\n"
     ]
    }
   ],
   "source": [
    "print(int(int(\"0\" + \"1\")))\n",
    "print(str(\"5\" + \"1\"))\n",
    "print(\"5\" + \"1\")"
   ]
  },
  {
   "cell_type": "code",
   "execution_count": null,
   "id": "81914803",
   "metadata": {},
   "outputs": [],
   "source": []
  },
  {
   "cell_type": "code",
   "execution_count": null,
   "id": "1a8a213e",
   "metadata": {},
   "outputs": [],
   "source": []
  }
 ],
 "metadata": {
  "kernelspec": {
   "display_name": "Python 3 (ipykernel)",
   "language": "python",
   "name": "python3"
  },
  "language_info": {
   "codemirror_mode": {
    "name": "ipython",
    "version": 3
   },
   "file_extension": ".py",
   "mimetype": "text/x-python",
   "name": "python",
   "nbconvert_exporter": "python",
   "pygments_lexer": "ipython3",
   "version": "3.8.9"
  }
 },
 "nbformat": 4,
 "nbformat_minor": 5
}
