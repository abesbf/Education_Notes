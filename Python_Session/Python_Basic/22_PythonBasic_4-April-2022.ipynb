{
 "cells": [
  {
   "cell_type": "code",
   "execution_count": 56,
   "metadata": {},
   "outputs": [
    {
     "name": "stdout",
     "output_type": "stream",
     "text": [
      "/home/ahmetburakeren/Education_Notes/Python_Session/Python_Basic\n"
     ]
    }
   ],
   "source": [
    "\n",
    "cd /home/ahmetburakeren/Education_Notes/Python_Session/Python_Basic\n"
   ]
  },
  {
   "cell_type": "code",
   "execution_count": 57,
   "metadata": {},
   "outputs": [
    {
     "name": "stdout",
     "output_type": "stream",
     "text": [
      "Orca is a kind of Dolphin.\n",
      "Blue Whale is the largest animal known on earth.\n",
      "Sharks are the sister group to the Rays (batoids).\n",
      "The Tuna Fish can weigh up to 260 kg.\n",
      "Squid and Octopus are in the same class.\n"
     ]
    }
   ],
   "source": [
    "with open(\"fishes.txt\",\"r\",encoding=\"utf-8\") as file :\n",
    "\n",
    "    print(file.read())"
   ]
  },
  {
   "cell_type": "code",
   "execution_count": 14,
   "metadata": {},
   "outputs": [
    {
     "name": "stdout",
     "output_type": "stream",
     "text": [
      "Orca is a kind of Dolphin.\n",
      "Blue Whale is the largest animal known on earth.\n",
      "Sharks are the sister group to the Rays (batoids).\n",
      "The Tuna Fish can weigh up to 260 kg.\n",
      "Squid and Octopus are in the same class.\n"
     ]
    }
   ],
   "source": [
    "sea = open(\"fishes.txt\", 'r')\n",
    "print(sea.read())\n",
    "sea.close()"
   ]
  },
  {
   "cell_type": "code",
   "execution_count": null,
   "metadata": {},
   "outputs": [],
   "source": [
    "sea = open(\"fishes.txt\", 'r')\n",
    "# print(sea.read(33))     # displays the first 33 chars of the text\n",
    "# print()\n",
    "# print(sea.read(33))     # displays the next 25 chars of the text\n",
    "# print()\n",
    "# sea.seek(0)             # changes the stream(cursor) position to zero\n",
    "# print(sea.read(33))     # displays the first 33 chars of the text again\n",
    "# print()\n",
    "# print(sea.tell())       # returns the current stream (cursor) position\n",
    "# sea.close()\n",
    "# sea = open(\"fishes.txt\", 'r')"
   ]
  },
  {
   "cell_type": "code",
   "execution_count": 9,
   "metadata": {},
   "outputs": [
    {
     "name": "stdout",
     "output_type": "stream",
     "text": [
      "Orca is a kind of Dolphin.\n",
      "Blue Whale is the largest animal known on earth.\n",
      "Sharks are the sister group to the Rays (batoids).\n",
      "The Tuna Fish can weigh up to 260 kg.\n",
      "Squid and Octopus are in the same class.\n"
     ]
    }
   ],
   "source": [
    "with open(\"fishes.txt\",\"r\",encoding=\"utf-8\") as file :\n",
    "\n",
    "    print(file.read())\n",
    "    \n",
    "    file.seek(0)"
   ]
  },
  {
   "cell_type": "code",
   "execution_count": 11,
   "metadata": {},
   "outputs": [
    {
     "name": "stdout",
     "output_type": "stream",
     "text": [
      "Orca is a kind of Dolphin.\n",
      "Blue Whale is the largest animal known on earth.\n",
      "Sharks are the sister group to the Rays (batoids).\n",
      "The Tuna Fish can weigh up to 260 kg.\n",
      "Squid and Octopus are in the same class.\n",
      "Orca is a kind of Dolphin.\n",
      "Blue W\n",
      "34\n"
     ]
    }
   ],
   "source": [
    "with open(\"fishes.txt\",\"r\",encoding=\"utf-8\") as file :\n",
    "\n",
    "    print(file.read())\n",
    "    \n",
    "    file.seek(0)\n",
    "\n",
    "    print(file.read(33))\n",
    "    print(file.tell())  # tells the curent location of the cursor"
   ]
  },
  {
   "cell_type": "code",
   "execution_count": 16,
   "metadata": {},
   "outputs": [
    {
     "name": "stdout",
     "output_type": "stream",
     "text": [
      "Orca is a kind of Dolphin.\n",
      "Blue W\n",
      "hale is the lar\n",
      "49\n",
      "Orca is a kind of Dolphin.\n",
      "Blue W\n",
      "34\n"
     ]
    }
   ],
   "source": [
    "with open(\"fishes.txt\",\"r\",encoding=\"utf-8\") as file :\n",
    "\n",
    "    print(file.read(33))\n",
    "    print(file.read(15))\n",
    "    print(file.tell())\n",
    "    \n",
    "    file.seek(0)\n",
    "\n",
    "    print(file.read(33))\n",
    "    print(file.tell())  # tells the curent location of the cursor"
   ]
  },
  {
   "cell_type": "code",
   "execution_count": 19,
   "metadata": {},
   "outputs": [
    {
     "data": {
      "text/plain": [
       "'/home/ahmetburakeren/Education_Notes/Python_Session/Python_Basic'"
      ]
     },
     "execution_count": 19,
     "metadata": {},
     "output_type": "execute_result"
    }
   ],
   "source": [
    "pwd\n"
   ]
  },
  {
   "cell_type": "code",
   "execution_count": 30,
   "metadata": {},
   "outputs": [
    {
     "name": "stdout",
     "output_type": "stream",
     "text": [
      "I want to sing\n",
      "\n",
      "Like the birds sing,\n",
      "\n",
      "Not worrying about\n",
      "\n",
      "Who hears or\n",
      "\n",
      "What they think.\n"
     ]
    }
   ],
   "source": [
    "with open(\"rumi.txt\",\"r\",encoding=\"utf-8\") as file_1 :\n",
    "    print(file_1.readline())\n",
    "    print(file_1.readline())\n",
    "    print(file_1.readline())\n",
    "    print(file_1.readline())\n",
    "    print(file_1.readline())  # this prints each line seperated\n",
    "    "
   ]
  },
  {
   "cell_type": "code",
   "execution_count": 32,
   "metadata": {},
   "outputs": [
    {
     "data": {
      "text/plain": [
       "['05_PythonBasic_26-January-2022.ipynb',\n",
       " '18_PythonBasic_21-March-2022.ipynb',\n",
       " 'rumi.txt',\n",
       " '09_PythonBasic_10-February-2022.ipynb',\n",
       " '01_PythonBasic_13-January-2022.ipynb',\n",
       " '13_PythonBasic_03-March-2022.ipynb',\n",
       " '07_PythonBasic_02-February-2022.ipynb',\n",
       " '19_PythonBasic_23-March-2022.ipynb',\n",
       " 'Untitled.ipynb',\n",
       " 'Worksheet.ipynb',\n",
       " '15_PythonBasic_10-March-2022.ipynb',\n",
       " 'fishes.txt',\n",
       " '22_PythonBasic_4-April-2022.ipynb',\n",
       " '02_PythonBasic_17-January-2022.ipynb',\n",
       " '04_PythonBasic_24-January-2022.ipynb',\n",
       " '03_PythonBasic_20-January-2022.ipynb',\n",
       " '11_PythonBasic_24-February-2022.ipynb',\n",
       " '08_PythonBasic_07-February-2022.ipynb',\n",
       " '12_PythonBasic_28-February-2022.ipynb',\n",
       " '17_PythonBasic_17-March-2022.ipynb',\n",
       " '07_ITF_WS_PYTHON4_STUDENT.ipynb:Zone.Identifier',\n",
       " '21_PythonBasic_31-March-2022.ipynb',\n",
       " '06_PythonBasic_31-January-2022.ipynb',\n",
       " '07_ITF_WS_PYTHON4_STUDENT.ipynb',\n",
       " '20_PythonBasic_28-March-2022.ipynb',\n",
       " '10_PythonBasic_21-February-2022.ipynb',\n",
       " '14_PythonBasic_7-March-2022.ipynb',\n",
       " '16_PythonBasic_14-March-2022.ipynb',\n",
       " 'snow_fall.ipynb']"
      ]
     },
     "execution_count": 32,
     "metadata": {},
     "output_type": "execute_result"
    }
   ],
   "source": [
    "import os\n",
    "\n",
    "files = os.listdir()\n",
    "\n",
    "files  # this shows us all the names of files in the directory "
   ]
  },
  {
   "cell_type": "code",
   "execution_count": 58,
   "metadata": {},
   "outputs": [
    {
     "data": {
      "text/plain": [
       "'/home/ahmetburakeren/Education_Notes/Python_Session/Python_Basic/zipped.zip'"
      ]
     },
     "execution_count": 58,
     "metadata": {},
     "output_type": "execute_result"
    }
   ],
   "source": [
    "import shutil\n",
    "\n",
    "shutil.make_archive(\"zipped\", \"zip\", \"test\")"
   ]
  },
  {
   "cell_type": "code",
   "execution_count": 59,
   "metadata": {},
   "outputs": [
    {
     "name": "stdout",
     "output_type": "stream",
     "text": [
      "Orca is a kind of Dolphin.\n",
      "\n",
      "Blue Whale is the largest animal known on earth.\n",
      "\n",
      "Sharks are the sister group to the Rays (batoids).\n",
      "\n",
      "The Tuna Fish can weigh up to 260 kg.\n",
      "\n",
      "Squid and Octopus are in the same class.\n"
     ]
    }
   ],
   "source": [
    "with open (\"fishes.txt\", \"r\", encoding = \"utf-8\") as file:\n",
    "    for line in file:\n",
    "        print (line)"
   ]
  },
  {
   "cell_type": "code",
   "execution_count": 69,
   "metadata": {},
   "outputs": [
    {
     "name": "stdout",
     "output_type": "stream",
     "text": [
      "This is the line for my dummy_file.txt\n"
     ]
    }
   ],
   "source": [
    "with open(\"dummy_file.txt\",\"w\") as file :\n",
    "    file.write(\"This is the line for my dummy_file.txt\")\n",
    "with open(\"dummy_file.txt\",\"r\") as file :\n",
    "    print(file.read())"
   ]
  },
  {
   "cell_type": "code",
   "execution_count": 70,
   "metadata": {},
   "outputs": [
    {
     "name": "stdout",
     "output_type": "stream",
     "text": [
      "This is the line for my dummy_file.txt\n",
      "This is the new line for my dummy_file.txt\n"
     ]
    }
   ],
   "source": [
    "with open(\"dummy_file.txt\",\"a\") as file :\n",
    "    file.write(\"\\nThis is the new line for my dummy_file.txt\")\n",
    "with open(\"dummy_file.txt\",\"r\") as file :\n",
    "    print(file.read())"
   ]
  },
  {
   "cell_type": "code",
   "execution_count": 71,
   "metadata": {},
   "outputs": [
    {
     "name": "stdout",
     "output_type": "stream",
     "text": [
      "Banana\n",
      "Orange\n",
      "Apple\n",
      "Strawberry\n",
      "Cherry\n"
     ]
    }
   ],
   "source": [
    "fruits = ['Banana', 'Orange', 'Apple', 'Strawberry', 'Cherry']\n",
    "with open (\"firfirik.txt\", \"w\", encoding = \"utf-8\") as file:\n",
    "    file.write('\\n'.join(fruits))\n",
    "\n",
    "with open (\"firfirik.txt\", \"r\", encoding = \"utf-8\") as file:\n",
    "    print(file.read())"
   ]
  },
  {
   "cell_type": "code",
   "execution_count": null,
   "metadata": {},
   "outputs": [],
   "source": []
  },
  {
   "cell_type": "code",
   "execution_count": null,
   "metadata": {},
   "outputs": [],
   "source": []
  },
  {
   "cell_type": "code",
   "execution_count": null,
   "metadata": {},
   "outputs": [],
   "source": []
  },
  {
   "cell_type": "code",
   "execution_count": null,
   "metadata": {},
   "outputs": [],
   "source": []
  },
  {
   "cell_type": "code",
   "execution_count": null,
   "metadata": {},
   "outputs": [],
   "source": []
  },
  {
   "cell_type": "code",
   "execution_count": null,
   "metadata": {},
   "outputs": [],
   "source": []
  }
 ],
 "metadata": {
  "interpreter": {
   "hash": "916dbcbb3f70747c44a77c7bcd40155683ae19c65e1c03b4aa3499c5328201f1"
  },
  "kernelspec": {
   "display_name": "Python 3.8.10 64-bit",
   "language": "python",
   "name": "python3"
  },
  "language_info": {
   "codemirror_mode": {
    "name": "ipython",
    "version": 3
   },
   "file_extension": ".py",
   "mimetype": "text/x-python",
   "name": "python",
   "nbconvert_exporter": "python",
   "pygments_lexer": "ipython3",
   "version": "3.8.10"
  },
  "orig_nbformat": 4
 },
 "nbformat": 4,
 "nbformat_minor": 2
}
