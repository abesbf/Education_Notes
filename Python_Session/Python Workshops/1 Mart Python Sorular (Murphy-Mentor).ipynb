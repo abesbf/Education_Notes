{
 "cells": [
  {
   "cell_type": "markdown",
   "id": "115ce664",
   "metadata": {},
   "source": [
    "1) Write a program to accept a string from the user and display characters that are present at an even index number.\n",
    "\n",
    "For example, str = \"pynative\" so you should display ‘p’, ‘n’, ‘t’, ‘v’."
   ]
  },
  {
   "cell_type": "markdown",
   "id": "ec2444da",
   "metadata": {},
   "source": [
    "2) Write a Program to extract each digit from an integer in the reverse order. \n",
    "For example, If the given int is 7536, the output shall be “6 3 5 7“."
   ]
  },
  {
   "cell_type": "markdown",
   "id": "f36be659",
   "metadata": {},
   "source": [
    "3) Write a program to print the following start pattern using the for loop\n",
    "\n",
    "* \n",
    "* * \n",
    "* * * \n",
    "* * * * \n",
    "* * * * * \n",
    "* * * * \n",
    "* * * \n",
    "* * \n",
    "*"
   ]
  },
  {
   "cell_type": "markdown",
   "id": "6f38ef13",
   "metadata": {},
   "source": [
    "4) Write a Python program that accepts a string and calculate the number of digits and letters. \n",
    "Sample Data : \"Nonsense^%^ 952\" \n",
    "Expected Output : Letters 6 Digits 2"
   ]
  },
  {
   "cell_type": "markdown",
   "id": "a2772d38",
   "metadata": {},
   "source": [
    "5) Write a program that checks that the entered number is a prime number.\n",
    "Entered number : 13\n",
    "Expected output : \"13 is a prime number!\""
   ]
  },
  {
   "cell_type": "code",
   "execution_count": 8,
   "id": "0ba30216",
   "metadata": {},
   "outputs": [
    {
     "name": "stdout",
     "output_type": "stream",
     "text": [
      "a\n",
      "u\n",
      "e\n"
     ]
    }
   ],
   "source": [
    "string = input(\"Please type a string:\")\n",
    "\n",
    "for i in range(0,len(string)-1,2) :\n",
    "    print(string[i])\n",
    "    \n",
    "    "
   ]
  },
  {
   "cell_type": "code",
   "execution_count": 2,
   "id": "32d10bc9",
   "metadata": {},
   "outputs": [
    {
     "name": "stdout",
     "output_type": "stream",
     "text": [
      "6544"
     ]
    }
   ],
   "source": [
    "# integer = input((\"Please enter a number by digits:\"))\n",
    "# while not integer.isdecimal() :\n",
    "#     print(\"Incorrect typing!\")\n",
    "#     integer = input((\"Please enter a number by digits:\"))\n",
    "# print(list(integer[::-1]))\n",
    "\n",
    "number = int(input(\"Enter a number:\"))\n",
    "\n",
    "while number > 0 :\n",
    "    last = number % 10\n",
    "    number = number // 10\n",
    "    print(last, end=\"\")"
   ]
  },
  {
   "cell_type": "code",
   "execution_count": 14,
   "id": "f7c6e8af",
   "metadata": {},
   "outputs": [
    {
     "name": "stdout",
     "output_type": "stream",
     "text": [
      "* \n",
      "\n",
      "* * \n",
      "\n",
      "* * * \n",
      "\n",
      "* * * * \n",
      "\n",
      "* * * * * \n",
      "\n",
      "* * * * \n",
      "\n",
      "* * * \n",
      "\n",
      "* * \n",
      "\n",
      "* \n",
      "\n",
      "\n",
      "\n"
     ]
    }
   ],
   "source": [
    "rows = 5\n",
    "for i in range(0,rows):\n",
    "    for j in range(0, i+1):\n",
    "        print(\"*\",end=\" \")\n",
    "    print(\"\\n\")\n",
    "\n",
    "for i in range(rows,0,-1):\n",
    "    for j in range(0,i-1):\n",
    "        print(\"*\", end=\" \")\n",
    "    print(\"\\n\")"
   ]
  },
  {
   "cell_type": "code",
   "execution_count": 15,
   "id": "8e34a2d6",
   "metadata": {},
   "outputs": [
    {
     "name": "stdout",
     "output_type": "stream",
     "text": [
      "Your sentence has 3 letters and 2 digits\n"
     ]
    }
   ],
   "source": [
    "import string\n",
    "alphabet = list(string.ascii_lowercase)\n",
    "digits = [\"0\",\"1\",\"2\",\"3\",\"4\",\"5\",\"6\",\"7\",\"8\",\"9\"]\n",
    "string = input(\"Please type a string correctly with unicode characters\")\n",
    "letter = 0\n",
    "digit = 0\n",
    "while len(string) < 1 :\n",
    "    print(\"You entered neither string nor digit\")\n",
    "    string = input(\"Please type a string correctly\")\n",
    "\n",
    "if len(string) >= 1 :\n",
    "    for i in string :\n",
    "        if i in alphabet :\n",
    "                letter += 1\n",
    "        elif i in digits :\n",
    "                digit  += 1\n",
    "        else:\n",
    "                None\n",
    "    print(f\"Your sentence has {letter} letters and {digit} digits\")\n",
    "    \n",
    "    # daha güzel bir çözün aşağıda var\n",
    "        \n",
    "\n",
    "\n"
   ]
  },
  {
   "cell_type": "code",
   "execution_count": null,
   "id": "3b44b274",
   "metadata": {},
   "outputs": [],
   "source": [
    "s = input(\"enter the string : \")\n",
    "l = 0\n",
    "d = 0\n",
    "for c in s :\n",
    "    if c.isdigit():\n",
    "        d += 1\n",
    "    elif c.isalpha():\n",
    "        l += 1\n",
    "    else:\n",
    "        pass\n",
    "print(\"Letter :\", l)\n",
    "print(\"Digits :\", d)"
   ]
  },
  {
   "cell_type": "code",
   "execution_count": 1,
   "id": "a756204d",
   "metadata": {},
   "outputs": [
    {
     "name": "stdout",
     "output_type": "stream",
     "text": [
      "17 is prime\n"
     ]
    }
   ],
   "source": [
    "number = int(input(\"Write a number and see your number is prime or not :\"))\n",
    "counter = 0\n",
    "if number > 1:\n",
    "        for i in range(2,int(number/2)+1):\n",
    "                if number % i == 0:\n",
    "                        counter += 1\n",
    "                        break\n",
    "        if counter == 0:\n",
    "                print(number, \"is prime\")\n",
    "        else:\n",
    "                print(number, \"is not prime\")  "
   ]
  },
  {
   "cell_type": "code",
   "execution_count": null,
   "id": "ab0c7b4d",
   "metadata": {},
   "outputs": [],
   "source": []
  },
  {
   "cell_type": "code",
   "execution_count": 31,
   "id": "12977c70",
   "metadata": {},
   "outputs": [
    {
     "name": "stdout",
     "output_type": "stream",
     "text": [
      "[('Apples', 5, 1.5), ('Oranges', 3, 2.25), ('Bananas', 4, 0.89)]\n"
     ]
    }
   ],
   "source": [
    "fruits = ['Apples', 'Oranges', 'Bananas']\n",
    "quantities = [5, 3, 4]\n",
    "prices = [1.50, 2.25, 0.89]\n",
    "i = 0\n",
    "output = []\n",
    "for fruit in fruits:\n",
    "    temp_qty = quantities[i]\n",
    "    temp_price = prices[i]\n",
    "    output.append((fruit, temp_qty, temp_price))\n",
    "    i += 1\n",
    "print(output)"
   ]
  },
  {
   "cell_type": "code",
   "execution_count": 32,
   "id": "eb287f6f",
   "metadata": {},
   "outputs": [
    {
     "name": "stdout",
     "output_type": "stream",
     "text": [
      "[('Apples', 5, 1.5), ('Oranges', 3, 2.25), ('Bananas', 4, 0.89)]\n"
     ]
    }
   ],
   "source": [
    "fruits = ['Apples', 'Oranges', 'Bananas']\n",
    "quantities = [5, 3, 4]\n",
    "prices = [1.50, 2.25, 0.89]\n",
    "groceries = zip(fruits, quantities, prices)\n",
    "print(list(groceries))"
   ]
  },
  {
   "cell_type": "code",
   "execution_count": 33,
   "metadata": {},
   "outputs": [
    {
     "name": "stdout",
     "output_type": "stream",
     "text": [
      "[('Apples', 5, 1.5)]\n",
      "[('Apples', 5, 1.5), ('Apples', 5, 2.25)]\n",
      "[('Apples', 5, 1.5), ('Apples', 5, 2.25), ('Apples', 5, 0.89)]\n",
      "[('Apples', 5, 1.5), ('Apples', 5, 2.25), ('Apples', 5, 0.89), ('Apples', 3, 1.5)]\n",
      "[('Apples', 5, 1.5), ('Apples', 5, 2.25), ('Apples', 5, 0.89), ('Apples', 3, 1.5), ('Apples', 3, 2.25)]\n",
      "[('Apples', 5, 1.5), ('Apples', 5, 2.25), ('Apples', 5, 0.89), ('Apples', 3, 1.5), ('Apples', 3, 2.25), ('Apples', 3, 0.89)]\n",
      "[('Apples', 5, 1.5), ('Apples', 5, 2.25), ('Apples', 5, 0.89), ('Apples', 3, 1.5), ('Apples', 3, 2.25), ('Apples', 3, 0.89), ('Apples', 4, 1.5)]\n",
      "[('Apples', 5, 1.5), ('Apples', 5, 2.25), ('Apples', 5, 0.89), ('Apples', 3, 1.5), ('Apples', 3, 2.25), ('Apples', 3, 0.89), ('Apples', 4, 1.5), ('Apples', 4, 2.25)]\n",
      "[('Apples', 5, 1.5), ('Apples', 5, 2.25), ('Apples', 5, 0.89), ('Apples', 3, 1.5), ('Apples', 3, 2.25), ('Apples', 3, 0.89), ('Apples', 4, 1.5), ('Apples', 4, 2.25), ('Apples', 4, 0.89)]\n",
      "[('Apples', 5, 1.5), ('Apples', 5, 2.25), ('Apples', 5, 0.89), ('Apples', 3, 1.5), ('Apples', 3, 2.25), ('Apples', 3, 0.89), ('Apples', 4, 1.5), ('Apples', 4, 2.25), ('Apples', 4, 0.89), ('Oranges', 5, 1.5)]\n",
      "[('Apples', 5, 1.5), ('Apples', 5, 2.25), ('Apples', 5, 0.89), ('Apples', 3, 1.5), ('Apples', 3, 2.25), ('Apples', 3, 0.89), ('Apples', 4, 1.5), ('Apples', 4, 2.25), ('Apples', 4, 0.89), ('Oranges', 5, 1.5), ('Oranges', 5, 2.25)]\n",
      "[('Apples', 5, 1.5), ('Apples', 5, 2.25), ('Apples', 5, 0.89), ('Apples', 3, 1.5), ('Apples', 3, 2.25), ('Apples', 3, 0.89), ('Apples', 4, 1.5), ('Apples', 4, 2.25), ('Apples', 4, 0.89), ('Oranges', 5, 1.5), ('Oranges', 5, 2.25), ('Oranges', 5, 0.89)]\n",
      "[('Apples', 5, 1.5), ('Apples', 5, 2.25), ('Apples', 5, 0.89), ('Apples', 3, 1.5), ('Apples', 3, 2.25), ('Apples', 3, 0.89), ('Apples', 4, 1.5), ('Apples', 4, 2.25), ('Apples', 4, 0.89), ('Oranges', 5, 1.5), ('Oranges', 5, 2.25), ('Oranges', 5, 0.89), ('Oranges', 3, 1.5)]\n",
      "[('Apples', 5, 1.5), ('Apples', 5, 2.25), ('Apples', 5, 0.89), ('Apples', 3, 1.5), ('Apples', 3, 2.25), ('Apples', 3, 0.89), ('Apples', 4, 1.5), ('Apples', 4, 2.25), ('Apples', 4, 0.89), ('Oranges', 5, 1.5), ('Oranges', 5, 2.25), ('Oranges', 5, 0.89), ('Oranges', 3, 1.5), ('Oranges', 3, 2.25)]\n",
      "[('Apples', 5, 1.5), ('Apples', 5, 2.25), ('Apples', 5, 0.89), ('Apples', 3, 1.5), ('Apples', 3, 2.25), ('Apples', 3, 0.89), ('Apples', 4, 1.5), ('Apples', 4, 2.25), ('Apples', 4, 0.89), ('Oranges', 5, 1.5), ('Oranges', 5, 2.25), ('Oranges', 5, 0.89), ('Oranges', 3, 1.5), ('Oranges', 3, 2.25), ('Oranges', 3, 0.89)]\n",
      "[('Apples', 5, 1.5), ('Apples', 5, 2.25), ('Apples', 5, 0.89), ('Apples', 3, 1.5), ('Apples', 3, 2.25), ('Apples', 3, 0.89), ('Apples', 4, 1.5), ('Apples', 4, 2.25), ('Apples', 4, 0.89), ('Oranges', 5, 1.5), ('Oranges', 5, 2.25), ('Oranges', 5, 0.89), ('Oranges', 3, 1.5), ('Oranges', 3, 2.25), ('Oranges', 3, 0.89), ('Oranges', 4, 1.5)]\n",
      "[('Apples', 5, 1.5), ('Apples', 5, 2.25), ('Apples', 5, 0.89), ('Apples', 3, 1.5), ('Apples', 3, 2.25), ('Apples', 3, 0.89), ('Apples', 4, 1.5), ('Apples', 4, 2.25), ('Apples', 4, 0.89), ('Oranges', 5, 1.5), ('Oranges', 5, 2.25), ('Oranges', 5, 0.89), ('Oranges', 3, 1.5), ('Oranges', 3, 2.25), ('Oranges', 3, 0.89), ('Oranges', 4, 1.5), ('Oranges', 4, 2.25)]\n",
      "[('Apples', 5, 1.5), ('Apples', 5, 2.25), ('Apples', 5, 0.89), ('Apples', 3, 1.5), ('Apples', 3, 2.25), ('Apples', 3, 0.89), ('Apples', 4, 1.5), ('Apples', 4, 2.25), ('Apples', 4, 0.89), ('Oranges', 5, 1.5), ('Oranges', 5, 2.25), ('Oranges', 5, 0.89), ('Oranges', 3, 1.5), ('Oranges', 3, 2.25), ('Oranges', 3, 0.89), ('Oranges', 4, 1.5), ('Oranges', 4, 2.25), ('Oranges', 4, 0.89)]\n",
      "[('Apples', 5, 1.5), ('Apples', 5, 2.25), ('Apples', 5, 0.89), ('Apples', 3, 1.5), ('Apples', 3, 2.25), ('Apples', 3, 0.89), ('Apples', 4, 1.5), ('Apples', 4, 2.25), ('Apples', 4, 0.89), ('Oranges', 5, 1.5), ('Oranges', 5, 2.25), ('Oranges', 5, 0.89), ('Oranges', 3, 1.5), ('Oranges', 3, 2.25), ('Oranges', 3, 0.89), ('Oranges', 4, 1.5), ('Oranges', 4, 2.25), ('Oranges', 4, 0.89), ('Bananas', 5, 1.5)]\n",
      "[('Apples', 5, 1.5), ('Apples', 5, 2.25), ('Apples', 5, 0.89), ('Apples', 3, 1.5), ('Apples', 3, 2.25), ('Apples', 3, 0.89), ('Apples', 4, 1.5), ('Apples', 4, 2.25), ('Apples', 4, 0.89), ('Oranges', 5, 1.5), ('Oranges', 5, 2.25), ('Oranges', 5, 0.89), ('Oranges', 3, 1.5), ('Oranges', 3, 2.25), ('Oranges', 3, 0.89), ('Oranges', 4, 1.5), ('Oranges', 4, 2.25), ('Oranges', 4, 0.89), ('Bananas', 5, 1.5), ('Bananas', 5, 2.25)]\n",
      "[('Apples', 5, 1.5), ('Apples', 5, 2.25), ('Apples', 5, 0.89), ('Apples', 3, 1.5), ('Apples', 3, 2.25), ('Apples', 3, 0.89), ('Apples', 4, 1.5), ('Apples', 4, 2.25), ('Apples', 4, 0.89), ('Oranges', 5, 1.5), ('Oranges', 5, 2.25), ('Oranges', 5, 0.89), ('Oranges', 3, 1.5), ('Oranges', 3, 2.25), ('Oranges', 3, 0.89), ('Oranges', 4, 1.5), ('Oranges', 4, 2.25), ('Oranges', 4, 0.89), ('Bananas', 5, 1.5), ('Bananas', 5, 2.25), ('Bananas', 5, 0.89)]\n",
      "[('Apples', 5, 1.5), ('Apples', 5, 2.25), ('Apples', 5, 0.89), ('Apples', 3, 1.5), ('Apples', 3, 2.25), ('Apples', 3, 0.89), ('Apples', 4, 1.5), ('Apples', 4, 2.25), ('Apples', 4, 0.89), ('Oranges', 5, 1.5), ('Oranges', 5, 2.25), ('Oranges', 5, 0.89), ('Oranges', 3, 1.5), ('Oranges', 3, 2.25), ('Oranges', 3, 0.89), ('Oranges', 4, 1.5), ('Oranges', 4, 2.25), ('Oranges', 4, 0.89), ('Bananas', 5, 1.5), ('Bananas', 5, 2.25), ('Bananas', 5, 0.89), ('Bananas', 3, 1.5)]\n",
      "[('Apples', 5, 1.5), ('Apples', 5, 2.25), ('Apples', 5, 0.89), ('Apples', 3, 1.5), ('Apples', 3, 2.25), ('Apples', 3, 0.89), ('Apples', 4, 1.5), ('Apples', 4, 2.25), ('Apples', 4, 0.89), ('Oranges', 5, 1.5), ('Oranges', 5, 2.25), ('Oranges', 5, 0.89), ('Oranges', 3, 1.5), ('Oranges', 3, 2.25), ('Oranges', 3, 0.89), ('Oranges', 4, 1.5), ('Oranges', 4, 2.25), ('Oranges', 4, 0.89), ('Bananas', 5, 1.5), ('Bananas', 5, 2.25), ('Bananas', 5, 0.89), ('Bananas', 3, 1.5), ('Bananas', 3, 2.25)]\n",
      "[('Apples', 5, 1.5), ('Apples', 5, 2.25), ('Apples', 5, 0.89), ('Apples', 3, 1.5), ('Apples', 3, 2.25), ('Apples', 3, 0.89), ('Apples', 4, 1.5), ('Apples', 4, 2.25), ('Apples', 4, 0.89), ('Oranges', 5, 1.5), ('Oranges', 5, 2.25), ('Oranges', 5, 0.89), ('Oranges', 3, 1.5), ('Oranges', 3, 2.25), ('Oranges', 3, 0.89), ('Oranges', 4, 1.5), ('Oranges', 4, 2.25), ('Oranges', 4, 0.89), ('Bananas', 5, 1.5), ('Bananas', 5, 2.25), ('Bananas', 5, 0.89), ('Bananas', 3, 1.5), ('Bananas', 3, 2.25), ('Bananas', 3, 0.89)]\n",
      "[('Apples', 5, 1.5), ('Apples', 5, 2.25), ('Apples', 5, 0.89), ('Apples', 3, 1.5), ('Apples', 3, 2.25), ('Apples', 3, 0.89), ('Apples', 4, 1.5), ('Apples', 4, 2.25), ('Apples', 4, 0.89), ('Oranges', 5, 1.5), ('Oranges', 5, 2.25), ('Oranges', 5, 0.89), ('Oranges', 3, 1.5), ('Oranges', 3, 2.25), ('Oranges', 3, 0.89), ('Oranges', 4, 1.5), ('Oranges', 4, 2.25), ('Oranges', 4, 0.89), ('Bananas', 5, 1.5), ('Bananas', 5, 2.25), ('Bananas', 5, 0.89), ('Bananas', 3, 1.5), ('Bananas', 3, 2.25), ('Bananas', 3, 0.89), ('Bananas', 4, 1.5)]\n",
      "[('Apples', 5, 1.5), ('Apples', 5, 2.25), ('Apples', 5, 0.89), ('Apples', 3, 1.5), ('Apples', 3, 2.25), ('Apples', 3, 0.89), ('Apples', 4, 1.5), ('Apples', 4, 2.25), ('Apples', 4, 0.89), ('Oranges', 5, 1.5), ('Oranges', 5, 2.25), ('Oranges', 5, 0.89), ('Oranges', 3, 1.5), ('Oranges', 3, 2.25), ('Oranges', 3, 0.89), ('Oranges', 4, 1.5), ('Oranges', 4, 2.25), ('Oranges', 4, 0.89), ('Bananas', 5, 1.5), ('Bananas', 5, 2.25), ('Bananas', 5, 0.89), ('Bananas', 3, 1.5), ('Bananas', 3, 2.25), ('Bananas', 3, 0.89), ('Bananas', 4, 1.5), ('Bananas', 4, 2.25)]\n",
      "[('Apples', 5, 1.5), ('Apples', 5, 2.25), ('Apples', 5, 0.89), ('Apples', 3, 1.5), ('Apples', 3, 2.25), ('Apples', 3, 0.89), ('Apples', 4, 1.5), ('Apples', 4, 2.25), ('Apples', 4, 0.89), ('Oranges', 5, 1.5), ('Oranges', 5, 2.25), ('Oranges', 5, 0.89), ('Oranges', 3, 1.5), ('Oranges', 3, 2.25), ('Oranges', 3, 0.89), ('Oranges', 4, 1.5), ('Oranges', 4, 2.25), ('Oranges', 4, 0.89), ('Bananas', 5, 1.5), ('Bananas', 5, 2.25), ('Bananas', 5, 0.89), ('Bananas', 3, 1.5), ('Bananas', 3, 2.25), ('Bananas', 3, 0.89), ('Bananas', 4, 1.5), ('Bananas', 4, 2.25), ('Bananas', 4, 0.89)]\n"
     ]
    }
   ],
   "source": [
    "fruits = ['Apples', 'Oranges', 'Bananas']\n",
    "quantities = [5, 3, 4]\n",
    "prices = [1.50, 2.25, 0.89]\n",
    "i = 0\n",
    "output = []\n",
    "for fruit in fruits:\n",
    "    for qty in quantities:\n",
    "        for price in prices:\n",
    "            output.append((fruit, qty, price))\n",
    "            i += 1\n",
    "            print(output)"
   ]
  }
 ],
 "metadata": {
  "kernelspec": {
   "display_name": "Python 3",
   "language": "python",
   "name": "python3"
  },
  "language_info": {
   "codemirror_mode": {
    "name": "ipython",
    "version": 3
   },
   "file_extension": ".py",
   "mimetype": "text/x-python",
   "name": "python",
   "nbconvert_exporter": "python",
   "pygments_lexer": "ipython3",
   "version": "3.8.9"
  }
 },
 "nbformat": 4,
 "nbformat_minor": 5
}
