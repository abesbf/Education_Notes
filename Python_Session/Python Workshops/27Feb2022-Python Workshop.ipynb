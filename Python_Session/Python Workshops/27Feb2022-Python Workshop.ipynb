{
 "cells": [
  {
   "cell_type": "code",
   "execution_count": 7,
   "metadata": {},
   "outputs": [
    {
     "name": "stdout",
     "output_type": "stream",
     "text": [
      "N\t10*N\t100*N\t1000*N\n",
      "1\t10\t100\t1000\n",
      "2\t20\t200\t2000\n",
      "3\t30\t300\t3000\n",
      "4\t40\t400\t4000\n",
      "5\t50\t500\t5000\n"
     ]
    }
   ],
   "source": [
    "var1 = 5\n",
    "\n",
    "print(\"N\\t10*N\\t100*N\\t1000*N\")\n",
    "\n",
    "for i in range(var1) :\n",
    "    print(i+1, (i+1)*10, (i+1)*100, (i+1)*1000, sep=\"\\t\")"
   ]
  },
  {
   "cell_type": "code",
   "execution_count": 11,
   "metadata": {},
   "outputs": [
    {
     "name": "stdout",
     "output_type": "stream",
     "text": [
      "number\tsquare\tcube\n",
      "0\t0\t0\n",
      "1\t1\t1\n",
      "2\t4\t8\n",
      "3\t9\t27\n",
      "4\t16\t64\n",
      "5\t25\t125\n",
      "6\t36\t216\n",
      "7\t49\t343\n",
      "8\t64\t512\n",
      "9\t81\t729\n"
     ]
    }
   ],
   "source": [
    "var2 = 10  # sıfırdan 10 a kadar olan sayıların karesi ve küpünü al be başlık altına listele\n",
    "\n",
    "print(\"number\\tsquare\\tcube\")\n",
    "\n",
    "for i in range(var2) :\n",
    "    print(i , i**2, i**3, sep=\"\\t\")"
   ]
  },
  {
   "cell_type": "code",
   "execution_count": 13,
   "metadata": {},
   "outputs": [
    {
     "name": "stdout",
     "output_type": "stream",
     "text": [
      "True\n"
     ]
    }
   ],
   "source": [
    "inp1 = input(\"Jot down a five-digit number and see whether it's palindrome or not: \")  # find Palindrome number with 5 digits. if user enters letter or invalid character return the input step\n",
    "\n",
    "while not inp1.isdecimal() or len(inp1) != 5:\n",
    "    inp1 = input(\"Invalid characters. Please write only a positive and five-digit integer: \")\n",
    "if inp1.startswith(inp1[-1:-4:-1]):\n",
    "    print(True)\n",
    "else :\n",
    "    print(False)"
   ]
  },
  {
   "cell_type": "code",
   "execution_count": 15,
   "metadata": {},
   "outputs": [
    {
     "name": "stdout",
     "output_type": "stream",
     "text": [
      "2\n",
      "4\n",
      "8\n",
      "16\n",
      "32\n",
      "64\n",
      "128\n",
      "256\n",
      "512\n",
      "1024\n"
     ]
    }
   ],
   "source": [
    "# write an app that takes the input integers power to 10.\n",
    "inp2 = int(input(\"Please enter number:\"))\n",
    "for i in range(1, 11):\n",
    "    print(inp2**i)"
   ]
  },
  {
   "cell_type": "code",
   "execution_count": 17,
   "metadata": {},
   "outputs": [
    {
     "name": "stdout",
     "output_type": "stream",
     "text": [
      "You have reached the maximum 30\n",
      "You have reached the maximum 55\n"
     ]
    }
   ],
   "source": [
    "# write a while loop that the number is multiplied by 5 and store the result. The loop iterate as long as output contains a value less than 50.\n",
    "#  burada sorun şu ki değer 50 olana kadar çalıştır denildiğinden değer 45 olduğunda da üzerine ekleyebilir bu da 50 yi aşırabilir çünkü sürekli 5 le çarpılıyor\n",
    "\n",
    "\n",
    "total = 0\n",
    "while total < 50:\n",
    "    inp3 = int(input(\"Please enter a number: \"))\n",
    "    total  += inp3*5\n",
    "    print(\"You have reached the maximum\", total)"
   ]
  },
  {
   "cell_type": "code",
   "execution_count": 22,
   "metadata": {},
   "outputs": [
    {
     "name": "stdout",
     "output_type": "stream",
     "text": [
      "1\t2\t3\t4\t5\t6\t7\t8\t9\t10\n",
      "11\t12\t13\t14\t15\t16\t17\t18\t19\t20\n",
      "21\t22\t23\t24\t25\t26\t27\t28\t29\t30\n",
      "31\t32\t33\t34\t35\t36\t37\t38\t39\t40\n",
      "41\t42\t43\t44\t45\t46\t47\t48\t49\t50\n",
      "51\t52\t53\t54\t55\t56\t57\t58\t59\t60\n",
      "61\t62\t63\t64\t65\t66\t67\t68\t69\t70\n",
      "71\t72\t73\t74\t75\t76\t77\t78\t79\t80\n",
      "81\t82\t83\t84\t85\t86\t87\t88\t89\t90\n",
      "91\t92\t93\t94\t95\t96\t97\t98\t99\t100\n"
     ]
    }
   ],
   "source": [
    "# 1 den 100 e kadar olan sayıları yazdır ve 1 satırda 10 taneden fazla olmasın\n",
    "\n",
    "count = 1\n",
    "\n",
    "while count <= 100:\n",
    "    if count % 10 == 0:\n",
    "        print(count)\n",
    "    else :\n",
    "        print(count, end=\"\\t\")\n",
    "    count += 1"
   ]
  },
  {
   "cell_type": "code",
   "execution_count": 2,
   "metadata": {},
   "outputs": [
    {
     "name": "stdout",
     "output_type": "stream",
     "text": [
      "Yeah! That's prime!\n"
     ]
    }
   ],
   "source": [
    "# girilen sayının asal olup olmadığını bulma. burada flag kullanıyoruz\n",
    "\n",
    "inp4 = int(input(\"Write a number and see if whether it's prime number or not:\"))\n",
    "flag = True\n",
    "\n",
    "for i in range(2,inp4):\n",
    "    if inp4 % i == 0:\n",
    "        flag = False\n",
    "        break\n",
    "\n",
    "if flag and inp4 > 1:\n",
    "    print(\"Yeah! That's prime!\")\n",
    "else :\n",
    "    print(\"God damn! it's nor prime!\")"
   ]
  },
  {
   "cell_type": "code",
   "execution_count": 4,
   "metadata": {},
   "outputs": [
    {
     "name": "stdout",
     "output_type": "stream",
     "text": [
      "2 is prime!\n",
      "3 is prime!\n",
      "4 is not prime!\n",
      "5 is prime!\n",
      "6 is not prime!\n",
      "7 is prime!\n"
     ]
    }
   ],
   "source": [
    "# şimdi burada sıfır ile girdiğimiz sayı arasında hangi sayılar asal onu bulcaz\n",
    "\n",
    "inp5 = int(input(\"Write a number and see which numbers are prime till your number :\"))\n",
    "\n",
    "for i in range(2, inp5):\n",
    "    flag = True\n",
    "    for j in range(2,i):\n",
    "        if i % j == 0:\n",
    "            flag = False\n",
    "            break\n",
    "    if flag and inp5 > 1:\n",
    "            print(i, \"is prime!\")\n",
    "    else :\n",
    "            print(i, \"is not prime!\")"
   ]
  },
  {
   "cell_type": "code",
   "execution_count": 12,
   "metadata": {},
   "outputs": [
    {
     "name": "stdout",
     "output_type": "stream",
     "text": [
      "5040\n"
     ]
    }
   ],
   "source": [
    "fact = int(input(\"Please enter the number: \")) \n",
    "count = range(fact)\n",
    "total = 1\n",
    "for i in range(fact) :\n",
    "    total += total * (i)\n",
    "print(total)\n",
    "\n"
   ]
  },
  {
   "cell_type": "code",
   "execution_count": null,
   "metadata": {},
   "outputs": [],
   "source": []
  },
  {
   "cell_type": "code",
   "execution_count": null,
   "metadata": {},
   "outputs": [],
   "source": []
  },
  {
   "cell_type": "code",
   "execution_count": null,
   "metadata": {},
   "outputs": [],
   "source": []
  },
  {
   "cell_type": "code",
   "execution_count": null,
   "metadata": {},
   "outputs": [],
   "source": []
  },
  {
   "cell_type": "code",
   "execution_count": null,
   "metadata": {},
   "outputs": [],
   "source": []
  }
 ],
 "metadata": {
  "interpreter": {
   "hash": "46971d6258fae1e211635d8bf7f60d4d01846c4e42537e37b5cbd719f8de335b"
  },
  "kernelspec": {
   "display_name": "Python 3.8.9 64-bit",
   "language": "python",
   "name": "python3"
  },
  "language_info": {
   "codemirror_mode": {
    "name": "ipython",
    "version": 3
   },
   "file_extension": ".py",
   "mimetype": "text/x-python",
   "name": "python",
   "nbconvert_exporter": "python",
   "pygments_lexer": "ipython3",
   "version": "3.8.9"
  },
  "orig_nbformat": 4
 },
 "nbformat": 4,
 "nbformat_minor": 2
}
