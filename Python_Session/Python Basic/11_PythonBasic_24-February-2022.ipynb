{
 "cells": [
  {
   "cell_type": "code",
   "execution_count": 2,
   "metadata": {},
   "outputs": [
    {
     "name": "stdout",
     "output_type": "stream",
     "text": [
      "Even\n"
     ]
    }
   ],
   "source": [
    "num = int(input(\"Please enter a number: \"))\n",
    "if num %2 == 0 :\n",
    "    print(\"Even\")\n",
    "else :\n",
    "    print(odd)"
   ]
  },
  {
   "cell_type": "code",
   "execution_count": 14,
   "metadata": {},
   "outputs": [
    {
     "name": "stdout",
     "output_type": "stream",
     "text": [
      "It's Zero\n"
     ]
    }
   ],
   "source": [
    "num = float(input(\"Please enter a number: \"))\n",
    "if num > 0 :\n",
    "    print(f\" {num} is Positive\")\n",
    "elif num < 0 :\n",
    "    print(f\" {num} is Negative\")\n",
    "else :\n",
    "    print(\"It's Zero\")"
   ]
  },
  {
   "cell_type": "code",
   "execution_count": 4,
   "metadata": {},
   "outputs": [
    {
     "name": "stdout",
     "output_type": "stream",
     "text": [
      "5.0\n"
     ]
    }
   ],
   "source": [
    "num1 = float(input(\"Please enter a number: \"))\n",
    "num2 = float(input(\"Please enter a number: \"))\n",
    "\n",
    "if num1 > num2 :\n",
    "    print(num1)\n",
    "else :\n",
    "    print(num2)"
   ]
  },
  {
   "cell_type": "code",
   "execution_count": 8,
   "metadata": {},
   "outputs": [
    {
     "name": "stdout",
     "output_type": "stream",
     "text": [
      "False\n"
     ]
    }
   ],
   "source": [
    "bool_value = False\n",
    "\n",
    "if bool_value == True :\n",
    "    print(\"Yes\")\n",
    "else:\n",
    "    print(\"False\")"
   ]
  },
  {
   "cell_type": "code",
   "execution_count": 9,
   "metadata": {},
   "outputs": [
    {
     "name": "stdout",
     "output_type": "stream",
     "text": [
      "5.0\n"
     ]
    }
   ],
   "source": [
    "num1 = float(input(\"Please enter a number: \"))\n",
    "num2 = float(input(\"Please enter a number: \"))\n",
    "num3 = float(input(\"Please enter a number: \"))\n",
    "my_list = [num1, num2, num3]\n",
    "print(max(my_list))\n"
   ]
  },
  {
   "cell_type": "code",
   "execution_count": 19,
   "metadata": {},
   "outputs": [
    {
     "name": "stdout",
     "output_type": "stream",
     "text": [
      "B+\n"
     ]
    }
   ],
   "source": [
    "score = float(input(\"Enter your score: \"))\n",
    "if score >= 90 :\n",
    "    if score >= 95 :\n",
    "            print(\"A+\")\n",
    "    else :\n",
    "        print(\"A\")\n",
    "elif score >= 80 :\n",
    "    if score >= 85 :\n",
    "            print(\"B+\")\n",
    "    else :\n",
    "        print(\"B\")\n",
    "else :\n",
    "    print(\"B-\")"
   ]
  },
  {
   "cell_type": "code",
   "execution_count": 21,
   "metadata": {},
   "outputs": [
    {
     "name": "stdout",
     "output_type": "stream",
     "text": [
      "5\n",
      "4\n",
      "3\n",
      "2\n",
      "1\n"
     ]
    }
   ],
   "source": [
    "condition = 5\n",
    "while condition :\n",
    "    print(condition)\n",
    "    condition -= 1"
   ]
  },
  {
   "cell_type": "code",
   "execution_count": 22,
   "metadata": {},
   "outputs": [
    {
     "name": "stdout",
     "output_type": "stream",
     "text": [
      "4\n",
      "3\n",
      "2\n",
      "1\n",
      "0\n"
     ]
    }
   ],
   "source": [
    "condition = 5\n",
    "\n",
    "while True :\n",
    "    condition -=1\n",
    "    print(condition)\n",
    "\n",
    "    if condition == 0 :\n",
    "        break"
   ]
  },
  {
   "cell_type": "markdown",
   "metadata": {},
   "source": [
    "Write a program that returns the largest number-palindrome, which is the product of two prime five-digit numbers and returns the multipliers themselves.\n",
    "A prime number is a natural number that is divisible only by 1 and itself (2, 3, 5, 7, 11, ...)\n",
    "A palindrome is a string that is read equally in both directions (for example, ABBA)"
   ]
  },
  {
   "cell_type": "code",
   "execution_count": 24,
   "metadata": {},
   "outputs": [
    {
     "name": "stdout",
     "output_type": "stream",
     "text": [
      "4224 is  palindrome\n"
     ]
    }
   ],
   "source": [
    "num = int(input(\"Please enter your Palindrome number:\"))\n",
    "num_str = str(num)\n",
    "num_list = list(num_str)\n",
    "if num_list[:] == num_list[::-1] :\n",
    "    if num / num == 1 :\n",
    "        print(f\"{num} is  palindrome\")\n"
   ]
  },
  {
   "cell_type": "code",
   "execution_count": null,
   "metadata": {},
   "outputs": [],
   "source": []
  },
  {
   "cell_type": "code",
   "execution_count": null,
   "metadata": {},
   "outputs": [],
   "source": []
  },
  {
   "cell_type": "code",
   "execution_count": null,
   "metadata": {},
   "outputs": [],
   "source": []
  },
  {
   "cell_type": "code",
   "execution_count": null,
   "metadata": {},
   "outputs": [],
   "source": []
  },
  {
   "cell_type": "code",
   "execution_count": null,
   "metadata": {},
   "outputs": [],
   "source": []
  }
 ],
 "metadata": {
  "interpreter": {
   "hash": "46971d6258fae1e211635d8bf7f60d4d01846c4e42537e37b5cbd719f8de335b"
  },
  "kernelspec": {
   "display_name": "Python 3.8.9 64-bit",
   "language": "python",
   "name": "python3"
  },
  "language_info": {
   "codemirror_mode": {
    "name": "ipython",
    "version": 3
   },
   "file_extension": ".py",
   "mimetype": "text/x-python",
   "name": "python",
   "nbconvert_exporter": "python",
   "pygments_lexer": "ipython3",
   "version": "3.8.9"
  },
  "orig_nbformat": 4
 },
 "nbformat": 4,
 "nbformat_minor": 2
}
