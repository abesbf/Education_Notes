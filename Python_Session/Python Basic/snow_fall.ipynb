{
 "cells": [
  {
   "cell_type": "code",
   "execution_count": 1,
   "metadata": {
    "colab": {
     "base_uri": "https://localhost:8080/"
    },
    "id": "k3y_q7ppzHZo",
    "outputId": "15ddf105-009d-444f-a115-d5b70d6e5736"
   },
   "outputs": [
    {
     "name": "stdout",
     "output_type": "stream",
     "text": [
      "pip 21.3.1 from c:\\users\\asus\\appdata\\local\\programs\\python\\python38\\lib\\site-packages\\pip (python 3.8)\n",
      "\n"
     ]
    }
   ],
   "source": [
    "!pip --version"
   ]
  },
  {
   "cell_type": "code",
   "execution_count": 2,
   "metadata": {
    "colab": {
     "base_uri": "https://localhost:8080/"
    },
    "id": "kVRNdmMtzIjY",
    "outputId": "d02312be-6720-4b49-929a-558c91366b1d"
   },
   "outputs": [
    {
     "name": "stdout",
     "output_type": "stream",
     "text": [
      "Requirement already satisfied: pygame in c:\\users\\asus\\appdata\\local\\programs\\python\\python38\\lib\\site-packages (2.1.2)"
     ]
    },
    {
     "name": "stderr",
     "output_type": "stream",
     "text": [
      "WARNING: You are using pip version 21.3.1; however, version 22.0.3 is available.\n",
      "You should consider upgrading via the 'c:\\users\\asus\\appdata\\local\\programs\\python\\python38\\python.exe -m pip install --upgrade pip' command.\n"
     ]
    },
    {
     "name": "stdout",
     "output_type": "stream",
     "text": [
      "\n"
     ]
    }
   ],
   "source": [
    "!pip install pygame"
   ]
  },
  {
   "cell_type": "code",
   "execution_count": null,
   "metadata": {
    "colab": {
     "base_uri": "https://localhost:8080/"
    },
    "id": "ALuocWS5zIg1",
    "outputId": "c226087a-c9be-4a15-9bdf-ab8ec02c4c9d"
   },
   "outputs": [],
   "source": []
  },
  {
   "cell_type": "code",
   "execution_count": 1,
   "metadata": {
    "colab": {
     "base_uri": "https://localhost:8080/",
     "height": 235
    },
    "id": "7V6Tg-LPzIeM",
    "outputId": "8399a425-a5be-49d5-8a5c-590004f0d62e"
   },
   "outputs": [
    {
     "name": "stdout",
     "output_type": "stream",
     "text": [
      "pygame 2.1.2 (SDL 2.0.18, Python 3.8.9)\n",
      "Hello from the pygame community. https://www.pygame.org/contribute.html\n"
     ]
    },
    {
     "ename": "KeyboardInterrupt",
     "evalue": "",
     "output_type": "error",
     "traceback": [
      "\u001b[1;31m---------------------------------------------------------------------------\u001b[0m",
      "\u001b[1;31mKeyboardInterrupt\u001b[0m                         Traceback (most recent call last)",
      "\u001b[1;32mc:\\Users\\Asus\\Desktop\\Notebooks\\Python\\snow_fall.ipynb Cell 4'\u001b[0m in \u001b[0;36m<module>\u001b[1;34m\u001b[0m\n\u001b[0;32m     <a href='vscode-notebook-cell:/c%3A/Users/Asus/Desktop/Notebooks/Python/snow_fall.ipynb#ch0000003?line=31'>32</a>\u001b[0m             snowFall[i][\u001b[39m1\u001b[39m] \u001b[39m=\u001b[39m x\n\u001b[0;32m     <a href='vscode-notebook-cell:/c%3A/Users/Asus/Desktop/Notebooks/Python/snow_fall.ipynb#ch0000003?line=33'>34</a>\u001b[0m     pygame\u001b[39m.\u001b[39mdisplay\u001b[39m.\u001b[39mflip()\n\u001b[1;32m---> <a href='vscode-notebook-cell:/c%3A/Users/Asus/Desktop/Notebooks/Python/snow_fall.ipynb#ch0000003?line=34'>35</a>\u001b[0m     clock\u001b[39m.\u001b[39;49mtick(\u001b[39m20\u001b[39;49m)\n\u001b[0;32m     <a href='vscode-notebook-cell:/c%3A/Users/Asus/Desktop/Notebooks/Python/snow_fall.ipynb#ch0000003?line=35'>36</a>\u001b[0m pygame\u001b[39m.\u001b[39mquit()\n",
      "\u001b[1;31mKeyboardInterrupt\u001b[0m: "
     ]
    }
   ],
   "source": [
    "import pygame\n",
    "import random\n",
    "pygame.init()\n",
    "\n",
    "WHITE = [255, 255, 255]\n",
    "BLACK = [0, 0, 0]\n",
    "SIZE = [800, 600]\n",
    "\n",
    "screen = pygame.display.set_mode(SIZE)\n",
    "pygame.display.set_caption(\"Snow Fall\")\n",
    "\n",
    "snowFall = []\n",
    "for i in range(50):\n",
    "    x = random.randrange(0, 800)\n",
    "    y = random.randrange(0, 400)\n",
    "    snowFall.append([x,y])\n",
    "    clock = pygame.time.Clock()\n",
    "while True:\n",
    "    for event in pygame.event.get():\n",
    "        if event.type == pygame.QUIT:\n",
    "            break\n",
    "    screen.fill(BLACK)\n",
    "    for i in range (len(snowFall)):\n",
    "        pygame.draw.circle(screen, WHITE, snowFall[i],2)\n",
    "\n",
    "        snowFall[i][1] += 1\n",
    "        if snowFall [i][1]>400:\n",
    "            y = random.randrange(-50, -10)\n",
    "            snowFall [i][1] = y\n",
    "\n",
    "            x = random.randrange(0, 800)\n",
    "            snowFall[i][1] = x\n",
    "\n",
    "    pygame.display.flip()\n",
    "    clock.tick(20)\n",
    "pygame.quit()"
   ]
  },
  {
   "cell_type": "code",
   "execution_count": 1,
   "metadata": {
    "id": "Zvrqw-6czIb8"
   },
   "outputs": [
    {
     "name": "stdout",
     "output_type": "stream",
     "text": [
      "Adjective: awesome\n",
      "Verb: play\n",
      "Verb: piss of\n",
      "Famous person: Elvis Presley\n",
      " Computer programming is so awesome! It makes me so excited all the time because I love to play. Stay hydrated and piss of like you are Elvis Presley!\n"
     ]
    }
   ],
   "source": [
    "\n",
    "adj = input(\"Adjective: \")\n",
    "verb1 = input(\"Verb: \")\n",
    "verb2 = input(\"Verb: \")\n",
    "famous_person = input(\"Famous person: \")\n",
    "madlib = f\" Computer programming is so {adj}! It makes me \\\n",
    "so excited all the time because I love to {verb1}. Stay hydrated and {verb2} \\\n",
    "like you are {famous_person}!\"\n",
    "print(madlib)"
   ]
  },
  {
   "cell_type": "code",
   "execution_count": null,
   "metadata": {
    "id": "WmApX_8gzIZf"
   },
   "outputs": [],
   "source": []
  },
  {
   "cell_type": "code",
   "execution_count": null,
   "metadata": {
    "id": "WN0apI33zIW2"
   },
   "outputs": [],
   "source": []
  },
  {
   "cell_type": "code",
   "execution_count": null,
   "metadata": {
    "id": "GQEKJZYZzIQV"
   },
   "outputs": [],
   "source": []
  }
 ],
 "metadata": {
  "colab": {
   "collapsed_sections": [],
   "name": "snow_fall.ipynb",
   "provenance": []
  },
  "kernelspec": {
   "display_name": "Python 3 (ipykernel)",
   "language": "python",
   "name": "python3"
  },
  "language_info": {
   "codemirror_mode": {
    "name": "ipython",
    "version": 3
   },
   "file_extension": ".py",
   "mimetype": "text/x-python",
   "name": "python",
   "nbconvert_exporter": "python",
   "pygments_lexer": "ipython3",
   "version": "3.8.9"
  }
 },
 "nbformat": 4,
 "nbformat_minor": 1
}
