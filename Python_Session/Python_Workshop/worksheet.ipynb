{
 "cells": [
  {
   "cell_type": "markdown",
   "metadata": {},
   "source": [
    "```python\n",
    "\n",
    "Given a non-empty string and an int n, return a new string where the character at index n has been removed. The value of n will be a valid index of a character in the original string (i.e. n will be in the range 0....len(str)-1 inclusive).\n",
    "For example:\n",
    "\n",
    "Test\tResult\n",
    "print(missing_char('kitchen', 1))\n",
    "ktchen\n",
    "print(missing_char('kitchen', 0))\n",
    "itchen\n",
    "print(missing_char('kitchen', 4))\n",
    "kitcen\n",
    "\n",
    "```"
   ]
  },
  {
   "cell_type": "code",
   "execution_count": 18,
   "metadata": {},
   "outputs": [
    {
     "name": "stdout",
     "output_type": "stream",
     "text": [
      "t\n"
     ]
    }
   ],
   "source": [
    "\n",
    "def missing_char(string,n):\n",
    "    a = []\n",
    "    if n in range(len(string)-1):\n",
    "        print(string[n])\n",
    "    else:\n",
    "        print(\"Try again\")\n",
    "\n",
    "missing_char(\"kitchen\",2)\n"
   ]
  },
  {
   "cell_type": "code",
   "execution_count": 29,
   "metadata": {},
   "outputs": [
    {
     "data": {
      "text/plain": [
       "['k', 'i', 'c', 'h', 'e', 'n']"
      ]
     },
     "execution_count": 29,
     "metadata": {},
     "output_type": "execute_result"
    }
   ],
   "source": [
    "\n",
    "def missing_char(string,n):\n",
    "    a = list(string)\n",
    "    b =\"\"\n",
    "    if n in range(len(string)-1):\n",
    "        a.remove(string[n])\n",
    "        return a\n",
    "    else:\n",
    "        print(\"Try again\")\n",
    "\n",
    "missing_char(\"kitchen\",2)\n"
   ]
  },
  {
   "cell_type": "code",
   "execution_count": 33,
   "metadata": {},
   "outputs": [
    {
     "data": {
      "text/plain": [
       "'kichen'"
      ]
     },
     "execution_count": 33,
     "metadata": {},
     "output_type": "execute_result"
    }
   ],
   "source": [
    "\n",
    "def missing_char(word,n):\n",
    "    a = list(word)\n",
    "    b =[]\n",
    "    \n",
    "    if n in range(len(word)-1):\n",
    "        a.remove(word[n])\n",
    "        b = \"\".join(a)\n",
    "        return b\n",
    "    else:\n",
    "        print(\"Try again\")\n",
    "\n",
    "missing_char(\"kitchen\",2)\n",
    "\n",
    "# we are done here\n"
   ]
  },
  {
   "cell_type": "markdown",
   "metadata": {},
   "source": [
    "```python\n",
    "\n",
    "Given a string, return a new string where the first and last chars have been exchanged.\n",
    "For example:\n",
    "\n",
    "Test\tResult\n",
    "print(front_back('clarusway'))\n",
    "ylaruswac\n",
    "print(front_back('a'))\n",
    "a\n",
    "print(front_back('ab'))\n",
    "ba\n",
    "```"
   ]
  },
  {
   "cell_type": "code",
   "execution_count": 10,
   "metadata": {},
   "outputs": [
    {
     "data": {
      "text/plain": [
       "'a'"
      ]
     },
     "execution_count": 10,
     "metadata": {},
     "output_type": "execute_result"
    }
   ],
   "source": [
    "def front_back(word):\n",
    "    a = list(word)\n",
    "    \n",
    "    for i in word.split():\n",
    "        if len(word) > 1:\n",
    "            c = word[0]\n",
    "            d = word[-1]\n",
    "            e = word[1:-1]\n",
    "            f = d+e+c\n",
    "        else:\n",
    "            f = word\n",
    "            \n",
    "    return f\n",
    "\n",
    "        #     b = \"\".join(a)\n",
    "        #     return b\n",
    "        # else:\n",
    "        #     print(\"Try again\")\n",
    "\n",
    "front_back(\"a\")"
   ]
  },
  {
   "cell_type": "code",
   "execution_count": null,
   "metadata": {},
   "outputs": [],
   "source": []
  },
  {
   "cell_type": "code",
   "execution_count": null,
   "metadata": {},
   "outputs": [],
   "source": []
  },
  {
   "cell_type": "code",
   "execution_count": null,
   "metadata": {},
   "outputs": [],
   "source": []
  }
 ],
 "metadata": {
  "interpreter": {
   "hash": "916dbcbb3f70747c44a77c7bcd40155683ae19c65e1c03b4aa3499c5328201f1"
  },
  "kernelspec": {
   "display_name": "Python 3.8.10 64-bit",
   "language": "python",
   "name": "python3"
  },
  "language_info": {
   "codemirror_mode": {
    "name": "ipython",
    "version": 3
   },
   "file_extension": ".py",
   "mimetype": "text/x-python",
   "name": "python",
   "nbconvert_exporter": "python",
   "pygments_lexer": "ipython3",
   "version": "3.8.10"
  },
  "orig_nbformat": 4
 },
 "nbformat": 4,
 "nbformat_minor": 2
}
