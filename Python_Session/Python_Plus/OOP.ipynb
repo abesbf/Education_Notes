{
 "cells": [
  {
   "cell_type": "code",
   "execution_count": 47,
   "metadata": {},
   "outputs": [
    {
     "data": {
      "text/plain": [
       "'TK123 sefer sayili BOD-ANT ucusumuz 40 dakika sürecektir'"
      ]
     },
     "execution_count": 47,
     "metadata": {},
     "output_type": "execute_result"
    }
   ],
   "source": [
    "class flight():\n",
    "    airline : \"THY\"\n",
    "\n",
    "    def __init__(self, code, departure, arrival, duration, capacity, passenger ):\n",
    "        self.code = code\n",
    "        self.departure = departure\n",
    "        self.arrival = arrival\n",
    "        self.duration = duration\n",
    "        self.capacity = capacity\n",
    "        self.passenger = passenger\n",
    "\n",
    "    def make_announce(self):\n",
    "        return \"{} sefer sayili {}-{} ucusumuz {} dakika sürecektir\".format(\n",
    "            self.code,\n",
    "            self.departure,\n",
    "            self.arrival,\n",
    "            self.duration)\n",
    "\n",
    "flight1 = flight(\"TK123\",\"BOD\",\"ANT\",40,250,200)\n",
    "\n",
    "flight1.make_announce()\n"
   ]
  },
  {
   "cell_type": "code",
   "execution_count": 41,
   "metadata": {},
   "outputs": [
    {
     "data": {
      "text/plain": [
       "'TK123 sefer sayili BOD-ANT ucusumuz 40 dakika sürecektir'"
      ]
     },
     "execution_count": 41,
     "metadata": {},
     "output_type": "execute_result"
    }
   ],
   "source": [
    "class Flight():\n",
    "    airline = \"THY\"\n",
    "\n",
    "    def __init__(self, code, departure, arrival, duration, capacity, passenger):\n",
    "        self.code = code\n",
    "        self.departure = departure\n",
    "        self.arrival = arrival\n",
    "        self.duration = duration\n",
    "        self.capacity = capacity\n",
    "        self.passenger = passenger\n",
    "\n",
    "    def make_announce(self):\n",
    "        return \"{} sefer sayili {}-{} ucusumuz {} dakika sürecektir\".format(\n",
    "            self.code,\n",
    "            self.departure,\n",
    "            self.arrival,\n",
    "            self.duration)\n",
    "\n",
    "    def update_seat_number(self):\n",
    "        return self.capacity - self.passenger\n",
    "\n",
    "    def ticket_sell(self, num_ticket = 1): # satılan bilet sayısı kadar sayısı güncelle\n",
    "        if self.passenger + num_ticket <= self.capacity:\n",
    "            self.passenger += num_ticket\n",
    "            self.update_seat_number()\n",
    "            print(\"{} adet bilet satılmıştır, kalan koltuk sayısı {}\".format(num_ticket,\n",
    "            self.update_seat_number()))\n",
    "        else:\n",
    "            print(\"Plane is full, no seat remained\")\n",
    "\n",
    "    def ticket_cancel(self, num_ticket = 1):\n",
    "        if self.passenger >= num_ticket:\n",
    "            self.passenger -= num_ticket\n",
    "            print(\"{} adet bilet iptal edilmiştir, güncel koltuk sayısı {}\".format(\n",
    "                num_ticket,\n",
    "                self.update_seat_number()\n",
    "            ))\n",
    "\n",
    "        else :\n",
    "            print(\"Plane is empty, no passenger remained\")\n",
    "\n",
    "\n",
    "flight1 = Flight(\"TK123\",\"BOD\",\"ANT\",40,250,205)\n",
    "\n",
    "flight1.make_announce()\n",
    "\n"
   ]
  },
  {
   "cell_type": "code",
   "execution_count": 42,
   "metadata": {},
   "outputs": [
    {
     "data": {
      "text/plain": [
       "45"
      ]
     },
     "execution_count": 42,
     "metadata": {},
     "output_type": "execute_result"
    }
   ],
   "source": [
    "flight1.update_seat_number()"
   ]
  },
  {
   "cell_type": "code",
   "execution_count": 44,
   "metadata": {},
   "outputs": [
    {
     "name": "stdout",
     "output_type": "stream",
     "text": [
      "5 adet bilet satılmıştır, kalan koltuk sayısı 35\n"
     ]
    }
   ],
   "source": [
    "flight1.ticket_sell(5)"
   ]
  },
  {
   "cell_type": "code",
   "execution_count": 17,
   "metadata": {},
   "outputs": [
    {
     "name": "stdout",
     "output_type": "stream",
     "text": [
      "Plane is full, no seat remained\n"
     ]
    }
   ],
   "source": [
    "flight1.ticket_sell(50)"
   ]
  },
  {
   "cell_type": "markdown",
   "metadata": {},
   "source": []
  },
  {
   "cell_type": "code",
   "execution_count": 31,
   "metadata": {},
   "outputs": [
    {
     "data": {
      "text/plain": [
       "39"
      ]
     },
     "execution_count": 31,
     "metadata": {},
     "output_type": "execute_result"
    }
   ],
   "source": [
    "flight1.update_seat_number()"
   ]
  },
  {
   "cell_type": "code",
   "execution_count": 45,
   "metadata": {},
   "outputs": [
    {
     "name": "stdout",
     "output_type": "stream",
     "text": [
      "100 adet bilet iptal edilmiştir, güncel koltuk sayısı 135\n"
     ]
    }
   ],
   "source": [
    "flight1.ticket_cancel(100)"
   ]
  },
  {
   "cell_type": "code",
   "execution_count": 37,
   "metadata": {},
   "outputs": [
    {
     "name": "stdout",
     "output_type": "stream",
     "text": [
      "Plane is empty, no passenger remained\n"
     ]
    }
   ],
   "source": [
    "flight1.ticket_cancel(160)"
   ]
  },
  {
   "cell_type": "code",
   "execution_count": 48,
   "metadata": {},
   "outputs": [
    {
     "name": "stdout",
     "output_type": "stream",
     "text": [
      "Fido\n",
      "Woof!\n"
     ]
    }
   ],
   "source": [
    "class Dog():\n",
    "    def __init__(self,name,color):\n",
    "        self.name = name\n",
    "        self.color = color\n",
    "\n",
    "    def bark(self):\n",
    "        print(\"Woof!\")\n",
    "\n",
    "fido = Dog(\"Fido\",\"brown\")\n",
    "print(fido.name)\n",
    "fido.bark()"
   ]
  },
  {
   "cell_type": "code",
   "execution_count": 49,
   "metadata": {},
   "outputs": [
    {
     "name": "stdout",
     "output_type": "stream",
     "text": [
      "2\n",
      "1\n"
     ]
    }
   ],
   "source": [
    "class A:\n",
    "    def spam(self):\n",
    "        print(1)\n",
    "class B(A):\n",
    "    def spam(self):\n",
    "        print(2)\n",
    "        super().spam()\n",
    "B().spam()"
   ]
  },
  {
   "cell_type": "code",
   "execution_count": 56,
   "metadata": {},
   "outputs": [
    {
     "name": "stdout",
     "output_type": "stream",
     "text": [
      "AKP\n"
     ]
    }
   ],
   "source": [
    "class A:\n",
    "    def party(self):\n",
    "        print(\"AKP\")\n",
    "class B(A):\n",
    "    def party(self):\n",
    "        print(\"CHP\")\n",
    "    def fathers(self):\n",
    "        super().party()\n",
    "B().fathers()"
   ]
  },
  {
   "cell_type": "code",
   "execution_count": 57,
   "metadata": {},
   "outputs": [
    {
     "name": "stdout",
     "output_type": "stream",
     "text": [
      "spam\n",
      "============\n",
      "Hello World!\n"
     ]
    }
   ],
   "source": [
    "class SpecialString:\n",
    "    def __init__(self,cont):\n",
    "        self.cont = cont\n",
    "\n",
    "    def __truediv__(self,other):\n",
    "        line = \"=\" * len(other.cont)\n",
    "        return \"\\n\".join([self.cont, line, other.cont])\n",
    "\n",
    "spam = SpecialString(\"spam\")\n",
    "hello = SpecialString(\"Hello World!\")\n",
    "print(spam/hello)"
   ]
  },
  {
   "cell_type": "code",
   "execution_count": null,
   "metadata": {},
   "outputs": [],
   "source": []
  },
  {
   "cell_type": "code",
   "execution_count": null,
   "metadata": {},
   "outputs": [],
   "source": []
  },
  {
   "cell_type": "code",
   "execution_count": null,
   "metadata": {},
   "outputs": [],
   "source": []
  }
 ],
 "metadata": {
  "interpreter": {
   "hash": "916dbcbb3f70747c44a77c7bcd40155683ae19c65e1c03b4aa3499c5328201f1"
  },
  "kernelspec": {
   "display_name": "Python 3.8.10 64-bit",
   "language": "python",
   "name": "python3"
  },
  "language_info": {
   "codemirror_mode": {
    "name": "ipython",
    "version": 3
   },
   "file_extension": ".py",
   "mimetype": "text/x-python",
   "name": "python",
   "nbconvert_exporter": "python",
   "pygments_lexer": "ipython3",
   "version": "3.8.10"
  },
  "orig_nbformat": 4
 },
 "nbformat": 4,
 "nbformat_minor": 2
}
